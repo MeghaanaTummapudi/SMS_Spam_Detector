{
  "cells": [
    {
      "cell_type": "code",
      "execution_count": null,
      "metadata": {
        "colab": {
          "base_uri": "https://localhost:8080/",
          "height": 478
        },
        "id": "8X4Iv5VdmIPD",
        "outputId": "f22bc209-2d79-4614-c17a-b08d4cca750a"
      },
      "outputs": [
        {
          "output_type": "stream",
          "name": "stderr",
          "text": [
            "/usr/local/lib/python3.7/dist-packages/seaborn/_decorators.py:43: FutureWarning: Pass the following variable as a keyword arg: x. From version 0.12, the only valid positional argument will be `data`, and passing other arguments without an explicit keyword will result in an error or misinterpretation.\n",
            "  FutureWarning\n"
          ]
        },
        {
          "output_type": "execute_result",
          "data": {
            "text/plain": [
              "14.45969884853853"
            ]
          },
          "metadata": {},
          "execution_count": 19
        },
        {
          "output_type": "display_data",
          "data": {
            "text/plain": [
              "<Figure size 576x432 with 1 Axes>"
            ],
            "image/png": "[encoded data removed]"
          },
          "metadata": {
            "needs_background": "light"
          }
        }
      ],
      "source": [
        "# we can observe imbalance data here \n",
        "plt.figure(figsize=(8,6))\n",
        "sns.countplot(messages.label)\n",
        "plt.title('Distribution of ham and spam messages (pre downsampling)')\n",
        "plt.xlabel('Message types')\n",
        "# Percentage of spam messages\n",
        "(len(spam_msg)/len(ham_msg))*100 # 14.26%"
      ]
    },
    {
      "cell_type": "code",
      "execution_count": null,
      "metadata": {
        "colab": {
          "base_uri": "https://localhost:8080/"
        },
        "id": "3QF-WoT0mOnW",
        "outputId": "f15c252a-55ce-409a-b24c-b425fe339247"
      },
      "outputs": [
        {
          "output_type": "stream",
          "name": "stdout",
          "text": [
            "(653, 2) (653, 2)\n"
          ]
        }
      ],
      "source": [
        "#one way to fix it is to downsample the ham msg\n",
        "ham_msg_df = ham_msg.sample(n = len(spam_msg), random_state = 44)\n",
        "spam_msg_df = spam_msg\n",
        "print(ham_msg_df.shape, spam_msg_df.shape)"
      ]
    },
    {
      "cell_type": "code",
      "execution_count": null,
      "metadata": {
        "colab": {
          "base_uri": "https://localhost:8080/",
          "height": 478
        },
        "id": "svglo2RlmQ3H",
        "outputId": "979c0d1b-b48c-42c7-ff5f-b65d5e1fdee1"
      },
      "outputs": [
        {
          "output_type": "stream",
          "name": "stderr",
          "text": [
            "/usr/local/lib/python3.7/dist-packages/seaborn/_decorators.py:43: FutureWarning: Pass the following variable as a keyword arg: x. From version 0.12, the only valid positional argument will be `data`, and passing other arguments without an explicit keyword will result in an error or misinterpretation.\n",
            "  FutureWarning\n"
          ]
        },
        {
          "output_type": "execute_result",
          "data": {
            "text/plain": [
              "Text(0.5, 0, 'Message types')"
            ]
          },
          "metadata": {},
          "execution_count": 21
        },
        {
          "output_type": "display_data",
          "data": {
            "text/plain": [
              "<Figure size 576x432 with 1 Axes>"
            ],
            "image/png": "[encoded data removed]"
          },
          "metadata": {
            "needs_background": "light"
          }
        }
      ],
      "source": [
        "#Create a dataframe with these ham and spam msg\n",
        "msg_df = ham_msg_df.append(spam_msg_df).reset_index(drop=True)\n",
        "plt.figure(figsize=(8,6))\n",
        "sns.countplot(msg_df.label)\n",
        "plt.title('Distribution of ham and spam messages (post downsampling)')\n",
        "plt.xlabel('Message types')"
      ]
    },
    {
      "cell_type": "code",
      "execution_count": null,
      "metadata": {
        "colab": {
          "base_uri": "https://localhost:8080/",
          "height": 143
        },
        "id": "EOTQ3Vx3mUBK",
        "outputId": "7422280e-4863-4e97-b58a-346c77defaa4"
      },
      "outputs": [
        {
          "output_type": "execute_result",
          "data": {
            "text/plain": [
              "       text_length\n",
              "label             \n",
              "ham      70.633997\n",
              "spam    137.704441"
            ],
            "text/html": [
              "\n",
              "  <div id=\"df-1fd59443-7266-4010-9b06-6fdd670eee13\">\n",
              "    <div class=\"colab-df-container\">\n",
              "      <div>\n",
              "<style scoped>\n",
              "    .dataframe tbody tr th:only-of-type {\n",
              "        vertical-align: middle;\n",
              "    }\n",
              "\n",
              "    .dataframe tbody tr th {\n",
              "        vertical-align: top;\n",
              "    }\n",
              "\n",
              "    .dataframe thead th {\n",
              "        text-align: right;\n",
              "    }\n",
              "</style>\n",
              "<table border=\"1\" class=\"dataframe\">\n",
              "  <thead>\n",
              "    <tr style=\"text-align: right;\">\n",
              "      <th></th>\n",
              "      <th>text_length</th>\n",
              "    </tr>\n",
              "    <tr>\n",
              "      <th>label</th>\n",
              "      <th></th>\n",
              "    </tr>\n",
              "  </thead>\n",
              "  <tbody>\n",
              "    <tr>\n",
              "      <th>ham</th>\n",
              "      <td>70.633997</td>\n",
              "    </tr>\n",
              "    <tr>\n",
              "      <th>spam</th>\n",
              "      <td>137.704441</td>\n",
              "    </tr>\n",
              "  </tbody>\n",
              "</table>\n",
              "</div>\n",
              "      <button class=\"colab-df-convert\" onclick=\"convertToInteractive('df-1fd59443-7266-4010-9b06-6fdd670eee13')\"\n",
              "              title=\"Convert this dataframe to an interactive table.\"\n",
              "              style=\"display:none;\">\n",
              "        \n",
              "  <svg xmlns=\"http://www.w3.org/2000/svg\" height=\"24px\"viewBox=\"0 0 24 24\"\n",
              "       width=\"24px\">\n",
              "    <path d=\"M0 0h24v24H0V0z\" fill=\"none\"/>\n",
              "    <path d=\"M18.56 5.44l.94 2.06.94-2.06 2.06-.94-2.06-.94-.94-2.06-.94 2.06-2.06.94zm-11 1L8.5 8.5l.94-2.06 2.06-.94-2.06-.94L8.5 2.5l-.94 2.06-2.06.94zm10 10l.94 2.06.94-2.06 2.06-.94-2.06-.94-.94-2.06-.94 2.06-2.06.94z\"/><path d=\"M17.41 7.96l-1.37-1.37c-.4-.4-.92-.59-1.43-.59-.52 0-1.04.2-1.43.59L10.3 9.45l-7.72 7.72c-.78.78-.78 2.05 0 2.83L4 21.41c.39.39.9.59 1.41.59.51 0 1.02-.2 1.41-.59l7.78-7.78 2.81-2.81c.8-.78.8-2.07 0-2.86zM5.41 20L4 18.59l7.72-7.72 1.47 1.35L5.41 20z\"/>\n",
              "  </svg>\n",
              "      </button>\n",
              "      \n",
              "  <style>\n",
              "    .colab-df-container {\n",
              "      display:flex;\n",
              "      flex-wrap:wrap;\n",
              "      gap: 12px;\n",
              "    }\n",
              "\n",
              "    .colab-df-convert {\n",
              "      background-color: #E8F0FE;\n",
              "      border: none;\n",
              "      border-radius: 50%;\n",
              "      cursor: pointer;\n",
              "      display: none;\n",
              "      fill: #1967D2;\n",
              "      height: 32px;\n",
              "      padding: 0 0 0 0;\n",
              "      width: 32px;\n",
              "    }\n",
              "\n",
              "    .colab-df-convert:hover {\n",
              "      background-color: #E2EBFA;\n",
              "      box-shadow: 0px 1px 2px rgba(60, 64, 67, 0.3), 0px 1px 3px 1px rgba(60, 64, 67, 0.15);\n",
              "      fill: #174EA6;\n",
              "    }\n",
              "\n",
              "    [theme=dark] .colab-df-convert {\n",
              "      background-color: #3B4455;\n",
              "      fill: #D2E3FC;\n",
              "    }\n",
              "\n",
              "    [theme=dark] .colab-df-convert:hover {\n",
              "      background-color: #434B5C;\n",
              "      box-shadow: 0px 1px 3px 1px rgba(0, 0, 0, 0.15);\n",
              "      filter: drop-shadow(0px 1px 2px rgba(0, 0, 0, 0.3));\n",
              "      fill: #FFFFFF;\n",
              "    }\n",
              "  </style>\n",
              "\n",
              "      <script>\n",
              "        const buttonEl =\n",
              "          document.querySelector('#df-1fd59443-7266-4010-9b06-6fdd670eee13 button.colab-df-convert');\n",
              "        buttonEl.style.display =\n",
              "          google.colab.kernel.accessAllowed ? 'block' : 'none';\n",
              "\n",
              "        async function convertToInteractive(key) {\n",
              "          const element = document.querySelector('#df-1fd59443-7266-4010-9b06-6fdd670eee13');\n",
              "          const dataTable =\n",
              "            await google.colab.kernel.invokeFunction('convertToInteractive',\n",
              "                                                     [key], {});\n",
              "          if (!dataTable) return;\n",
              "\n",
              "          const docLinkHtml = 'Like what you see? Visit the ' +\n",
              "            '<a target=\"_blank\" href=https://colab.research.google.com/notebooks/data_table.ipynb>data table notebook</a>'\n",
              "            + ' to learn more about interactive tables.';\n",
              "          element.innerHTML = '';\n",
              "          dataTable['output_type'] = 'display_data';\n",
              "          await google.colab.output.renderOutput(dataTable, element);\n",
              "          const docLink = document.createElement('div');\n",
              "          docLink.innerHTML = docLinkHtml;\n",
              "          element.appendChild(docLink);\n",
              "        }\n",
              "      </script>\n",
              "    </div>\n",
              "  </div>\n",
              "  "
            ]
          },
          "metadata": {},
          "execution_count": 22
        }
      ],
      "source": [
        "# Get length column for each text\n",
        "msg_df['text_length'] = msg_df['message'].apply(len)\n",
        "#Calculate average length by label types\n",
        "labels = msg_df.groupby('label').mean()\n",
        "labels"
      ]
    },
    {
      "cell_type": "code",
      "source": [
        "#splitting data into train and test datasets\n",
        "x=messages.message\n",
        "y=messages.label\n",
        "x_train1,x_test1,y_train1,y_test1=train_test_split(x,y,test_size=0.20,random_state=42)"
      ],
      "metadata": {
        "id": "YLGIEmN4SJNG"
      },
      "execution_count": null,
      "outputs": []
    },
    {
      "cell_type": "code",
      "source": [
        "#encoding the train and test datasets\n",
        "from sklearn import preprocessing\n",
        "\n",
        "le = preprocessing.LabelEncoder()\n",
        "\n",
        "# fit on train labels and transform both train and validation labels\n",
        "X_train_lenc = x_train1.tolist()\n",
        "X_val_lenc = x_test1.tolist()\n",
        "\n",
        "X_train_lenc = le.fit_transform(x_train1)\n",
        "X_val_lenc = le.fit_transform(x_test1)\n",
        "\n",
        "y_train_lenc = y_train1.tolist()\n",
        "y_val_lenc = y_test1.tolist()\n",
        "\n",
        "y_train_lenc = le.fit_transform(y_train1)\n",
        "y_val_lenc = le.fit_transform(y_test1)"
      ],
      "metadata": {
        "id": "5SgyWKg1SJ1d"
      },
      "execution_count": null,
      "outputs": []
    },
    {
      "cell_type": "code",
      "source": [
        "from tensorflow.keras.preprocessing.sequence import pad_sequences\n",
        "from tensorflow.keras.preprocessing.text import Tokenizer\n",
        " \n",
        "# Fitting tokenizer on the training data                                  #\n",
        "\n",
        "t = Tokenizer()\n",
        "t.fit_on_texts(x_train1)\n",
        "                                                                         \n",
        "# Create the word_index dictionary using the tokenizer                                          #\n",
        "# Find the vocabulary of your training reviews                                                  #\n",
        "\n",
        "word_index = {}\n",
        "\n",
        "vocabulary = t.word_index\n",
        "\n",
        "# Convert the messages in the dataset to their index form        #\n",
        "\n",
        "encoded_train = t.texts_to_sequences(x_train1)\n",
        "encoded_test = t.texts_to_sequences(x_test1)\n",
        "\n",
        "# Pad the the training and validation sequences so all of them have the same length             # \n",
        "\n",
        "padded_train = pad_sequences(encoded_train, maxlen=200, padding='post')\n",
        "padded_test = pad_sequences(encoded_test, maxlen=200, padding='post')\n",
        "print('Vocabulary : {}'.format(vocabulary))"
      ],
      "metadata": {
        "colab": {
          "base_uri": "https://localhost:8080/"
        },
        "id": "oJXfCIH-Tfih",
        "outputId": "edd0c724-5c0b-4550-ed75-d67a9cbc5736"
      },
      "execution_count": null,
      "outputs": [
        {
          "output_type": "stream",
          "name": "stdout",
          "text": [
            "Vocabulary : {'u': 1, 'call': 2, 'im': 3, '2': 4, 'get': 5, 'ur': 6, 'go': 7, 'dont': 8, '4': 9, 'ok': 10, 'know': 11, 'ltgt': 12, 'good': 13, 'free': 14, 'like': 15, 'come': 16, 'day': 17, 'got': 18, 'time': 19, 'want': 20, 'text': 21, 'ill': 22, 'love': 23, 'one': 24, 'need': 25, 'ü': 26, 'going': 27, 'send': 28, 'still': 29, 'home': 30, 'lor': 31, 'see': 32, 'r': 33, 'today': 34, 'think': 35, 'back': 36, 'take': 37, 'da': 38, 'well': 39, 'tell': 40, 'stop': 41, 'hi': 42, 'txt': 43, 'reply': 44, 'new': 45, 'n': 46, 'mobile': 47, 'sorry': 48, 'please': 49, 'oh': 50, 'phone': 51, 'much': 52, 'make': 53, 'night': 54, 'give': 55, 'week': 56, 'happy': 57, 'great': 58, 'say': 59, 'hope': 60, 'thing': 61, 'hey': 62, 'number': 63, 'claim': 64, 'already': 65, 'work': 66, 'friend': 67, 'cant': 68, 'way': 69, 'later': 70, 'thats': 71, 'wat': 72, 'yeah': 73, 'message': 74, 'let': 75, 'pls': 76, 'dear': 77, 'c': 78, 'right': 79, 'msg': 80, 'ask': 81, 'yes': 82, 'meet': 83, 'tomorrow': 84, 'ive': 85, 'really': 86, 'e': 87, 'would': 88, 'said': 89, 'babe': 90, 'didnt': 91, 'thanks': 92, 'miss': 93, 'prize': 94, 'keep': 95, 'min': 96, 'co': 97, 'lol': 98, 'service': 99, 'morning': 100, 'year': 101, 'anything': 102, 'feel': 103, 'b': 104, 'life': 105, '3': 106, '1': 107, 'sure': 108, 'find': 109, 'tone': 110, 'care': 111, 'k': 112, 'last': 113, 'ya': 114, 'even': 115, 'next': 116, 'amp': 117, 'every': 118, 'wait': 119, 'also': 120, 'contact': 121, 'something': 122, 'sleep': 123, 'tonight': 124, 'could': 125, 'dun': 126, 'cash': 127, 'pick': 128, 'buy': 129, 'around': 130, 'urgent': 131, 'guy': 132, 'sent': 133, 'late': 134, 'always': 135, 'soon': 136, 'someone': 137, 'many': 138, 'chat': 139, 'nokia': 140, 'wont': 141, 'gonna': 142, 'leave': 143, 'first': 144, 'yet': 145, 'thought': 146, 'wish': 147, 'wan': 148, 'v': 149, 'win': 150, 'youre': 151, 'getting': 152, 'gud': 153, 'help': 154, 'end': 155, 'class': 156, 'customer': 157, 'told': 158, 'show': 159, 'went': 160, 'place': 161, 'may': 162, 'try': 163, 'word': 164, 'money': 165, 'lot': 166, 'havent': 167, 'waiting': 168, 'best': 169, 'minute': 170, 'finish': 171, 'hows': 172, 'done': 173, 'per': 174, 'hour': 175, 'bit': 176, 'name': 177, 'fine': 178, 'talk': 179, 'tc': 180, 'problem': 181, 'nothing': 182, 'plan': 183, 'month': 184, 'x': 185, 'stuff': 186, 'nice': 187, 'coming': 188, 'yup': 189, 'girl': 190, 'thk': 191, 'guaranteed': 192, 'line': 193, 'hello': 194, 'haha': 195, 'mind': 196, '16': 197, 'cost': 198, 'people': 199, 'never': 200, '1000': 201, 'offer': 202, 'better': 203, 'ready': 204, 'car': 205, 'check': 206, 'use': 207, 'lar': 208, 'live': 209, 'long': 210, 'holiday': 211, 'person': 212, 'house': 213, 'might': 214, 'yo': 215, 'luv': 216, 'bed': 217, 'trying': 218, 'meeting': 219, 'heart': 220, 'enjoy': 221, 'half': 222, 'man': 223, 'dat': 224, 'special': 225, 'look': 226, 'weekend': 227, 'mean': 228, 'start': 229, 'eat': 230, '2000': 231, 'guess': 232, 'probably': 233, 'early': 234, 'another': 235, 'receive': 236, 'draw': 237, 'cool': 238, '150': 239, '18': 240, 'lunch': 241, 'job': 242, 'awarded': 243, 'bad': 244, 'jus': 245, 'shit': 246, 'maybe': 247, '500': 248, 'kiss': 249, 'ah': 250, 'shes': 251, 'smile': 252, 'real': 253, 'thank': 254, 'sm': 255, 'game': 256, 'room': 257, 'dinner': 258, 'quite': 259, 'school': 260, '100': 261, 'point': 262, 'den': 263, 'tmr': 264, 'id': 265, 'left': 266, 'latest': 267, 'anyway': 268, 'dis': 269, 'ever': 270, 'little': 271, 'chance': 272, 'aight': 273, 'account': 274, 'apply': 275, 'wanna': 276, 'god': 277, 'wanted': 278, 'pa': 279, '5': 280, 'play': 281, 'fun': 282, 'watching': 283, 'princess': 284, 'xxx': 285, '1st': 286, 'he': 287, 'hear': 288, 'working': 289, 'everything': 290, 'speak': 291, 'boy': 292, 'voucher': 293, 'pay': 294, 'there': 295, 'landline': 296, 'town': 297, 'whats': 298, 'sweet': 299, 'made': 300, 'forgot': 301, 'thanx': 302, 'stay': 303, 'able': 304, 'two': 305, 'called': 306, 'big': 307, 'sound': 308, 'must': 309, 'baby': 310, 'rate': 311, 'liao': 312, 'watch': 313, 'actually': 314, 'reach': 315, 'shopping': 316, 'remember': 317, 'okay': 318, 'fuck': 319, 'mate': 320, 'sir': 321, 'pic': 322, 'plus': 323, 'put': 324, 'lesson': 325, 'afternoon': 326, 'dunno': 327, 'abt': 328, 'hurt': 329, 'wake': 330, 'network': 331, '6': 332, 'video': 333, '150ppm': 334, 'world': 335, 'bring': 336, 'orange': 337, 'bus': 338, 'run': 339, 'leh': 340, 'change': 341, 'evening': 342, 'dad': 343, 'g': 344, 'making': 345, 'enough': 346, 'xmas': 347, 'away': 348, 'hav': 349, 'wif': 350, 'birthday': 351, 'detail': 352, 'though': 353, 'movie': 354, 'tv': 355, 'worry': 356, 'book': 357, 'wot': 358, 'question': 359, 'code': 360, 'hair': 361, 'looking': 362, 'trip': 363, 'box': 364, 'part': 365, 'ringtone': 366, 'sat': 367, 'collect': 368, 'bored': 369, 'office': 370, '2nd': 371, 'else': 372, 'dream': 373, 'til': 374, 'saw': 375, 'feeling': 376, 'important': 377, 'wk': 378, 'pain': 379, 'join': 380, 'till': 381, 'si': 382, 'nite': 383, 'price': 384, 'sexy': 385, 'haf': 386, 'ring': 387, 'since': 388, 'doesnt': 389, 'credit': 390, 'tried': 391, 'came': 392, 'selected': 393, 'order': 394, 'mom': 395, 'online': 396, 'true': 397, 'missing': 398, 'gift': 399, 'oso': 400, 'without': 401, 'attempt': 402, 'alright': 403, 'entry': 404, 'family': 405, 'food': 406, '10': 407, 'shall': 408, 'busy': 409, 'lei': 410, 'easy': 411, 'award': 412, 'happen': 413, 'believe': 414, 'mail': 415, 'ard': 416, 'walk': 417, 'sad': 418, 'rite': 419, '7': 420, 'age': 421, 'finished': 422, 'juz': 423, 'charge': 424, 'camera': 425, 'uk': 426, 'sch': 427, 'saying': 428, 'smoke': 429, 'full': 430, 'drink': 431, 'address': 432, 'test': 433, 'set': 434, 'goin': 435, 'top': 436, 'de': 437, 'date': 438, '8007': 439, 'plz': 440, 'together': 441, 'brother': 442, 'hot': 443, 'noe': 444, 'wen': 445, 'either': 446, 'huh': 447, 'valid': 448, 'break': 449, 'thinking': 450, 'yr': 451, 'asked': 452, 'weekly': 453, 'old': 454, 'missed': 455, 'pound': 456, 'collection': 457, 'shop': 458, 'started': 459, 'player': 460, 'yesterday': 461, 'content': 462, 'bt': 463, 'close': 464, 'took': 465, 'anytime': 466, 'head': 467, 'pub': 468, 'valentine': 469, 'drive': 470, 'po': 471, 'music': 472, 'driving': 473, 'mob': 474, '750': 475, 'delivery': 476, 'card': 477, 'neva': 478, 'wil': 479, 'tot': 480, 'beautiful': 481, 'leaving': 482, 'mum': 483, 'frnd': 484, 'wit': 485, 'dude': 486, 'happened': 487, 'mine': 488, 'ltdecimalgt': 489, 'anyone': 490, 'land': 491, 'double': 492, 'alone': 493, 'update': 494, '150p': 495, 'answer': 496, 'tho': 497, 'treat': 498, 'match': 499, 'colour': 500, 'company': 501, 'loving': 502, 'touch': 503, '08000930705': 504, 'sae': 505, 'hold': 506, 'eve': 507, 'cause': 508, 'lucky': 509, 'bonus': 510, 'saturday': 511, 'open': 512, 'isnt': 513, 'smiling': 514, 'everyone': 515, 'finally': 516, 'w': 517, '250': 518, 'gr8': 519, 'hand': 520, 'reason': 521, 'bout': 522, 'crazy': 523, 'fri': 524, 'mu': 525, 'unsubscribe': 526, 'aft': 527, 'youll': 528, 'exam': 529, 'couple': 530, '800': 531, 'drop': 532, '9': 533, 'whatever': 534, 'search': 535, 'simple': 536, 'calling': 537, 'outside': 538, 'bank': 539, 'club': 540, 'camcorder': 541, '5000': 542, 'awesome': 543, 'prob': 544, 'caller': 545, 'college': 546, 'download': 547, 'kind': 548, 'smth': 549, 'sleeping': 550, 'forget': 551, 'face': 552, 'email': 553, 'ticket': 554, 'computer': 555, 'found': 556, 'tomo': 557, 'nope': 558, 'lost': 559, '12hrs': 560, 'etc': 561, 'decided': 562, 'gas': 563, 'fone': 564, 'carlos': 565, 'as': 566, 'taking': 567, 'auction': 568, 'hit': 569, 'secret': 570, 'hungry': 571, 'oredi': 572, 'wasnt': 573, 'wow': 574, 'friday': 575, 'xx': 576, 'used': 577, 'uncle': 578, 'sun': 579, 'story': 580, 'bath': 581, 'shower': 582, 'eg': 583, 'winner': 584, 'luck': 585, 'type': 586, 'light': 587, 'nt': 588, 'knew': 589, 'far': 590, 'private': 591, 'tscs': 592, 'project': 593, 'expires': 594, 'sea': 595, '10p': 596, 'congrats': 597, 'fucking': 598, 'seeing': 599, 'post': 600, 'area': 601, 'wonder': 602, 'poly': 603, 'operator': 604, 'grin': 605, 'cut': 606, 'sex': 607, 'gone': 608, 'laptop': 609, 'statement': 610, 'pretty': 611, 'boytoy': 612, 'st': 613, 'moment': 614, 'await': 615, 'hee': 616, 'least': 617, 'telling': 618, 'choose': 619, 'coz': 620, 'march': 621, 'course': 622, 'park': 623, 'final': 624, 'loved': 625, 'yar': 626, 'mah': 627, 'earlier': 628, 'news': 629, 'train': 630, 'read': 631, 'drug': 632, 'ha': 633, 'worth': 634, 'laugh': 635, 'listen': 636, 'link': 637, 'store': 638, 'knw': 639, 'figure': 640, 'move': 641, 'pas': 642, 'sending': 643, 'congratulation': 644, '50': 645, 'wife': 646, 'fast': 647, 'safe': 648, 'nah': 649, 'welcome': 650, 'rock': 651, 'paper': 652, 'wonderful': 653, 'weed': 654, 'yep': 655, 'party': 656, 'jay': 657, 'understand': 658, 'promise': 659, 'mayb': 660, 'page': 661, 'freemsg': 662, 'christmas': 663, 'gotta': 664, 'cd': 665, 'gd': 666, 'eh': 667, 'comin': 668, 'darlin': 669, 'term': 670, 'snow': 671, 'almost': 672, 'whenever': 673, 'semester': 674, 'india': 675, 'song': 676, 'parent': 677, 'wats': 678, 'pete': 679, 'charged': 680, 'whole': 681, 'okie': 682, 'hospital': 683, 'wrong': 684, '200': 685, 'swing': 686, 'hmm': 687, 'die': 688, 'load': 689, 'lose': 690, 'tel': 691, 'unlimited': 692, 'unredeemed': 693, 'identifier': 694, 'wana': 695, 'goodmorning': 696, 'bcoz': 697, 'tired': 698, 'round': 699, 'ipod': 700, 'spend': 701, 'usf': 702, 'fantastic': 703, 'fr': 704, 'seen': 705, 'ni8': 706, 'eye': 707, '10pmin': 708, 'heard': 709, 'cum': 710, 'support': 711, 'sport': 712, 'sister': 713, 'cheer': 714, 'chennai': 715, 'second': 716, 'rent': 717, 'oops': 718, 'bathe': 719, 'asap': 720, 'hard': 721, '12': 722, 'fancy': 723, 'single': 724, 'reaching': 725, 'ten': 726, 'dating': 727, 'ago': 728, 'others': 729, 'meant': 730, '86688': 731, 'ltd': 732, 'b4': 733, 'doin': 734, 'muz': 735, 'sort': 736, '87066': 737, 'door': 738, 'enter': 739, 'slow': 740, 'gal': 741, 'p': 742, 'darren': 743, 'youve': 744, 'difficult': 745, 'visit': 746, 'mrng': 747, 'currently': 748, 'stupid': 749, 'pm': 750, 'forever': 751, 'complimentary': 752, 'poor': 753, 'rental': 754, 'wid': 755, 'supposed': 756, 'available': 757, 'extra': 758, 'bill': 759, 'th': 760, 'nyt': 761, 'wondering': 762, 'water': 763, 'mistake': 764, 'somebody': 765, 'using': 766, 'unless': 767, 'workin': 768, '87077': 769, 'nobody': 770, 'asking': 771, 'immediately': 772, 'dead': 773, 'wap': 774, 'truth': 775, 'lect': 776, 'via': 777, 'access': 778, 'information': 779, 'user': 780, 'log': 781, 'surprise': 782, '2nite': 783, 'gay': 784, 'photo': 785, 'kate': 786, 'le': 787, 'buying': 788, 'monday': 789, 'fight': 790, 'friendship': 791, 'reading': 792, 'sell': 793, 'picking': 794, 'cheap': 795, 'aint': 796, 'fact': 797, 'specially': 798, 'felt': 799, 'sick': 800, 'motorola': 801, 'na': 802, 'lady': 803, 'film': 804, 'summer': 805, 'roommate': 806, '8': 807, 'short': 808, 'add': 809, 'worried': 810, 'men': 811, 'ice': 812, 'study': 813, 'angry': 814, 'different': 815, 'confirm': 816, 'kinda': 817, '150pmsg': 818, 'glad': 819, 'starting': 820, 'mm': 821, 'flight': 822, 'xy': 823, 'savamob': 824, '300': 825, 'sub': 826, 'sitting': 827, 'rest': 828, 'lover': 829, 'woke': 830, 'excuse': 831, 'din': 832, 'gym': 833, 'write': 834, 'bday': 835, 'abiola': 836, '2003': 837, 'mr': 838, 'meh': 839, 'medical': 840, 'nigeria': 841, 'near': 842, 'wed': 843, 'doctor': 844, 'happiness': 845, 'frnds': 846, 'indian': 847, 'wine': 848, 'reward': 849, 'hoping': 850, 'warm': 851, 'teach': 852, 'invited': 853, 'tht': 854, 'john': 855, 'yoga': 856, 'notice': 857, 'frens': 858, 'england': 859, 'national': 860, 'small': 861, 'south': 862, 'spent': 863, 'honey': 864, 'paid': 865, 'slept': 866, 'opt': 867, 'mrt': 868, 'bother': 869, 'opinion': 870, 'connection': 871, 'somewhere': 872, 'planning': 873, 'fixed': 874, 'youd': 875, 'child': 876, 'become': 877, '08712460324': 878, 'tuesday': 879, 'pray': 880, 'woman': 881, 'chikku': 882, 'decide': 883, 'yest': 884, 'hell': 885, 'definitely': 886, 'across': 887, 'reached': 888, 'case': 889, 'rain': 890, 'kb': 891, 'bb': 892, 'j': 893, 'joke': 894, '3030': 895, 'slave': 896, 'remove': 897, 'mobileupd8': 898, '08000839402': 899, 'sunday': 900, 'bid': 901, 'thinkin': 902, 'alex': 903, 'bag': 904, 'disturb': 905, 'pobox': 906, 'role': 907, 'admirer': 908, 'goto': 909, 'turn': 910, 'comp': 911, 'il': 912, 'normal': 913, 'urself': 914, 'quiz': 915, 'lovely': 916, 'correct': 917, 'member': 918, 'issue': 919, 'present': 920, 'hr': 921, 'dog': 922, '450': 923, 'an': 924, 'ure': 925, 'inside': 926, 'shirt': 927, 'letter': 928, 'damn': 929, 'gt': 930, 'side': 931, 'weather': 932, 'txting': 933, 'idea': 934, '20': 935, 'sale': 936, 'eating': 937, 'yahoo': 938, '150pm': 939, 'walking': 940, 'sec': 941, 'wiv': 942, 'midnight': 943, 'picture': 944, 'facebook': 945, 'gave': 946, 'slowly': 947, 'crave': 948, 'within': 949, 'voice': 950, 'bak': 951, 'energy': 952, 'catch': 953, 'blue': 954, 'request': 955, 'txts': 956, 'inc': 957, 'longer': 958, 'booked': 959, 'loan': 960, 'hotel': 961, '350': 962, 'valued': 963, 'frm': 964, 'joy': 965, 'bugis': 966, 'pilate': 967, 'guide': 968, 'em': 969, 'street': 970, 'talking': 971, 'izzit': 972, 'recently': 973, 'group': 974, 'copy': 975, 'past': 976, 'future': 977, 'orchard': 978, 'flirt': 979, 'click': 980, 'mp3': 981, 'lazy': 982, 'return': 983, 'direct': 984, 'pix': 985, 'however': 986, 'awaiting': 987, 'met': 988, 'askd': 989, 'station': 990, 'fat': 991, 'paying': 992, 'al': 993, 'straight': 994, 'save': 995, 'login': 996, 'forwarded': 997, 'happens': 998, 'trust': 999, 'sup': 1000, 'shuhui': 1001, '2day': 1002, 'ex': 1003, 'budget': 1004, 'contract': 1005, '11': 1006, 'record': 1007, 'optout': 1008, 'leaf': 1009, 'pleasure': 1010, 'possible': 1011, 'planned': 1012, 'partner': 1013, 'noon': 1014, 'ufind': 1015, 'rreveal': 1016, 'specialcall': 1017, 'tat': 1018, 'yijue': 1019, 'std': 1020, 'horny': 1021, 'wednesday': 1022, 'excellent': 1023, 'hate': 1024, 'discount': 1025, 'hmmm': 1026, 'road': 1027, 'sense': 1028, 'especially': 1029, 'personal': 1030, 'lmao': 1031, 'anymore': 1032, 'mo': 1033, 'brings': 1034, 'buzz': 1035, 'situation': 1036, 'key': 1037, 'finger': 1038, 'gap': 1039, 'posted': 1040, 'fyi': 1041, 'pc': 1042, 'five': 1043, 'arrive': 1044, 'hurry': 1045, 'scream': 1046, 'deal': 1047, 'darling': 1048, 'cute': 1049, 'ge': 1050, 'usual': 1051, 'kid': 1052, 'ad': 1053, 'sit': 1054, 'ugh': 1055, 'weight': 1056, 'bslvyl': 1057, 'cell': 1058, 'ki': 1059, 'seems': 1060, 'reference': 1061, 'interested': 1062, 'info': 1063, 'ahead': 1064, 'clean': 1065, 'forward': 1066, 'umma': 1067, 'running': 1068, 'wun': 1069, 'checking': 1070, '62468': 1071, 'library': 1072, 'coin': 1073, 'sofa': 1074, 'local': 1075, 'father': 1076, 'omg': 1077, 'completely': 1078, 'rose': 1079, 'tonite': 1080, 'omw': 1081, '400': 1082, 'training': 1083, 'plenty': 1084, 'mode': 1085, 'joking': 1086, 'charity': 1087, 'insurance': 1088, 'intro': 1089, 'cup': 1090, 'coffee': 1091, 'tenerife': 1092, 'website': 1093, 'lie': 1094, 'ate': 1095, 'team': 1096, 'hill': 1097, 'holla': 1098, 'twice': 1099, 'row': 1100, 'instead': 1101, 'mite': 1102, 'ish': 1103, '40gb': 1104, 'moon': 1105, 'aha': 1106, 'ttyl': 1107, 'who': 1108, 'track': 1109, 'onto': 1110, 'cannot': 1111, 'system': 1112, 'deep': 1113, 'realy': 1114, 'serious': 1115, 'joined': 1116, 'dai': 1117, 'rd': 1118, 'island': 1119, 'due': 1120, 'remind': 1121, 'expensive': 1122, 'quick': 1123, 'net': 1124, 'somethin': 1125, 'wear': 1126, 'tyler': 1127, 'mei': 1128, 'power': 1129, 'yogasana': 1130, 'towards': 1131, 'expecting': 1132, 'begin': 1133, 'med': 1134, 'bluetooth': 1135, 'staying': 1136, 'rather': 1137, 'lick': 1138, 'quality': 1139, 'unable': 1140, 'surely': 1141, 'aiyah': 1142, 'silent': 1143, 'depends': 1144, 'askin': 1145, 'suck': 1146, 'mark': 1147, 'pizza': 1148, 'mood': 1149, 'ull': 1150, 'merry': 1151, 'battery': 1152, 'airport': 1153, 'bought': 1154, 'shell': 1155, 'red': 1156, 'bird': 1157, 'bin': 1158, 'choice': 1159, '25p': 1160, 'changed': 1161, 'fb': 1162, 'heavy': 1163, 'teasing': 1164, 'activate': 1165, 'press': 1166, 'no1': 1167, 'zed': 1168, 'fill': 1169, 'cold': 1170, 'fault': 1171, 'asleep': 1172, 'ride': 1173, 'polys': 1174, 'brand': 1175, 'otherwise': 1176, 'moan': 1177, 'tampa': 1178, 'happening': 1179, 'amount': 1180, 'logo': 1181, 'del': 1182, 'representative': 1183, 'ending': 1184, '08712300220': 1185, 'standard': 1186, 'yun': 1187, 'naked': 1188, 'goodnight': 1189, 'except': 1190, 'scared': 1191, 'tear': 1192, 'complete': 1193, 'ave': 1194, 'condition': 1195, 'arm': 1196, 'num': 1197, 'directly': 1198, 'list': 1199, 'arent': 1200, 'armand': 1201, 'kick': 1202, 'tt': 1203, 'cine': 1204, '2mrw': 1205, 'replied': 1206, 'fix': 1207, 'egg': 1208, 'usually': 1209, 'sight': 1210, 'sn': 1211, 'air': 1212, '25': 1213, 'er': 1214, 'stopped': 1215, 'lttimegt': 1216, 'holder': 1217, 'shd': 1218, 'feb': 1219, 'wishing': 1220, 'imma': 1221, 'imagine': 1222, 'dint': 1223, '3g': 1224, 'tough': 1225, 'behind': 1226, 'didt': 1227, 'vikky': 1228, 'aftr': 1229, 'season': 1230, 'sigh': 1231, 'timing': 1232, 'pussy': 1233, 'body': 1234, 'ho': 1235, 'belly': 1236, 'studying': 1237, 'alrite': 1238, 'none': 1239, '4u': 1240, 'cover': 1241, 'subscription': 1242, 'shouldnt': 1243, 'totally': 1244, 'january': 1245, 'wkly': 1246, 'accept': 1247, 'lik': 1248, 'eatin': 1249, 'inviting': 1250, 'naughty': 1251, 'texting': 1252, 'entered': 1253, 'bos': 1254, 'self': 1255, 'awake': 1256, 'dogging': 1257, 'spree': 1258, 'learn': 1259, 'btnationalrate': 1260, 'daddy': 1261, 'picked': 1262, 'wheres': 1263, 'london': 1264, 'sign': 1265, 'registered': 1266, 'receipt': 1267, 'rply': 1268, 'hug': 1269, 'empty': 1270, '10000': 1271, 'campus': 1272, 'april': 1273, 'liked': 1274, 'italian': 1275, '900': 1276, '0800': 1277, 'king': 1278, 'theyre': 1279, 'loyalty': 1280, 'sim': 1281, 'basic': 1282, 'vote': 1283, 'wherever': 1284, 'cw25wx': 1285, 'gee': 1286, 'earth': 1287, 'basically': 1288, 'ar': 1289, 'fantasy': 1290, '83355': 1291, 'result': 1292, 'intelligent': 1293, 'spending': 1294, '85': 1295, 'dollar': 1296, 'bud': 1297, 'ru': 1298, 'nw': 1299, '2moro': 1300, 'gettin': 1301, 'police': 1302, 'cinema': 1303, 'ppl': 1304, 'version': 1305, 'chinese': 1306, 'ahmad': 1307, 'vip': 1308, '10am7pm': 1309, 'clock': 1310, 'flat': 1311, '530': 1312, 'score': 1313, 'salary': 1314, 'keeping': 1315, 'marriage': 1316, 'cake': 1317, 'cafe': 1318, 'funny': 1319, 'social': 1320, 'aiyo': 1321, 'report': 1322, 'jazz': 1323, 'random': 1324, 'bold': 1325, 'trouble': 1326, 'o2': 1327, 'added': 1328, 'foot': 1329, 'jess': 1330, '2004': 1331, 'village': 1332, 'exactly': 1333, 'stock': 1334, 'rem': 1335, 'black': 1336, 'original': 1337, 'followed': 1338, 'dnt': 1339, 'piece': 1340, 'exciting': 1341, 'whether': 1342, 'ended': 1343, 'thru': 1344, 'menu': 1345, 'sonyericsson': 1346, 'iam': 1347, 'rcvd': 1348, 'ldn': 1349, 'putting': 1350, 'seem': 1351, 'adult': 1352, 'interview': 1353, '83600': 1354, 'meetin': 1355, 'skype': 1356, 'died': 1357, 'travel': 1358, 'ntt': 1359, '85023': 1360, 'pobox84': 1361, '630': 1362, 'ron': 1363, 'appt': 1364, 'bathing': 1365, 'ta': 1366, 'considering': 1367, 'fren': 1368, 'created': 1369, 'idk': 1370, 'boston': 1371, 'laughing': 1372, 'marry': 1373, '730': 1374, 'willing': 1375, 'dirty': 1376, 'howz': 1377, 'space': 1378, 'setting': 1379, 'cancel': 1380, '36504': 1381, 'wanting': 1382, 'holding': 1383, 'lemme': 1384, 'weird': 1385, 'fall': 1386, '87131': 1387, 'perfect': 1388, 'screaming': 1389, 'mon': 1390, 'appreciate': 1391, 'loverboy': 1392, 'broke': 1393, 'colleague': 1394, 'cbe': 1395, 'mths': 1396, 'pobox36504w45wq': 1397, 'faster': 1398, 'voda': 1399, 'quoting': 1400, 'app': 1401, 'model': 1402, 'share': 1403, 'mother': 1404, 'flag': 1405, 'cud': 1406, 'waitin': 1407, 'jst': 1408, 'wouldnt': 1409, 'strong': 1410, 'simply': 1411, 'announcement': 1412, 'wearing': 1413, 'living': 1414, 'current': 1415, 'location': 1416, 'cuz': 1417, 'ppm': 1418, '11mths': 1419, 'l8r': 1420, 'hanging': 1421, 'cream': 1422, 'grand': 1423, 'raining': 1424, 'tncs': 1425, 'balance': 1426, 'window': 1427, 'surprised': 1428, 'spoken': 1429, 'cancer': 1430, 'research': 1431, '3510i': 1432, 'stand': 1433, 'lookin': 1434, 'sura': 1435, 'weve': 1436, 'obviously': 1437, 'handset': 1438, 'torch': 1439, 'digital': 1440, 'site': 1441, 'sheet': 1442, 'thnk': 1443, 'age16': 1444, 'hmv': 1445, 'cashbalance': 1446, 'maximize': 1447, 'cashin': 1448, 'embarassed': 1449, 'internet': 1450, 'la': 1451, 'cheaper': 1452, 'barely': 1453, 'hai': 1454, 'experience': 1455, 'hook': 1456, 'tour': 1457, 'thursday': 1458, '87239': 1459, 'polyphonic': 1460, '8th': 1461, 'total': 1462, 'fool': 1463, 'buck': 1464, 'star': 1465, 'following': 1466, 'june': 1467, 'vl': 1468, 'lecture': 1469, 'bye': 1470, 'callertune': 1471, 'boring': 1472, 'blackberry': 1473, 'country': 1474, 'seriously': 1475, 'mmm': 1476, 'oz': 1477, 'review': 1478, 'alert': 1479, 'nxt': 1480, 'cry': 1481, 'mid': 1482, 'answering': 1483, 'hiya': 1484, 'city': 1485, 'sing': 1486, 'freak': 1487, 'miracle': 1488, 'apartment': 1489, 'uve': 1490, 'ac': 1491, 'vomit': 1492, 'hgsuite3422lands': 1493, 'package': 1494, 'regard': 1495, 'style': 1496, 'malaria': 1497, 'aiyar': 1498, 'eerie': 1499, 'title': 1500, 'weak': 1501, 'pleased': 1502, 'lead': 1503, 'sometimes': 1504, 'spook': 1505, 'idiot': 1506, 'giving': 1507, 'response': 1508, 'bedroom': 1509, 'released': 1510, 'respond': 1511, 'student': 1512, 'relation': 1513, 'matter': 1514, 'appointment': 1515, 'grl': 1516, 'waking': 1517, 'often': 1518, 'regular': 1519, 'truly': 1520, 'chicken': 1521, 'scotland': 1522, 'finishing': 1523, 'argh': 1524, 'bear': 1525, 'box95qu': 1526, 'painful': 1527, 'august': 1528, 'clear': 1529, 'dvd': 1530, 'sky': 1531, 'behave': 1532, 'themob': 1533, 'bowl': 1534, 'ibhltd': 1535, 'ldnw15h': 1536, '150pmtmsgrcvd18': 1537, 'ear': 1538, 'opening': 1539, 'thanksgiving': 1540, '3d': 1541, 'penny': 1542, 'bottom': 1543, 'six': 1544, 'irritating': 1545, 'hun': 1546, 'understood': 1547, 'aunt': 1548, 'philosophy': 1549, 'afraid': 1550, 'dark': 1551, 'pongal': 1552, 'drunk': 1553, 'upload': 1554, 'walked': 1555, 'sam': 1556, 'pod': 1557, 'custcare': 1558, '08712405020': 1559, 'fan': 1560, 'norm': 1561, 'file': 1562, 'whens': 1563, 'incident': 1564, 'chain': 1565, 'caught': 1566, 'decision': 1567, 'mt': 1568, 'software': 1569, 'concert': 1570, 'selection': 1571, 'fit': 1572, 'frndship': 1573, '9t': 1574, 'normally': 1575, 'certainly': 1576, 'shame': 1577, 'evng': 1578, 'hasnt': 1579, 'high': 1580, 'easier': 1581, 'suntec': 1582, 'hide': 1583, 'distance': 1584, 'murdered': 1585, 'murderer': 1586, 'romantic': 1587, 'nvm': 1588, 'sooner': 1589, 'hop': 1590, 'regarding': 1591, 'envelope': 1592, 'assume': 1593, 'medicine': 1594, 'tariff': 1595, 'callback': 1596, 'karaoke': 1597, 'warner': 1598, 'wkend': 1599, 'sony': 1600, 'prolly': 1601, 'settle': 1602, 'table': 1603, 'lt3': 1604, 'chechi': 1605, 'wylie': 1606, 'becoz': 1607, 'takin': 1608, 'lion': 1609, 'mono': 1610, '3gbp': 1611, 'pop': 1612, 'enjoyed': 1613, 'provided': 1614, 'supervisor': 1615, 'failed': 1616, '3wk': 1617, 'cal': 1618, 'f': 1619, 'tablet': 1620, 'avatar': 1621, 'ikea': 1622, 'moby': 1623, 'loss': 1624, 'standing': 1625, 'winning': 1626, 'whenevr': 1627, 'subscribed': 1628, 'bigger': 1629, 'reminder': 1630, 'twelve': 1631, 'boo': 1632, 'arrange': 1633, 'netcollex': 1634, 'catching': 1635, 'lifetime': 1636, 'knowing': 1637, 'ti': 1638, 'radio': 1639, 'gimme': 1640, 'vary': 1641, 'blessing': 1642, 'discus': 1643, 'pull': 1644, 'confidence': 1645, 'derek': 1646, 'management': 1647, 'iscoming': 1648, 'dislike': 1649, 'flower': 1650, 'sometime': 1651, 'official': 1652, 'count': 1653, 'supply': 1654, 'postcode': 1655, 'lift': 1656, 'settled': 1657, 'parking': 1658, 'realized': 1659, 'nyc': 1660, 'valuable': 1661, 'advance': 1662, 'chatting': 1663, 'fell': 1664, 'xxxx': 1665, 'bloody': 1666, '80488': 1667, 'fran': 1668, 'gang': 1669, 'greet': 1670, '89555': 1671, 'textoperator': 1672, 'w45wq': 1673, 'norm150ptone': 1674, 'tea': 1675, 'dropped': 1676, 'pin': 1677, 'vry': 1678, 'bein': 1679, 'worse': 1680, 'slipper': 1681, 'ignore': 1682, 'competition': 1683, '88066': 1684, 'rang': 1685, 'shortly': 1686, 'relax': 1687, 'wa': 1688, 'pig': 1689, 'luxury': 1690, 'bun': 1691, 'sugar': 1692, 'inch': 1693, 'costa': 1694, 'sol': 1695, 'bringing': 1696, 'freezing': 1697, 'fetch': 1698, 'tick': 1699, 'ray': 1700, 'loud': 1701, 'missin': 1702, 'thangam': 1703, 'passed': 1704, 'cam': 1705, '82242': 1706, 'law': 1707, 'milk': 1708, 'replying': 1709, 'nd': 1710, 'invite': 1711, 'wall': 1712, 'bishan': 1713, 'fathima': 1714, 'career': 1715, 'brothas': 1716, 'callin': 1717, 'playing': 1718, 'realize': 1719, 'dearly': 1720, 'jesus': 1721, 'everybody': 1722, 'floor': 1723, 'citizen': 1724, 'hella': 1725, 'james': 1726, '28': 1727, 'chill': 1728, '6hrs': 1729, 'remain': 1730, 'careful': 1731, 'spk': 1732, 'sunshine': 1733, 'giv': 1734, '150ptone': 1735, 'hl': 1736, 'iouri': 1737, 'apps': 1738, 'ben': 1739, 'üll': 1740, 'diff': 1741, 'delivered': 1742, 'okey': 1743, 'dress': 1744, 'rush': 1745, 'xuhui': 1746, 'moji': 1747, 'preferably': 1748, 'given': 1749, '020603': 1750, 'doc': 1751, 'flaked': 1752, 'sipix': 1753, 'hint': 1754, 'forum': 1755, 'hubby': 1756, 'abi': 1757, 'handed': 1758, 'celebration': 1759, '80082': 1760, 'stoptxtstop': 1761, 'videophones': 1762, 'videochat': 1763, 'java': 1764, 'dload': 1765, 'noline': 1766, 'rentl': 1767, 'ip4': 1768, '5we': 1769, 'dry': 1770, 'tom': 1771, 'dick': 1772, 'lovable': 1773, 'sorting': 1774, 'alcohol': 1775, 'diamond': 1776, 'google': 1777, 'hm': 1778, 'audition': 1779, 'cc': 1780, '08718720201': 1781, 'thurs': 1782, 'allah': 1783, 'spanish': 1784, 'dare': 1785, 'contacted': 1786, 'possession': 1787, 'waste': 1788, 'taunton': 1789, 'inclusive': 1790, '3qxj9': 1791, '9ae': 1792, 'quit': 1793, 'skip': 1794, 'spoke': 1795, 'lock': 1796, 'yay': 1797, 'unique': 1798, '60pmin': 1799, 'connect': 1800, 'biggest': 1801, 'jane': 1802, 'fee': 1803, 'listening': 1804, 'super': 1805, 'action': 1806, 'exhausted': 1807, 'anywhere': 1808, 'tree': 1809, 'ordered': 1810, 'cardiff': 1811, 'ringtones': 1812, 'crab': 1813, 'cleared': 1814, 'footprint': 1815, 'bright': 1816, 'community': 1817, 'sunny': 1818, 'max': 1819, 'bell': 1820, 'fish': 1821, 'virgin': 1822, 'affair': 1823, 'beyond': 1824, 'master': 1825, 'unsub': 1826, 'unsold': 1827, 'garage': 1828, 'tirupur': 1829, 'kerala': 1830, 'kallis': 1831, 'dsnt': 1832, 'lt': 1833, 'cha': 1834, 'apparently': 1835, 'prey': 1836, 'deleted': 1837, 'market': 1838, 'lotr': 1839, 'essential': 1840, 'ran': 1841, 'searching': 1842, 'monkey': 1843, 'mad': 1844, 'frying': 1845, 'foreign': 1846, 'stamp': 1847, 'returned': 1848, 'instruction': 1849, 'wet': 1850, 'celebrate': 1851, 'series': 1852, 'erm': 1853, 'auto': 1854, 'fuckin': 1855, 'pie': 1856, 'def': 1857, 'value': 1858, 'prefer': 1859, 'hostel': 1860, 'entitled': 1861, 'push': 1862, 'knackered': 1863, 'nan': 1864, 'kept': 1865, 'hols': 1866, 'claire': 1867, 'thts': 1868, 'throat': 1869, 'qatar': 1870, 'california': 1871, '88039': 1872, 'skilgme': 1873, '150perwksub': 1874, 'note': 1875, 'cat': 1876, 'moved': 1877, 'in2': 1878, 'along': 1879, 'sore': 1880, 'profit': 1881, 'event': 1882, 'stress': 1883, 'advice': 1884, 'sha': 1885, 'chasing': 1886, 'needed': 1887, 'urgnt': 1888, 'shld': 1889, 'iz': 1890, 'period': 1891, 'cock': 1892, 'xchat': 1893, 'maga': 1894, 'blake': 1895, 'morn': 1896, 'anythin': 1897, 'rich': 1898, 'received': 1899, '150pmin': 1900, 'suite': 1901, 'doggy': 1902, 'terrible': 1903, 'mummy': 1904, 'mile': 1905, 'display': 1906, '80062': 1907, 'carry': 1908, 'february': 1909, 'cust': 1910, 'ibiza': 1911, 'chillin': 1912, 'follow': 1913, 'bottle': 1914, 'white': 1915, 'blah': 1916, 'male': 1917, 'roger': 1918, 'aunty': 1919, 'haiz': 1920, 'enemy': 1921, 'module': 1922, 'character': 1923, 'couldnt': 1924, 'teacher': 1925, 'talent': 1926, 'legal': 1927, 'monthly': 1928, 'kkhow': 1929, 'born': 1930, 'jealous': 1931, 'ham': 1932, 'paris': 1933, 'middle': 1934, 'sed': 1935, 'theatre': 1936, 'boost': 1937, 'looked': 1938, 'messenger': 1939, 'kano': 1940, 'fly': 1941, '07xxxxxxxxx': 1942, '786': 1943, 'selling': 1944, '86021': 1945, 'anyways': 1946, 'university': 1947, 'bite': 1948, 'deliver': 1949, 'major': 1950, 'hon': 1951, 'blank': 1952, 'fifteen': 1953, 'convey': 1954, 'adore': 1955, 'shipping': 1956, '09066362231': 1957, 'upgrade': 1958, 'queen': 1959, 'abta': 1960, 'vodafone': 1961, 'eight': 1962, 'challenge': 1963, 'q': 1964, 'drivin': 1965, 'stone': 1966, 'é': 1967, 'bitch': 1968, 'tog': 1969, 'seat': 1970, 'business': 1971, 'geeee': 1972, 'lounge': 1973, 'transaction': 1974, 'tb': 1975, 'texted': 1976, 'lab': 1977, 'yetunde': 1978, 'amazing': 1979, '2morrow': 1980, 'wer': 1981, 'kkwhere': 1982, '1030': 1983, 'animation': 1984, 'dave': 1985, '09061743806': 1986, 'box326': 1987, 'lov': 1988, 'thgt': 1989, 'racing': 1990, 'rice': 1991, 'piss': 1992, 'realise': 1993, 'ke': 1994, 'tiwary': 1995, 'losing': 1996, '020903': 1997, 'toopray': 1998, 'teeth': 1999, 'lately': 2000, 'resume': 2001, 'art': 2002, 'outstanding': 2003, 'commercial': 2004, 'football': 2005, 'register': 2006, 'hamster': 2007, '82468': 2008, 'pouch': 2009, 'goodnite': 2010, 'speaking': 2011, 'ned': 2012, 'toa': 2013, 'payoh': 2014, 'happend': 2015, 'height': 2016, 'germany': 2017, '0844': 2018, '861': 2019, 'prepayment': 2020, 'suggest': 2021, 'day2find': 2022, 'downloads': 2023, 'size': 2024, 'relative': 2025, 'infront': 2026, 'completed': 2027, 'messy': 2028, 'expression': 2029, 'avoid': 2030, 'beloved': 2031, '08718730666': 2032, 'u4': 2033, 'rude': 2034, '8552': 2035, 'hw': 2036, '84128': 2037, 'networking': 2038, 'technical': 2039, 'str': 2040, 'mystery': 2041, 'solved': 2042, 'sweetie': 2043, 'downloaded': 2044, 'exe': 2045, 'traffic': 2046, 'slip': 2047, 'handle': 2048, 'cruise': 2049, 'gorgeous': 2050, 'magical': 2051, 'ba': 2052, 'potential': 2053, 'jolt': 2054, 'screamed': 2055, 'hallaq': 2056, 'passionate': 2057, 'blu': 2058, 'newest': 2059, 'gossip': 2060, 'delay': 2061, 'evn': 2062, 'alwys': 2063, 'genius': 2064, 'dealing': 2065, 'farm': 2066, 'blame': 2067, 'death': 2068, 'purity': 2069, 'messageits': 2070, 'solve': 2071, 'murder': 2072, 'cooking': 2073, 'arrested': 2074, 'brilliant': 2075, 'tok': 2076, 'nydc': 2077, 'ola': 2078, 'lib': 2079, 'minor': 2080, 'raise': 2081, 'hip': 2082, 'everybodys': 2083, 'btw': 2084, 'macho': 2085, 'recovery': 2086, 'benefit': 2087, 'lay': 2088, 'jordan': 2089, 'anti': 2090, 'pout': 2091, 'stomp': 2092, 'rofl': 2093, 'mnths': 2094, '2optout': 2095, 'txtauction': 2096, 'practice': 2097, 'wuld': 2098, 'express': 2099, 'linerental': 2100, 'oic': 2101, 'quickly': 2102, 'mokka': 2103, 'proof': 2104, 'therere': 2105, 'imp': 2106, 'switch': 2107, 'dealer': 2108, 'freedom': 2109, 'sum1': 2110, '54': 2111, '83383': 2112, 'voicemail': 2113, 'lionm': 2114, 'lionp': 2115, 'center': 2116, '61610': 2117, 'help08712400602450p': 2118, 'tones2youcouk': 2119, 'nichols': 2120, 'sian': 2121, 'blanket': 2122, 'telly': 2123, 'status': 2124, '88600': 2125, 'pocketbabecouk': 2126, 'ni8swt': 2127, 'closer': 2128, 'blow': 2129, 'gender': 2130, 'activity': 2131, 'revealed': 2132, 'cornwall': 2133, 'sp': 2134, 'exeter': 2135, 'gain': 2136, 'coping': 2137, '5min': 2138, 'helpline': 2139, '08706091795': 2140, 'calculation': 2141, 'practicing': 2142, 'restaurant': 2143, 'thx': 2144, 'aah': 2145, 'slice': 2146, 'applebees': 2147, '80182': 2148, '08452810073': 2149, 'kothi': 2150, 'print': 2151, '4eva': 2152, '08700621170150p': 2153, 'muchi': 2154, 'postcard': 2155, 'panic': 2156, 'mini': 2157, 'gn': 2158, 'custcare08718720201': 2159, 'block': 2160, 'journey': 2161, 'onwards': 2162, 'sac': 2163, 'europe': 2164, 'sept': 2165, '10k': 2166, 'm263uz': 2167, 'secretary': 2168, 'box334sk38ch': 2169, 'pple': 2170, 'swatch': 2171, 'taylor': 2172, 'costume': 2173, 'tnc': 2174, 'difference': 2175, 'inning': 2176, 'strike': 2177, 'ic': 2178, 'wallpaper': 2179, 'responsibility': 2180, 'favorite': 2181, 'seemed': 2182, '08718727870': 2183, 'oi': 2184, 'east': 2185, 'ericsson': 2186, 'textbuddy': 2187, 'gaytextbuddycom': 2188, '89693': 2189, 'soul': 2190, 'fire': 2191, 'flame': 2192, 'web': 2193, 'wrote': 2194, 'woulda': 2195, 'broken': 2196, 'english': 2197, 'affectionate': 2198, 'natural': 2199, 'pissed': 2200, 'flirting': 2201, 'bloke': 2202, 'zoe': 2203, 'knee': 2204, 'stayed': 2205, 'nothin': 2206, 'brain': 2207, 'elaine': 2208, 'combine': 2209, 'feelin': 2210, 'atm': 2211, 'credited': 2212, 'bang': 2213, 'arcade': 2214, 'purchase': 2215, 'successful': 2216, 'messaged': 2217, 'vewy': 2218, 'showing': 2219, 'g696ga': 2220, 'taco': 2221, 'bruv': 2222, 'rewarding': 2223, 'garbage': 2224, 'accident': 2225, 'effect': 2226, 'l': 2227, '08000776320': 2228, 'sarcastic': 2229, 'taken': 2230, 'esplanade': 2231, 'smashed': 2232, 'history': 2233, 'comfort': 2234, 'shesil': 2235, 'mca': 2236, 'sweetheart': 2237, 'prospect': 2238, 'filled': 2239, 'amy': 2240, 'prove': 2241, 'abj': 2242, 'gotten': 2243, '150week': 2244, 'patty': 2245, 'program': 2246, 'cameravideo': 2247, 'name1': 2248, 'name2': 2249, 'mobno': 2250, 'adam': 2251, '07123456789': 2252, 'txtno': 2253, '09050090044': 2254, 'toclaim': 2255, 'pobox334': 2256, 'stockport': 2257, 'sk38xh': 2258, 'max10mins': 2259, 'galileo': 2260, 'yunny': 2261, '3100': 2262, 'fujitsu': 2263, 'parked': 2264, 'boat': 2265, 'informed': 2266, 'tool': 2267, 'attend': 2268, 'guilty': 2269, 'kkim': 2270, 'held': 2271, '09061209465': 2272, 'suprman': 2273, 'matrix3': 2274, 'starwars3': 2275, 'bx420ip45we': 2276, 'yer': 2277, '84199': 2278, 'eng': 2279, 'box39822': 2280, 'w111wx': 2281, 'lo': 2282, 'gona': 2283, 'msg150p': 2284, '2rcv': 2285, 'hlp': 2286, '08712317606': 2287, 'bread': 2288, 'horrible': 2289, 'diwali': 2290, '20p': 2291, '1327': 2292, 'croydon': 2293, 'cr9': 2294, '5wb': 2295, '0870': 2296, 'cuddle': 2297, 'caroline': 2298, 'favourite': 2299, 'bless': 2300, 'lookatme': 2301, 'reschedule': 2302, 'gibbs': 2303, 'superior': 2304, 'buyer': 2305, 'hardly': 2306, '121': 2307, 'wc1n3xx': 2308, 'sarasota': 2309, 'painting': 2310, 'opportunity': 2311, 'department': 2312, 'waheed': 2313, 'conform': 2314, 'build': 2315, 'fucked': 2316, 'sentence': 2317, 'concentrate': 2318, 'generally': 2319, 'tortilla': 2320, 'soup': 2321, 'costing': 2322, 'jason': 2323, 'lk': 2324, 'american': 2325, 'jen': 2326, 'snowman': 2327, 'bahamas': 2328, '18only': 2329, 'booty': 2330, 'tooo': 2331, 'academic': 2332, 'ding': 2333, '09066612661': 2334, 'acc': 2335, 'maintain': 2336, 'lovejen': 2337, 'rcv': 2338, 'hardcore': 2339, 'meal': 2340, 'plm': 2341, '4mths': 2342, 'mobilesdirect': 2343, '08000938767': 2344, 'or2stoptxt': 2345, 'dan': 2346, 'addicted': 2347, 'msging': 2348, 'exhaust': 2349, 'function': 2350, 'nature': 2351, 'adventure': 2352, '87021': 2353, 'txtin': 2354, '4info': 2355, 'gentleman': 2356, 'dignity': 2357, 'respect': 2358, 'ref': 2359, 'church': 2360, 'success': 2361, 'shorter': 2362, 'pink': 2363, 'furniture': 2364, '2marrow': 2365, 'avent': 2366, 'nit': 2367, 'application': 2368, 'dressed': 2369, 'tirunelvali': 2370, 'ache': 2371, 'speechless': 2372, 'easily': 2373, 'length': 2374, 'lst': 2375, 'jia': 2376, 'acted': 2377, 'skyped': 2378, 'kz': 2379, 'ultimatum': 2380, 'countin': 2381, 'aburo': 2382, 'flip': 2383, 'properly': 2384, 'aid': 2385, 'tmrw': 2386, 'box97n7qp': 2387, 'dr': 2388, 'gentle': 2389, 'vega': 2390, 'granite': 2391, 'strongbuy': 2392, 'explosive': 2393, 'nasdaq': 2394, 'symbol': 2395, 'cdgt': 2396, 'fringe': 2397, 'chase': 2398, 'knock': 2399, 'whose': 2400, '09063458130': 2401, 'polyph': 2402, 'bx420': 2403, 'shot': 2404, 'hopefully': 2405, 'inconsiderate': 2406, 'nag': 2407, 'recession': 2408, 'hence': 2409, 'intention': 2410, 'clearing': 2411, 'phoned': 2412, 'eta': 2413, 'chocolate': 2414, 'creepy': 2415, 'prem': 2416, 'likely': 2417, '6pm': 2418, '2wks': 2419, '11414': 2420, 'tcrw1': 2421, 'lturlgt': 2422, 'step': 2423, 'buffet': 2424, 'beer': 2425, 'petrol': 2426, 'shipped': 2427, 'rstm': 2428, 'sw7': 2429, 'pobox45w2tg150p': 2430, '09061221066': 2431, 'fromm': 2432, 'causing': 2433, 'geeeee': 2434, 'bc': 2435, 'permission': 2436, 'usb': 2437, 'flash': 2438, 'password': 2439, '08702840625comuk': 2440, '220cm2': 2441, 'continue': 2442, 'front': 2443, 'prescription': 2444, 'woken': 2445, 'yan': 2446, 'jiu': 2447, 'havnt': 2448, 'moral': 2449, 'quiet': 2450, 'lido': 2451, 'mess': 2452, 'nap': 2453, 'aiya': 2454, 'm8': 2455, '50p': 2456, '87121': 2457, 'sathya': 2458, 'removal': 2459, '08708034412': 2460, '87575': 2461, 'wrk': 2462, 'epsilon': 2463, 'wnt': 2464, 'hv': 2465, 'source': 2466, 'worst': 2467, 'kill': 2468, 'tomarrow': 2469, 'anthony': 2470, 'silently': 2471, 'privacy': 2472, 'ee': 2473, '1x150pwk': 2474, '40533': 2475, '311004': 2476, 'ubi': 2477, 'dumb': 2478, 'strange': 2479, 'schedule': 2480, 'forgotten': 2481, 'cannt': 2482, 'loxahatchee': 2483, 'burning': 2484, 'housemaid': 2485, 'public': 2486, 'govtinstituitions': 2487, 'closedincluding': 2488, 'processed': 2489, 'uni': 2490, '150pwk': 2491, 'belovd': 2492, 'wave': 2493, '125gift': 2494, 'clothes': 2495, 'bay': 2496, 'yelling': 2497, 'lonely': 2498, 'main': 2499, 'uu': 2500, 'filling': 2501, 'dokey': 2502, 'royal': 2503, 'taste': 2504, 'curry': 2505, 'approx': 2506, 'tee': 2507, 'infernal': 2508, 'oooh': 2509, 'ey': 2510, 'whn': 2511, 'melle': 2512, 'oru': 2513, 'subpoly': 2514, 'pole': 2515, 'unfortunately': 2516, '2morow': 2517, 'million': 2518, 'roast': 2519, 'calicut': 2520, 'centre': 2521, '89070': 2522, 'vodka': 2523, 'ganesh': 2524, 'raj': 2525, 'suzy': 2526, 'yeshe': 2527, 'repeat': 2528, 'wifi': 2529, 'prepare': 2530, '86888': 2531, 'subscribe6gbpmnth': 2532, '3hrs': 2533, 'railway': 2534, 'lil': 2535, 'officially': 2536, 'saved': 2537, 'recognise': 2538, 'error': 2539, 'difficulty': 2540, 'tap': 2541, 'spile': 2542, 'seven': 2543, 'broad': 2544, 'canal': 2545, 'checked': 2546, 'format': 2547, 'spoon': 2548, 'yor': 2549, 'tank': 2550, 'depressed': 2551, 'begging': 2552, 'channel': 2553, 'goodnoon': 2554, 'wud': 2555, 'cartoon': 2556, 'sip': 2557, 'cappuccino': 2558, 'ton': 2559, 'pan': 2560, 'perhaps': 2561, 'vomiting': 2562, 'kay': 2563, 'jogging': 2564, 'reminding': 2565, 'adoring': 2566, 'penis': 2567, 'donno': 2568, 'vday': 2569, 'suppose': 2570, 'langport': 2571, 'wkg': 2572, 'boyfriend': 2573, 'steam': 2574, '40': 2575, 'thousand': 2576, 'rally': 2577, 'image': 2578, 'thatll': 2579, 'gravity': 2580, 'carefully': 2581, 'jean': 2582, 'repair': 2583, '4fil': 2584, 'forgets': 2585, 'tahan': 2586, 'anot': 2587, 'fullonsmscom': 2588, 'lyfu': 2589, 'lyf': 2590, 'include': 2591, 'constantly': 2592, 'yeh': 2593, 'up4': 2594, 'oreo': 2595, 'truffle': 2596, 'desire': 2597, 'ideal': 2598, 'explicit': 2599, '30': 2600, '02073162414': 2601, '20pmin': 2602, 'wld': 2603, 'porn': 2604, 'recd': 2605, 'nitros': 2606, 'language': 2607, 'reaction': 2608, 'december': 2609, 'smell': 2610, 'laundry': 2611, 'pap': 2612, '8am': 2613, 'wind': 2614, 'upto': 2615, 'dresser': 2616, 'china': 2617, '24hrs': 2618, '21870000hi': 2619, 'mailbox': 2620, 'messaging': 2621, '09056242159': 2622, 'retrieve': 2623, 'heater': 2624, 'degree': 2625, 'shared': 2626, 'melt': 2627, 'sunlight': 2628, 'expect': 2629, 'meaning': 2630, 'aka': 2631, 'hoped': 2632, 'neighbor': 2633, 'mcat': 2634, 'atlanta': 2635, 'moving': 2636, 'borin': 2637, '1minmoremobsemspobox45po139wa': 2638, 'jacket': 2639, 'largest': 2640, 'ec2a': 2641, 'tscs087147403231winawkage16': 2642, 'bf': 2643, 'puttin': 2644, 'convinced': 2645, 'swoop': 2646, '09066358152': 2647, 'prompt': 2648, 'vava': 2649, 'sends': 2650, 'greeting': 2651, 'birthdate': 2652, 'sen': 2653, 'jokin': 2654, 'manage': 2655, 'coast': 2656, 'lip': 2657, 'slide': 2658, 'laid': 2659, 'airtel': 2660, 'suggestion': 2661, 'gary': 2662, 'xam': 2663, 'diet': 2664, 'managed': 2665, 'option': 2666, 'pro': 2667, 'brief': 2668, 'desperate': 2669, 'wedding': 2670, 'stylish': 2671, 'senthil': 2672, 'dey': 2673, 'bar': 2674, 'reserve': 2675, 'yellow': 2676, 'mega': 2677, 'fighting': 2678, 'everyday': 2679, 'cheat': 2680, 'outta': 2681, 'salon': 2682, 'fair': 2683, 'upstairs': 2684, 'jsco': 2685, 'yummy': 2686, 'slap': 2687, 'beg': 2688, 'hor': 2689, 'randomly': 2690, 'loyal': 2691, '09066380611': 2692, 'roww1j6hl': 2693, 'thot': 2694, 'mall': 2695, 'polo': 2696, '373': 2697, 'w1j': 2698, '6hl': 2699, 'oni': 2700, 'common': 2701, 'lucy': 2702, '1minmobsmorelkpobox177hp51fl': 2703, 'specific': 2704, 'speed': 2705, 'eaten': 2706, 'weirdest': 2707, 'cabin': 2708, 'di': 2709, 'temp': 2710, 'confused': 2711, 'confuses': 2712, 'creep': 2713, 'belive': 2714, 'l8tr': 2715, 'british': 2716, 'sw73ss': 2717, 'chosen': 2718, 'lower': 2719, 'premium': 2720, 'subscriber': 2721, 'tape': 2722, 'measure': 2723, 'dracula': 2724, 'ghost': 2725, 'addamsfa': 2726, 'munsters': 2727, 'exorcist': 2728, 'twilight': 2729, 'testing': 2730, 'cleaning': 2731, 'jenny': 2732, 'sucker': 2733, 'castor': 2734, 'santa': 2735, 'ball': 2736, 'shitload': 2737, 'inform': 2738, 'successfully': 2739, 'canary': 2740, 'deliveredtomorrow': 2741, 'practical': 2742, 'jan': 2743, 'cn': 2744, 'reg': 2745, 'range': 2746, 'meanwhile': 2747, 'borrow': 2748, 'wtf': 2749, 'caring': 2750, '430': 2751, 'jolly': 2752, 'becomes': 2753, 'habit': 2754, 'spell': 2755, 'amused': 2756, '08709222922': 2757, '15pmin': 2758, '78pmin': 2759, 'peak': 2760, 'burn': 2761, 'widelivecomindex': 2762, 'tight': 2763, 'mental': 2764, 'shelf': 2765, 'kidz': 2766, 'thread': 2767, 'gautham': 2768, 'joining': 2769, 'finance': 2770, 'kindly': 2771, 'toughest': 2772, 'goodo': 2773, 'some1': 2774, 'guessing': 2775, 'cheese': 2776, 'wisdom': 2777, 'gf': 2778, 'sum': 2779, 'ym': 2780, 'urn': 2781, 'beware': 2782, 'green': 2783, 'quote': 2784, '84025': 2785, 'nearly': 2786, 'anybody': 2787, 'throw': 2788, 'sd': 2789, 'freefone': 2790, 'electricity': 2791, 'andros': 2792, 'nowi': 2793, 'harry': 2794, 'among': 2795, 'delete': 2796, 'underwear': 2797, 'married': 2798, 'discreet': 2799, 'instantly': 2800, 'swiss': 2801, 'crore': 2802, 'delhi': 2803, 'lane': 2804, 'politician': 2805, 'actor': 2806, 'scrounge': 2807, 'lou': 2808, 'kadeem': 2809, 'halloween': 2810, '08701417012150p': 2811, 'logopic': 2812, 'no': 2813, 'jamster': 2814, 'gold': 2815, '16only': 2816, 'gist': 2817, 'dime': 2818, 'beauty': 2819, 'aom': 2820, 'unemployed': 2821, 'revision': 2822, 'distract': 2823, 'swt': 2824, 'bck': 2825, 'boye': 2826, 'ela': 2827, 'poop': 2828, 'mouth': 2829, 'receiving': 2830, 'lotwill': 2831, 'bat': 2832, 'noun': 2833, 'sar': 2834, 'spare': 2835, 'memory': 2836, 'occupy': 2837, 'cuddling': 2838, 'minuts': 2839, 'latr': 2840, 'caken': 2841, 'ground': 2842, 'thm': 2843, 'wn': 2844, 'buddy': 2845, 'dictionary': 2846, '0845': 2847, '08712402050': 2848, '10ppm': 2849, 'ag': 2850, 'promo': 2851, 'renewal': 2852, 'remains': 2853, 'bro': 2854, 'sufficient': 2855, 'unnecessarily': 2856, 'lousy': 2857, '08717898035': 2858, 'decimal': 2859, 'division': 2860, '1u': 2861, '2u': 2862, '3u': 2863, 'minimum': 2864, 'bet': 2865, 'ese': 2866, 'tming': 2867, 'tm': 2868, 'alfie': 2869, 'm8s': 2870, 'nokias': 2871, '08701417012': 2872, '7250i': 2873, 'roww1jhl': 2874, 'nat': 2875, 'charles': 2876, 'purpose': 2877, 'tenant': 2878, 'bristol': 2879, 'fever': 2880, 'scold': 2881, 'trade': 2882, '45239': 2883, 'snake': 2884, 'dancing': 2885, 'welp': 2886, 'bk': 2887, '2waxsto': 2888, 'satisfy': 2889, 'randy': 2890, 'cancelled': 2891, 'tease': 2892, '09061790121': 2893, 'disturbing': 2894, 'various': 2895, 'invest': 2896, 'tues': 2897, 'spoiled': 2898, 'peace': 2899, '8pm': 2900, 'payment': 2901, '0207': 2902, '153': 2903, 'lag': 2904, 'fa': 2905, '2005': 2906, 'husband': 2907, '326': 2908, 'annoying': 2909, 'unbelievable': 2910, '09061743386': 2911, 'paragon': 2912, 'dem': 2913, 'eveb': 2914, 'easter': 2915, 'tmobile': 2916, 'base': 2917, 'kkwhen': 2918, 'daily': 2919, 'favour': 2920, '150pmsgrcvdhgsuite3422landsroww1j6hl': 2921, '18yrs': 2922, 'reveal': 2923, 'grandma': 2924, 'loose': 2925, '1500': 2926, 'bleh': 2927, 'canada': 2928, 'agalla': 2929, 'necklace': 2930, '09066350750': 2931, '434': 2932, 'sk3': 2933, '8wp': 2934, '08718726270': 2935, 'slightly': 2936, 'vijay': 2937, 'wks': 2938, 'math': 2939, 'rhythm': 2940, 'acl03530150pm': 2941, 'path': 2942, 'violated': 2943, 'paperwork': 2944, 'telephone': 2945, 'tuition': 2946, 'morphine': 2947, 'everywhere': 2948, 'mmmm': 2949, 'interesting': 2950, 'freephone': 2951, 'dial': 2952, 'attached': 2953, 'av': 2954, 'booking': 2955, 'soo': 2956, 'building': 2957, 'coat': 2958, 'fml': 2959, 'ebay': 2960, 'elsewhere': 2961, 'mids': 2962, '88888': 2963, 'sptv': 2964, 'detroit': 2965, 'explain': 2966, 'including': 2967, 'premier': 2968, 'escape': 2969, 'cme': 2970, '81303': 2971, 'probs': 2972, 'ques': 2973, 'suit': 2974, 'befor': 2975, 'cousin': 2976, 'impossible': 2977, 'brought': 2978, 'craziest': 2979, 'shy': 2980, 'female': 2981, '69698': 2982, 'wise': 2983, 'ntwk': 2984, 'cared': 2985, 'nuther': 2986, 'yuo': 2987, 'tihs': 2988, 'wale': 2989, 'allowed': 2990, 'yck': 2991, 'ship': 2992, 'argument': 2993, 'argue': 2994, 'scary': 2995, 'sue': 2996, 'driver': 2997, 'half8th': 2998, 'horo': 2999, 'waited': 3000, 'hyde': 3001, 'mel': 3002, 'previous': 3003, '2geva': 3004, 'vth': 3005, 'cherish': 3006, 'july': 3007, 'necessary': 3008, 'otside': 3009, 'asks': 3010, 'pending': 3011, 'makin': 3012, 'admin': 3013, 'm26': 3014, '3uz': 3015, 'watever': 3016, 'flaky': 3017, 'atlast': 3018, 'plane': 3019, 'blind': 3020, 'heri': 3021, 'herlove': 3022, 'leona': 3023, 'conduct': 3024, 'weakness': 3025, '2007': 3026, 'interflora': 3027, 'coimbatore': 3028, 'hicts': 3029, 'employee': 3030, 'bruce': 3031, 'fowler': 3032, 'nevr': 3033, 'unrecognized': 3034, 'somone': 3035, 'valuing': 3036, 'definitly': 3037, 'undrstnd': 3038, 'spacebucks': 3039, 'possessiveness': 3040, 'poured': 3041, 'golden': 3042, 'horse': 3043, 'macedonia': 3044, 'goalsteam': 3045, 'trywales': 3046, '4txtú120': 3047, 'poboxox36504w45wq': 3048, 'worc': 3049, 'foregate': 3050, 'shrub': 3051, 'freaky': 3052, 'itnow': 3053, 'backwards': 3054, 'qi': 3055, 'suddenly': 3056, 'auctionpunj': 3057, 'absolutely': 3058, 'greatest': 3059, 'courage': 3060, 'defeat': 3061, 'heartgn': 3062, 'priest': 3063, 'yesim': 3064, '08718729755': 3065, 'meremove': 3066, 'maintaining': 3067, 'phasing': 3068, 'fourth': 3069, 'dimension': 3070, 'gobi': 3071, 'hasbroin': 3072, 'jump': 3073, 'hoop': 3074, 'icic': 3075, 'idc': 3076, 'weaseling': 3077, '08712402779': 3078, 'gamestar': 3079, 'active': 3080, '250k': 3081, 'scoring': 3082, 'nowsky': 3083, '88088': 3084, 'notified': 3085, 'marketing': 3086, '84122': 3087, '08450542832': 3088, '1pm': 3089, 'ilol': 3090, 'personally': 3091, 'wuldnt': 3092, 'lastest': 3093, 'stereophonics': 3094, 'marley': 3095, 'dizzee': 3096, 'racal': 3097, 'libertine': 3098, 'stroke': 3099, 'nookii': 3100, 'bookmark': 3101, 'arguing': 3102, 'bw': 3103, 'beneath': 3104, 'pale': 3105, 'okmail': 3106, 'restocked': 3107, 'stage': 3108, 'consistently': 3109, 'practicum': 3110, 'wewa': 3111, '130': 3112, 'iriver': 3113, '255': 3114, '128': 3115, 'mb': 3116, 'upcharge': 3117, '120': 3118, 'gei': 3119, 'tron': 3120, 'dl': 3121, 'recycling': 3122, 'earning': 3123, 'or': 3124, 'stool': 3125, 'breathing': 3126, 'neck': 3127, 'ripped': 3128, '08717509990': 3129, 'polytruepixringtonesgames': 3130, 'vivek': 3131, 'sweater': 3132, 'mango': 3133, 'walkabout': 3134, 'ksry': 3135, 'sivatats': 3136, 'depression': 3137, 'nike': 3138, 'teenager': 3139, 'sh': 3140, 'readyall': 3141, 'chikkugoing': 3142, 'senthilhsbc': 3143, 'kkadvance': 3144, 'soz': 3145, 'imat': 3146, 'missunderstding': 3147, 'floppy': 3148, 'snappy': 3149, '01223585334': 3150, '2c': 3151, 'shagged': 3152, '2end': 3153, 'toilet': 3154, 'stolen': 3155, 'cop': 3156, 'mising': 3157, 'textpod': 3158, 'associate': 3159, 'ooooooh': 3160, 'yoville': 3161, 'pandy': 3162, '4w': 3163, 'technology': 3164, 'todayhe': 3165, '0870141701216': 3166, '4txt120p': 3167, 'taxi': 3168, 'ing': 3169, 'typical': 3170, 'opened': 3171, 'batch': 3172, 'buz': 3173, 'wedlunch': 3174, 'outsomewhere': 3175, 'adrink': 3176, 'towncud': 3177, '2watershd': 3178, 'fromwrk': 3179, 'bthere': 3180, 'petexxx': 3181, 'installing': 3182, 'accidant': 3183, 'tookplace': 3184, 'ghodbandar': 3185, 'slovely': 3186, 'victoria': 3187, 'album': 3188, 'belongs': 3189, 'herwho': 3190, 'fated': 3191, 'shoranur': 3192, 'fuelled': 3193, 'concern': 3194, 'prior': 3195, 'grief': 3196, 'violence': 3197, 'dept': 3198, '13404': 3199, '08717507382': 3200, 'howda': 3201, 'mathe': 3202, 'en': 3203, 'samachara': 3204, 'squishy': 3205, 'mwahs': 3206, 'apologetic': 3207, 'fallen': 3208, 'actin': 3209, 'spoilt': 3210, 'badly': 3211, 'simpler': 3212, 'robinson': 3213, 'gua': 3214, 'faber': 3215, 'designation': 3216, 'developer': 3217, 'lipo': 3218, 'thesmszonecom': 3219, 'anonymous': 3220, 'masked': 3221, 'messagesim': 3222, 'theredo': 3223, 'abuse': 3224, 'owned': 3225, 'possessive': 3226, 'nuerologist': 3227, 'dogg': 3228, 'november': 3229, '09061104276': 3230, '375max': 3231, '08714712388': 3232, 'funky': 3233, '1hr': 3234, 'photoshop': 3235, 'shut': 3236, 'needle': 3237, 'meetitz': 3238, '4few': 3239, 'conected': 3240, 'bare': 3241, 'com': 3242, '2u2': 3243, '448712404000please': 3244, '08712404000': 3245, 'perspective': 3246, 'ape': 3247, 'kafter': 3248, 'placement': 3249, 'keepintouch': 3250, 'gdeve': 3251, 'relieved': 3252, 'westonzoyland': 3253, 'musthu': 3254, 'txtjourney': 3255, 'gdnow': 3256, '4d': 3257, 'oclock': 3258, 'bash': 3259, 'passable': 3260, 'phd': 3261, '5years': 3262, 'sth': 3263, 'spec': 3264, 'membership': 3265, 'px3748': 3266, 'steamboat': 3267, 'anythiing': 3268, '1his': 3269, '2police': 3270, 'questioned': 3271, '3wife': 3272, 'siri': 3273, '4cook': 3274, '5gardener': 3275, 'vegetable': 3276, '6housemaid': 3277, '7children': 3278, '8neighbour': 3279, 'bookedthe': 3280, 'hut': 3281, 'dinnermsg': 3282, 'chinatown': 3283, 'porridge': 3284, 'claypot': 3285, 'yam': 3286, 'fishhead': 3287, 'beehoon': 3288, 'scenery': 3289, 'settling': 3290, 'happenin': 3291, 'scraped': 3292, 'barrel': 3293, 'misfit': 3294, 'smokin': 3295, 'shoe': 3296, 'crisis': 3297, 'bao': 3298, 'sugardad': 3299, 'ahgee': 3300, 'enc': 3301, 'headin': 3302, 'busetop': 3303, '4th': 3304, 'commit': 3305, 'dodgey': 3306, 'wrks': 3307, 'select': 3308, 'trained': 3309, 'advisor': 3310, 'dialling': 3311, '402': 3312, 'macha': 3313, 'upseti': 3314, 'mindsetbelieve': 3315, 'uslet': 3316, 'againcall': 3317, 'sake': 3318, 'tallahassee': 3319, 'voted': 3320, 'holby': 3321, 'haunt': 3322, 'sorted': 3323, 'promoting': 3324, 'hex': 3325, '4ui': 3326, 'intend': 3327, 'iwasmarinethat': 3328, 'itried2tell': 3329, 'urmomi': 3330, 'careabout': 3331, '09058094507': 3332, 'gent': 3333, '09064012160': 3334, 'k52': 3335, 'reckon': 3336, 'eightish': 3337, 'carpark': 3338, 'needy': 3339, '89545': 3340, '08718726270150gbpmtmsg18': 3341, 'puppy': 3342, 'noise': 3343, 'everyboy': 3344, 'xxxxxxxx': 3345, 'kkapo': 3346, 'kgood': 3347, 'dependent': 3348, 'someonethat': 3349, 'seperated鈥': 3350, '〨ud': 3351, 'miwa': 3352, 'jiayin': 3353, '83118': 3354, 'colin': 3355, 'farrell': 3356, 'swat': 3357, 'popcornjust': 3358, 'msgticketkioskvalid': 3359, '4712': 3360, 'kiosk': 3361, 'mre': 3362, 'call2optoutlf56': 3363, 'thatnow': 3364, 'forwarding': 3365, 'lambda': 3366, 'dled': 3367, 'matched': 3368, 'help08714742804': 3369, 'wifehow': 3370, 'dereks': 3371, 'youhow': 3372, 'performed': 3373, 'dammit': 3374, 'lunsford': 3375, 'pours': 3376, 'dearslp': 3377, 'welltake': 3378, 'careswt': 3379, 'dreamsmuah': 3380, 'massive': 3381, 'involved': 3382, 'sq825': 3383, 'arrival': 3384, 'onedge': 3385, 'wesley': 3386, 'howve': 3387, 'highest': 3388, 'maximum': 3389, '71': 3390, 'shore': 3391, '07801543489': 3392, 'wordcollect': 3393, 'no83355': 3394, 'tcllc': 3395, 'nyusa': 3396, '150pmt': 3397, 'msgrcvd18': 3398, '08719181503': 3399, 'silver': 3400, 'flatter': 3401, 'pint': 3402, 'carlin': 3403, 'bluff': 3404, 'tootsie': 3405, 'skye': 3406, 'blessget': 3407, 'deari': 3408, 'brdget': 3409, 'jones': 3410, 'audreys': 3411, 'celeb': 3412, '087016248': 3413, 'bhaskar': 3414, 'stressfull': 3415, 'footie': 3416, 'phil': 3417, 'neville': 3418, 'wither': 3419, 'eg23f': 3420, 'eg23g': 3421, 'worryuse': 3422, 'cloth': 3423, 'packalso': 3424, 'debating': 3425, 'nigro': 3426, '09058097189': 3427, 'ls15hb': 3428, 'wined': 3429, 'dined': 3430, 'staffsciencenusedusgphyhcmkteachingpc1323': 3431, 'wheellock': 3432, 'friendofafriend': 3433, 'actual': 3434, 'copied': 3435, 'quizwin': 3436, 'duchess': 3437, '82277unsub': 3438, '008704050406': 3439, 'fifth': 3440, 'woozles': 3441, 'weasel': 3442, 'hmph': 3443, 'baller': 3444, 'kkwhat': 3445, 'transferacc': 3446, 'ssi': 3447, 'thinl': 3448, 'sachinjust': 3449, 'feelingwavering': 3450, 'individualtime': 3451, 'heal': 3452, 'confirmdeny': 3453, 'nowsend': 3454, '62220cncl': 3455, 'stopcs': 3456, '08717890890': 3457, 'sthis': 3458, 'increase': 3459, 'ranjith': 3460, 'drpd': 3461, 'deeraj': 3462, 'deepak': 3463, 'wordnot': 3464, 'merely': 3465, 'relationshipits': 3466, 'wherevr': 3467, 'forevr': 3468, 'gudnyt': 3469, 'updatenow': 3470, 'call2optoutf4q': 3471, 'treated': 3472, '83435': 3473, 'epi': 3474, '09065171142stopsms08718727870150ppm': 3475, 'unit': 3476, 'accent': 3477, '4years': 3478, 'dental': 3479, 'nmde': 3480, 'accenture': 3481, 'mymoby': 3482, 'dahow': 3483, 'latebut': 3484, 'kwish': 3485, 'nojst': 3486, 'ou': 3487, 'forced': 3488, 'waliking': 3489, 'hgsuite3422landsroww1j6hl': 3490, 'wasted': 3491, 'ignorant': 3492, 'ree': 3493, 'marandratha': 3494, 'brum': 3495, 'knowthis': 3496, 'tirunelvai': 3497, 'pocay': 3498, 'wocay': 3499, '2morrowxxxx': 3500, 'forfeit': 3501, 'gonnamissu': 3502, 'buttheres': 3503, 'aboutas': 3504, 'merememberin': 3505, 'asthere': 3506, 'ofsi': 3507, 'breakin': 3508, 'yaxx': 3509, 'messageno': 3510, 'responcewhat': 3511, 'meare': 3512, 'dub': 3513, 'je': 3514, 'buff': 3515, 'cheetos': 3516, '07808726822': 3517, '08718729758': 3518, 'misundrstud': 3519, 'msn': 3520, 'fo': 3521, 'senor': 3522, 'brah': 3523, 'armenia': 3524, 'swann': 3525, 'howard': 3526, '101mega': 3527, 'pixel': 3528, '3optical': 3529, '5digital': 3530, 'doom': 3531, 'kkfrom': 3532, 'hundredhe': 3533, 'batsman': 3534, 'datingi': 3535, 'coincidence': 3536, 'alivebetter': 3537, 'sleepy': 3538, '10th': 3539, '09050000555': 3540, 'ba128nnfwfly150ppm': 3541, 'annie': 3542, 'onit': 3543, '5k': 3544, '09064011000': 3545, 'cr01327bt': 3546, 'fixedline': 3547, 'ducking': 3548, 'chinchilla': 3549, 'olowoyey': 3550, 'uscedu': 3551, 'argentina': 3552, '09064012103': 3553, 'elaborating': 3554, 'safety': 3555, 'aspect': 3556, 'dismay': 3557, 'worrying': 3558, 'popcorn': 3559, 'unconsciously': 3560, 'avoiding': 3561, 'unhappy': 3562, 'versus': 3563, 'gam': 3564, 'healthy': 3565, 'timeyou': 3566, 'antelope': 3567, 'toplay': 3568, 'fieldof': 3569, 'selfindependence': 3570, 'contention': 3571, 'growrandom': 3572, 'marvel': 3573, 'ultimate': 3574, 'spiderman': 3575, 'spider': 3576, '83338': 3577, '8ball': 3578, 'yessura': 3579, 'tvlol': 3580, 'oyster': 3581, 'sashimi': 3582, 'stomach': 3583, 'rumbling': 3584, 'tagged': 3585, 'instant': 3586, '08715203028': 3587, '9th': 3588, 'wildlife': 3589, 'want2come': 3590, 'that2worzels': 3591, 'wizzle': 3592, 'ami': 3593, 'parchi': 3594, 'kicchu': 3595, 'kaaj': 3596, 'korte': 3597, 'iccha': 3598, 'korche': 3599, 'tul': 3600, 'poo': 3601, 'raviyog': 3602, 'peripheral': 3603, 'bhayandar': 3604, 'salesman': 3605, 'spark': 3606, 'rawring': 3607, 'xoxo': 3608, 'drove': 3609, 'prakesh': 3610, 'wikipediacom': 3611, 'ithis': 3612, 'bawling': 3613, 'failure': 3614, 'failing': 3615, 'loveable': 3616, 'eternal': 3617, 'noble': 3618, 'truthful': 3619, 'intimate': 3620, 'enamous': 3621, 'spageddies': 3622, 'mila': 3623, 'age23': 3624, 'blonde': 3625, 'mtalk': 3626, '6986618': 3627, '30pptxt': 3628, '5free': 3629, 'increment': 3630, 'help08718728876': 3631, 'needing': 3632, 'hooch': 3633, 'toaday': 3634, 'splat': 3635, 'grazed': 3636, 'eachother': 3637, 'hanger': 3638, 'hahahause': 3639, 'biolas': 3640, 'fne': 3641, 'confirmed': 3642, 'tallent': 3643, 'wasting': 3644, 'funk': 3645, 'tones2u': 3646, 'ew': 3647, 'nudist': 3648, 'themed': 3649, 'hopeso': 3650, 'hunny': 3651, 'amnow': 3652, 'ithink': 3653, 'tonsolitusaswell': 3654, 'layin': 3655, 'bedreal': 3656, 'lotsof': 3657, 'ortxt': 3658, 'sexychat': 3659, 'anal': 3660, 'compliment': 3661, 'painhope': 3662, 'invader': 3663, 'orig': 3664, 'console': 3665, '0': 3666, 'o2coukgames': 3667, 'grow': 3668, 'chickened': 3669, 'woould': 3670, 'lubly': 3671, 'eighth': 3672, 'jjc': 3673, 'tendency': 3674, 'yah': 3675, 'walmart': 3676, 'grinule': 3677, 'banneduk': 3678, 'lingo': 3679, 'raja': 3680, 'burrito': 3681, 'gurl': 3682, 'appropriate': 3683, 'dice': 3684, 'cocksucker': 3685, 'ipads': 3686, 'worthless': 3687, 'novelty': 3688, 'item': 3689, 'meat': 3690, 'supreme': 3691, 'honestly': 3692, 'promptly': 3693, 'burnt': 3694, 'btwn': 3695, 'leg': 3696, 'andrewsboy': 3697, 'a30': 3698, 'divert': 3699, 'wadebridgei': 3700, 'woah': 3701, 'realising': 3702, 'reasonable': 3703, 'punto': 3704, 'luton': 3705, '0125698789': 3706, 'h': 3707, 'viveki': 3708, 'clearly': 3709, 'irritation': 3710, 'yeesh': 3711, 'crashing': 3712, 'dessert': 3713, '80086': 3714, 'yuou': 3715, 'spot': 3716, '0870737910216yrs': 3717, '150wk': 3718, 'clever': 3719, 'pear': 3720, 'shouting': 3721, 'pierre': 3722, 'cardin': 3723, '515': 3724, 'install': 3725, 'browse': 3726, 'artist': 3727, 'weeddeficient': 3728, 'three': 3729, 'ofcourse': 3730, 'ecstasy': 3731, 'motivating': 3732, 'sharing': 3733, 'ore': 3734, 'owo': 3735, 'fro': 3736, 'chloe': 3737, 'visionsmscom': 3738, '150ptext': 3739, 'comedycant': 3740, 'clover': 3741, 'chachi': 3742, 'pl': 3743, 'tiz': 3744, 'kanagu': 3745, 'sold': 3746, 'onionrs': 3747, 'petrolrs': 3748, 'beerrs': 3749, 'sparkling': 3750, '45': 3751, '0121': 3752, '2025050': 3753, 'matric': 3754, 'avalarr': 3755, 'hollalater': 3756, 'passport': 3757, 'plum': 3758, 'smack': 3759, 'greatbye': 3760, 'bleak': 3761, 'hmmmstill': 3762, 'opener': 3763, 'serving': 3764, 'begun': 3765, 'registration': 3766, 'permanent': 3767, 'residency': 3768, 'accessible': 3769, '08709501522': 3770, '139': 3771, 'la3': 3772, '2wu': 3773, 'donewant': 3774, 'haul': 3775, 'hme': 3776, 'madam': 3777, 'endowed': 3778, 'kkyesterday': 3779, 'slacking': 3780, 'textsweekend': 3781, 'orno': 3782, 'ammaelife': 3783, 'steering': 3784, 'rajini': 3785, 'dobby': 3786, 'bathroom': 3787, 'citylink': 3788, '08714712412': 3789, '1225': 3790, '50award': 3791, 'ibm': 3792, 'hp': 3793, 'toshiba': 3794, 'gooddhanush': 3795, 'breaking': 3796, 'cstore': 3797, 'cloud': 3798, 'river': 3799, 'grumble': 3800, 'apart': 3801, 'rupaul': 3802, 'teju': 3803, 'accordin': 3804, 'discussed': 3805, 'recharged': 3806, 'finewhen': 3807, 'prasad': 3808, 'harri': 3809, 'prasanth': 3810, 'ettans': 3811, '08715500022': 3812, 'rpl': 3813, 'cnl': 3814, 'someonone': 3815, '09064015307': 3816, 'mapquest': 3817, 'dogwood': 3818, 'tiny': 3819, 'cutest': 3820, 'l8': 3821, 'gon': 3822, 'jetton': 3823, 'freemsgfeelin': 3824, 'lnly': 3825, 'pictxt': 3826, '116': 3827, 'necessarily': 3828, 'respectful': 3829, 'dearshall': 3830, 'tonitebusy': 3831, 'streetshall': 3832, 'tonitethings': 3833, 'okvarunnathu': 3834, 'edukkukayee': 3835, 'raksha': 3836, 'ollubut': 3837, 'responding': 3838, '08707500020': 3839, '078': 3840, 'bloomberg': 3841, '447797706009': 3842, 'bloombergcom': 3843, 'spontaneously': 3844, 'goodevening': 3845, 'complain': 3846, 'onlybettr': 3847, 'bsnl': 3848, 'offc': 3849, '82324': 3850, 'clip': 3851, '35p': 3852, 'mmsto': 3853, '32323': 3854, '07099833605': 3855, 'ref9280114': 3856, 'ryder': 3857, 'unsoldnow': 3858, 'sliding': 3859, 'attending': 3860, 'surrender': 3861, 'painit': 3862, 'todaydo': 3863, 'ystrdayice': 3864, 'hack': 3865, 'backdoor': 3866, 'fraction': 3867, 'neo69': 3868, '09050280520': 3869, 'subscribe': 3870, 'dp': 3871, 'bcm': 3872, '8027': 3873, 'messageit': 3874, 'dentist': 3875, 'nowadays': 3876, 'notixiquating': 3877, 'laxinorficated': 3878, 'bambling': 3879, 'entropication': 3880, 'oblisingately': 3881, 'opted': 3882, 'masteriastering': 3883, 'amplikater': 3884, 'fidalfication': 3885, 'champlaxigating': 3886, 'atrocious': 3887, 'wotz': 3888, 'junna': 3889, 'oursso': 3890, 'youany': 3891, 'although': 3892, 'eventually': 3893, 'tolerance': 3894, 'bbdpooja': 3895, 'pimpleseven': 3896, 'blackand': 3897, 'sweatter': 3898, 'educational': 3899, 'yummmm': 3900, 'splashmobile': 3901, 'subscrition': 3902, '300p': 3903, 'hang': 3904, 'atten': 3905, 'ninish': 3906, 'icky': 3907, 'freek': 3908, 'cheesy': 3909, 'frosty': 3910, 'truro': 3911, 'ext': 3912, 'alsoor': 3913, 'callfreefone': 3914, '08081560665': 3915, '07786200117': 3916, 'chart': 3917, 'shaking': 3918, 'dance': 3919, 'popped': 3920, 'loo': 3921, 'helloed': 3922, 'jam': 3923, 'hannaford': 3924, 'wheat': 3925, 'chex': 3926, 'shola': 3927, 'transfer': 3928, 'sagamu': 3929, 'lautech': 3930, 'vital': 3931, 'completes': 3932, 'education': 3933, 'zealand': 3934, 'burgundy': 3935, 'captaining': 3936, 'tai': 3937, 'feng': 3938, 'reservation': 3939, 'sts': 3940, '80488biz': 3941, 'signin': 3942, 'surfing': 3943, 'call2optout4qf2': 3944, 'sno': 3945, 'lux': 3946, 'eh74rr': 3947, 'kvb': 3948, 'toledo': 3949, 'surgical': 3950, 'emergency': 3951, 'unfolds': 3952, 'shjas': 3953, 'kalainar': 3954, 'officethenampet': 3955, 'babyhope': 3956, 'urfeeling': 3957, 'bettersn': 3958, 'probthat': 3959, 'overdose': 3960, 'dawn': 3961, 'refreshed': 3962, 'alive': 3963, 'breathe': 3964, 'svc': 3965, '69988': 3966, 'verify': 3967, 'fridge': 3968, '08712402578': 3969, 'trash': 3970, 'modelsony': 3971, 'ericson': 3972, 'der': 3973, 'luks': 3974, 'modl': 3975, 'nottel': 3976, 'juswoke': 3977, 'boatin': 3978, 'dock': 3979, 'spinout': 3980, 'reminded': 3981, 'limping': 3982, 'aa': 3983, 'velly': 3984, 'kkwhy': 3985, 'efficient': 3986, 'lovly': 3987, 'nok': 3988, 'impressed': 3989, 'grumpy': 3990, 'lying': 3991, 't91': 3992, 'gbp': 3993, '09057039994': 3994, 'enuff': 3995, 'varaya': 3996, 'elaya': 3997, 'k718': 3998, '09065069120': 3999, '600': 4000, 'landmark': 4001, 'bob': 4002, 'barry': 4003, '83738': 4004, 'woo': 4005, 'hoo': 4006, 'logoff': 4007, 'applespairsall': 4008, 'malarky': 4009, 'dehydrated': 4010, '1million': 4011, 'ppt150x3normal': 4012, 'box403': 4013, 'w1t1jy': 4014, 'predict': 4015, 'french': 4016, 'fooled': 4017, 'rebooting': 4018, 'guessin': 4019, 'peteynoi': 4020, 'timehope': 4021, 'alritehave': 4022, 'amx': 4023, 'kkits': 4024, 'goodwhen': 4025, 'sophas': 4026, 'secondary': 4027, 'applying': 4028, 'ogunrinde': 4029, '8000930705': 4030, 'doke': 4031, 'laying': 4032, 'gosh': 4033, 'spose': 4034, 'moneyi': 4035, 'thkin': 4036, 'parco': 4037, 'nb': 4038, 'wahala': 4039, 'nose': 4040, 'essay': 4041, 'neshanthtel': 4042, 'behalf': 4043, 'stunning': 4044, 'hellogorgeous': 4045, 'nitw': 4046, 'texd': 4047, 'hopeu': 4048, '4ward': 4049, 'cin': 4050, 'jaz': 4051, 'shant': 4052, 'kegger': 4053, 'bitching': 4054, 'madamregret': 4055, 'disturbancemight': 4056, 'dlf': 4057, 'premaricakindly': 4058, 'informedrgdsrakheshkerala': 4059, 'smoking': 4060, 'babesozi': 4061, 'culdnt': 4062, 'talkbut': 4063, 'wannatell': 4064, 'wenwecan': 4065, 'nimbomsons': 4066, 'aathiwhere': 4067, 'patent': 4068, 'shb': 4069, 'blimey': 4070, 'exercise': 4071, 'nonenowhere': 4072, 'ikno': 4073, 'doesdiscountshitinnit': 4074, '077xxx': 4075, '09066362206': 4076, 'unlike': 4077, 'patient': 4078, 'turkey': 4079, 'liquor': 4080, 'loko': 4081, '09061221061': 4082, '28days': 4083, 'box177': 4084, 'm221bp': 4085, '2yr': 4086, 'warranty': 4087, '399': 4088, 'anythings': 4089, 'kdo': 4090, 'daurgent': 4091, 'ashwini': 4092, 'toot': 4093, 'crossing': 4094, 'fiting': 4095, 'hwkeep': 4096, 'mj': 4097, 'baaaaaaaabe': 4098, 'ax': 4099, 'nasty': 4100, 'cough': 4101, 'apo': 4102, 'starve': 4103, 'allday': 4104, 'itll': 4105, 'nick': 4106, 'coulda': 4107, '1childish': 4108, '2naughty': 4109, '3sentiment': 4110, '4rowdy': 4111, '5ful': 4112, 'attitude': 4113, '6romantic': 4114, '7shy': 4115, '8attractive': 4116, '9funny': 4117, 'narcotic': 4118, 'tellmiss': 4119, 'hmv1': 4120, 'visitor': 4121, 'timi': 4122, 'selfish': 4123, 'bomb': 4124, 'thnx': 4125, 'disconnected': 4126, 'sang': 4127, 'uptown': 4128, '80': 4129, 'nacho': 4130, 'ello': 4131, 'itxx': 4132, 'tadaaaaa': 4133, 'september': 4134, 'shanilrakhesh': 4135, 'herethanksi': 4136, 'exchanged': 4137, 'uncut': 4138, 'stuffleaving': 4139, 'dino': 4140, 'hassling': 4141, 'andres': 4142, 'haughaighgtujhyguj': 4143, 'sez': 4144, 'arab': 4145, 'evry1': 4146, 'eshxxxxxxxxxxx': 4147, 'mittelschmertz': 4148, 'paracetamol': 4149, 'headache': 4150, 'chile': 4151, 'subletting': 4152, 'febapril': 4153, 'goal': 4154, 'villa': 4155, 'goodfine': 4156, 'crammed': 4157, 'stagwood': 4158, 'winterstone': 4159, 'victor': 4160, 'glo': 4161, 'cab': 4162, 'availablethey': 4163, 'jurong': 4164, 'amore': 4165, 'decade': 4166, 'goverment': 4167, 'expects': 4168, 'housewife': 4169, '08717507711': 4170, 'btnational': 4171, 'pansy': 4172, 'jungle': 4173, 'grooved': 4174, 'prizeto': 4175, 'sickness': 4176, 'teethif': 4177, 'asapok': 4178, '09058094599': 4179, 'entertain': 4180, 'aslamalaikkuminsha': 4181, 'tohar': 4182, 'beeen': 4183, 'muht': 4184, 'albi': 4185, 'mufti': 4186, 'mahfuuzmeaning': 4187, '09050000332': 4188, '09050000928': 4189, 'cps': 4190, 'outage': 4191, 'conserve': 4192, 'mc': 4193, 'offense': 4194, 'li': 4195, 'lecturer': 4196, 'repeating': 4197, 'flow': 4198, 'developed': 4199, 'ovarian': 4200, 'cyst': 4201, 'shrink': 4202, 'shitstorm': 4203, 'attributed': 4204, 'dawhats': 4205, 'hiwhat': 4206, 'hidid': 4207, 'waheeda': 4208, 'yoyyooo': 4209, 'mac': 4210, 'priya': 4211, 'earliest': 4212, 'equally': 4213, 'uneventful': 4214, 'pesky': 4215, 'cyclist': 4216, 'wishin': 4217, 'progress': 4218, 'grr': 4219, 'pharmacy': 4220, 'tmorrowpls': 4221, 'accomodate': 4222, 'maneesha': 4223, 'satisfied': 4224, 'toll': 4225, 'ahhhhjust': 4226, 'uphad': 4227, 'thoso': 4228, 'comedy': 4229, '3365': 4230, 'cumming': 4231, 'honeybee': 4232, 'sweetest': 4233, 'laughed': 4234, 'waitu': 4235, 'crack': 4236, 'gmgngegn': 4237, 'sporadically': 4238, '09071517866': 4239, '150ppmpobox10183bhamb64xe': 4240, 'prestige': 4241, 'beth': 4242, 'charlie': 4243, 'helen': 4244, 'watchin': 4245, 'resizing': 4246, 'themobyo': 4247, 'yohere': 4248, '08718723815': 4249, 'lobby': 4250, 'bull': 4251, 'floating': 4252, '850': 4253, '650': 4254, 'anyones': 4255, 'thasa': 4256, 'messed': 4257, 'upyeh': 4258, 'shudvetold': 4259, 'urgran': 4260, 'knowneway': 4261, 'illspeak': 4262, 'u2moro': 4263, 'afternon': 4264, 'brin': 4265, 'inshah': 4266, 'keypad': 4267, 'gray': 4268, 'remembr': 4269, 'listn': 4270, 'watevr': 4271, 'whileamp': 4272, 'wan2': 4273, 'meetgreet': 4274, 'westlife': 4275, '1unbreakable': 4276, '2untamed': 4277, '3unkempt': 4278, '83049': 4279, '09050001295': 4280, 'a21': 4281, 'eurodisinc': 4282, 'trav': 4283, 'acoentry41': 4284, '186': 4285, '150morefrmmob': 4286, 'shracomorsglsuplt10': 4287, 'ls1': 4288, '3aj': 4289, 'sized': 4290, 'frankie': 4291, 'benny': 4292, '08718730555': 4293, 'pathaya': 4294, 'enketa': 4295, 'maraikara': 4296, '1172': 4297, 'yagoing': 4298, '09094646899': 4299, 'vu': 4300, 'bcm1896wc1n3xx': 4301, 'nobut': 4302, 'gauge': 4303, 'interest': 4304, 'pt2': 4305, 'owe': 4306, 'foned': 4307, 'chuck': 4308, 'spiritual': 4309, 'bmw': 4310, 'urgentlyits': 4311, 'urgentbut': 4312, 'shortage': 4313, 'lacsthere': 4314, 'arng': 4315, 'amt': 4316, 'lacsthats': 4317, 'poorly': 4318, 'punishment': 4319, 'brb': 4320, 'gep': 4321, 'vldo': 4322, 'adsense': 4323, 'approved': 4324, 'daplease': 4325, 'someday': 4326, 'ana': 4327, 'sathy': 4328, 'rto': 4329, 'silence': 4330, 'goigng': 4331, 'perfume': 4332, 'passthey': 4333, 'ntswt': 4334, 'drms': 4335, 'explicitly': 4336, 'nora': 4337, 'low': 4338, 'gyno': 4339, 'shoving': 4340, 'belong': 4341, '215': 4342, 'monthlysubscription50pmsg': 4343, 'max6month': 4344, 'tcsc': 4345, '2stop': 4346, '09090900040': 4347, 'extreme': 4348, 'sic': 4349, '60p': 4350, '247mp': 4351, '0870753331018': 4352, 'poortiyagi': 4353, 'odalebeku': 4354, 'hanumanji': 4355, '1hanuman': 4356, '2bajarangabali': 4357, '3maruti': 4358, '4pavanaputra': 4359, '5sankatmochan': 4360, '6ramaduth': 4361, '7mahaveer': 4362, 'janarige': 4363, 'ivatte': 4364, 'kalisidare': 4365, 'olage': 4366, 'ondu': 4367, 'keluviri': 4368, 'maretare': 4369, 'inde': 4370, 'dodda': 4371, 'problum': 4372, 'nalli': 4373, 'siguviri': 4374, 'idu': 4375, 'matra': 4376, 'neglet': 4377, 'pobox202': 4378, 'nr31': 4379, '7zs': 4380, '450pw': 4381, 'headset': 4382, 'adp': 4383, '80608': 4384, '08712405022': 4385, '08715203694': 4386, '02070836089': 4387, 'ahthe': 4388, 'tomorrowcall': 4389, '67441233': 4390, 'ireneere': 4391, 'bus822656166382': 4392, 'cresubi': 4393, 'tech': 4394, 'park6ph': 4395, '5wkg': 4396, 'daysèn': 4397, 'capital': 4398, 'cozy': 4399, 'nightnobody': 4400, 'closed': 4401, 'pride': 4402, 'grownup': 4403, 'stuffwhy': 4404, 'dado': 4405, 'maggi': 4406, 'mee': 4407, 'divorce': 4408, 'hourish': 4409, 'entirely': 4410, 'initiate': 4411, 'againloving': 4412, '09050001808': 4413, 'm95': 4414, 'valid12hrs': 4415, 'lasting': 4416, 'asa': 4417, 'poyyarikaturkolathupalayamunjalur': 4418, 'posterode': 4419, 'topic': 4420, 'adventuring': 4421, 'chikkuwat': 4422, 'recpt': 4423, '13': 4424, 'club4mobilescom': 4425, '87070': 4426, 'club4': 4427, 'box1146': 4428, 'mk45': 4429, '2wt': 4430, 'chk': 4431, 'm': 4432, 'dict': 4433, 'phone750': 4434, 'text82228': 4435, 'infotxt82228couk': 4436, '88877free': 4437, '88877': 4438, 'shorethe': 4439, 'fox': 4440, 'frndsship': 4441, 'dwn': 4442, 'jewelry': 4443, 'shrek': 4444, '3db': 4445, 'cr': 4446, 'folk': 4447, '150psms': 4448, 'orh': 4449, 'scrappy': 4450, 'unhappiness': 4451, 'shhhhh': 4452, '1000call': 4453, '09071512432': 4454, '300603tcsbcm4235wc1n3xxcallcost150ppmmobilesvary': 4455, 'officestill': 4456, 'formsdon': 4457, 'borderline': 4458, 'comingdown': 4459, 'chief': 4460, 'santha': 4461, 'corrct': 4462, 'dane': 4463, 'feathery': 4464, 'bowa': 4465, '09061104283': 4466, '3mins': 4467, 'givits': 4468, 'kanoanyway': 4469, 'cheery': 4470, 'signing': 4471, 'ridden': 4472, 'todaybut': 4473, 'becz': 4474, 'undrstndng': 4475, 'avoids': 4476, 'suffer': 4477, 'rcbbattle': 4478, 'kochi': 4479, 'minnaminunginte': 4480, 'nurungu': 4481, 'vettam': 4482, 'fps': 4483, 'dayhas': 4484, 'valuemorning': 4485, 'hopeafternoon': 4486, 'faithevening': 4487, 'luvnight': 4488, 'restwish': 4489, 'todaygood': 4490, 'hellodrivby0quit': 4491, 'edrunk': 4492, 'iff': 4493, 'pthis': 4494, 'senrddnot': 4495, 'dancce': 4496, 'drum': 4497, 'basqihave': 4498, '2nhite': 4499, 'ro': 4500, 'xxxxxxx': 4501, 'pen': 4502, 'biro': 4503, '087018728737': 4504, 'toppoly': 4505, 'tune': 4506, '81618': 4507, 'shitin': 4508, 'defo': 4509, 'hardest': 4510, 'lekdog': 4511, 'nowonion': 4512, 'eldest': 4513, 'darker': 4514, 'styling': 4515, 'playerwhy': 4516, 'optimistic': 4517, 'improve': 4518, 'petey': 4519, 'whereare': 4520, 'friendsare': 4521, 'thekingshead': 4522, 'canlove': 4523, 'nic': 4524, 'pai': 4525, 'seh': 4526, 'tix': 4527, 'heavily': 4528, 'replacing': 4529, 'convenience': 4530, 'yettys': 4531, 'japanese': 4532, 'proverb': 4533, 'itu': 4534, 'itleave': 4535, 'deus': 4536, 'twinks': 4537, 'scallies': 4538, 'skin': 4539, 'jock': 4540, '08712466669': 4541, '08712460324nat': 4542, 'sexiest': 4543, 'dirtiest': 4544, 'wiskey': 4545, 'brandy': 4546, 'rum': 4547, 'gin': 4548, 'scotch': 4549, 'shampain': 4550, 'kudiyarasu': 4551, 'dhina': 4552, 'vaazhthukkal': 4553, '09050005321': 4554, 'approaching': 4555, 'sankranti': 4556, 'republic': 4557, 'shivratri': 4558, 'ugadi': 4559, 'independence': 4560, 'friendshipmotherfatherteacherschildrens': 4561, 'festival': 4562, 'dasara': 4563, 'rememberi': 4564, 'theseyours': 4565, 'shag': 4566, 'dointerested': 4567, 'sextextukcom': 4568, 'xxuk': 4569, '69876': 4570, 'ashley': 4571, 'greatbhaji': 4572, 'cricketer': 4573, 'sachin': 4574, 'worldvery': 4575, 'evry': 4576, 'emotion': 4577, 'wordsevry': 4578, 'prayrs': 4579, 'smiled': 4580, 'uothrwise': 4581, 'uso': 4582, 'deary': 4583, 'occupied': 4584, 'falling': 4585, 'force': 4586, 'smeone': 4587, 'accordingly': 4588, 'blanked': 4589, 'pleasured': 4590, 'coccooning': 4591, 'pattern': 4592, 'emerging': 4593, 'fiendmake': 4594, 'muchimpede': 4595, 'hesitant': 4596, 'beverage': 4597, 'vpist': 4598, 'vai': 4599, 'callon': 4600, 'engin': 4601, 'philosophical': 4602, 'hole': 4603, '1010': 4604, 'impressively': 4605, 'sensible': 4606, 'prince': 4607, 'charming': 4608, 'correction': 4609, 'pdatenow': 4610, 'call2optoutyhl': 4611, 'hmmbad': 4612, 'newshype': 4613, 'plaza': 4614, '700': 4615, 'studio': 4616, 'takenonly': 4617, 'bedrm900': 4618, 'kkthis': 4619, 'kotees': 4620, 'bffs': 4621, 'carly': 4622, 'understanding': 4623, 'grinder': 4624, '0871277810710pmin': 4625, 'disc': 4626, 'nutter': 4627, 'cutter': 4628, 'ctter': 4629, 'cttergg': 4630, 'cttargg': 4631, 'ctargg': 4632, 'ctagg': 4633, 'ie': 4634, 'arestaurant': 4635, 'squid': 4636, 'dosomething': 4637, 'predicte': 4638, 'ownyouve': 4639, 'stressed': 4640, 'websitenow': 4641, 'blogging': 4642, 'magicalsongsblogspotcom': 4643, 'bold2': 4644, 'bootydelious': 4645, '32f': 4646, 'yes434': 4647, 'no434': 4648, 'uv': 4649, 'mutation': 4650, 'sunscreen': 4651, 'thesedays': 4652, 'younger': 4653, 'ouch': 4654, 'medont': 4655, 'lm': 4656, 'arrived': 4657, 'mineall': 4658, 'annoyin': 4659, 'screwd': 4660, 'temple': 4661, 'nightnight': 4662, 'dialogue': 4663, 'reltnship': 4664, 'wipe': 4665, 'timegud': 4666, 'dismissial': 4667, 'windy': 4668, 'paypal': 4669, 'voila': 4670, 'pocket': 4671, 'silly': 4672, 'infra': 4673, 'andor': 4674, 'deduct': 4675, 'mushy': 4676, 'embarrassed': 4677, 'ow': 4678, 'deyi': 4679, '60400thousadi': 4680, 'guai': 4681, 'defer': 4682, 'admission': 4683, 'smaller': 4684, 'capacity': 4685, 'rushing': 4686, 'alls': 4687, 'animal': 4688, 'minstexts': 4689, 'tomorro': 4690, 'dayexcept': 4691, 'peach': 4692, 'tasts': 4693, 'lush': 4694, 'gene': 4695, 'parachute': 4696, '08707509020': 4697, '0870k': 4698, 'ahnow': 4699, 'wherebtw': 4700, 'nu': 4701, 'sc': 4702, 'specialise': 4703, 'wad': 4704, 'ny': 4705, 'salespee': 4706, 'snickering': 4707, 'chord': 4708, 'tattoo': 4709, 'outsider': 4710, 'crashed': 4711, 'cuddled': 4712, 'unsoldmike': 4713, 'hussey': 4714, 'wrc': 4715, 'lucozade': 4716, '61200': 4717, 'pack': 4718, 'lucozadecoukwrc': 4719, 'itcould': 4720, 'glorious': 4721, 'anniversary': 4722, 'coaxing': 4723, 'fond': 4724, 'souveniers': 4725, 'cougarpen': 4726, 'auntie': 4727, 'huai': 4728, 'juan': 4729, 'alibi': 4730, 'cutting': 4731, 'yesgauti': 4732, 'sehwag': 4733, 'odi': 4734, '645pm': 4735, '07808247860': 4736, '08719899229': 4737, '40411': 4738, '061104': 4739, 'printing': 4740, 'handing': 4741, 'inpersonation': 4742, 'flea': 4743, 'crickiting': 4744, 'btooth': 4745, 'freenokia': 4746, 'or2optouthv9d': 4747, 'importantly': 4748, 'shopthe': 4749, 'help08700469649': 4750, 'box420': 4751, 'nordstrom': 4752, 'ssindia': 4753, 'african': 4754, 'soil': 4755, 'canteen': 4756, 'thinkthis': 4757, 'dangerous': 4758, 'flying': 4759, 'ngage': 4760, 'deck': 4761, 'sexual': 4762, '69911': 4763, '415': 4764, 'daysso': 4765, 'prepared': 4766, 'finalise': 4767, 'visitneed': 4768, 'showr': 4769, 'w4': 4770, '5wq': 4771, 'yalru': 4772, 'astne': 4773, 'innu': 4774, 'mundhe': 4775, 'ali': 4776, 'halla': 4777, 'bilo': 4778, 'marriageprogram': 4779, 'edhae': 4780, 'ovr': 4781, 'chikkuali': 4782, 'vargu': 4783, 'meow': 4784, 'meowd': 4785, 'processnetworking': 4786, 'field': 4787, 'warned': 4788, 'sprint': 4789, 'pookie': 4790, 'sundayish': 4791, 'julianaland': 4792, 'oblivious': 4793, 'upsetits': 4794, 'upset': 4795, 'tote': 4796, 'satjust': 4797, 'payed2day': 4798, 'havbeen': 4799, 'rise': 4800, '4my': 4801, 'havebeen': 4802, 'preschoolcoordinator': 4803, '2i': 4804, 'feelingood': 4805, 'occasion': 4806, 'celebrated': 4807, 'reflection': 4808, 'affectionsamp': 4809, 'tradition': 4810, 'gsex': 4811, '2667': 4812, 'wc1n': 4813, '3xx': 4814, 'rp176781': 4815, '08717205546': 4816, 'meaningless': 4817, 'natalie': 4818, '20f': 4819, 'yes165': 4820, 'no165': 4821, 'newspaper': 4822, 'videopic': 4823, 'fones': 4824, 'wild': 4825, '150prcvd': 4826, 'stop2stop': 4827, 'sculpture': 4828, '8830': 4829, 'cld': 4830, 'nosh': 4831, 'vat': 4832, 'xins': 4833, 'the4th': 4834, 'october': 4835, 'kbut': 4836, 'hitteranyway': 4837, 'bike': 4838, 'factory': 4839, 'waitshould': 4840, 'familymay': 4841, 'stability': 4842, 'tranquility': 4843, 'vibrant': 4844, 'colourful': 4845, 'timin': 4846, '08002986906': 4847, 'youwhen': 4848, 'urgh': 4849, 'coach': 4850, 'chip': 4851, 'duvet': 4852, 'predictive': 4853, 'ritten': 4854, 'fold': 4855, '08452810071': 4856, 'tantrum': 4857, 'vidnot': 4858, 'finishd': 4859, 'edge': 4860, 'underdtand': 4861, 'truekdo': 4862, 'proper': 4863, 'tongued': 4864, 'skateboarding': 4865, 'despite': 4866, 'thrown': 4867, 'bandage': 4868, '5i': 4869, 'dreading': 4870, 'thou': 4871, 'entrepreneur': 4872, 'nowcan': 4873, 'conacted': 4874, 'youto': 4875, '09111030116': 4876, 'pobox12n146tf15': 4877, 'stalking': 4878, 'prometazine': 4879, 'syrup': 4880, '5mls': 4881, 'feed': 4882, 'gotto': 4883, '08702840625': 4884, 'comuk220cm2': 4885, 'recieve': 4886, 'teletext': 4887, 'pg': 4888, 'doublefaggot': 4889, 'eviction': 4890, 'spiral': 4891, 'michael': 4892, 'riddance': 4893, '21': 4894, 'yalrigu': 4895, 'heltiniiyo': 4896, 'meso': 4897, 'uttered': 4898, 'trusting': 4899, 'meok': 4900, 'chikkub': 4901, 'science': 4902, 'bcozi': 4903, 'adewale': 4904, 'egbon': 4905, 'repent': 4906, 'regretted': 4907, 'soc': 4908, 'hmmmy': 4909, 'absence': 4910, 'gently': 4911, 'rct': 4912, 'thnq': 4913, 'adrian': 4914, 'rgds': 4915, 'vatian': 4916, 'motivate': 4917, 'darkness': 4918, 'shining': 4919, 'diddy': 4920, 'toothpaste': 4921, 'so': 4922, 'misplaced': 4923, 'surly': 4924, 'forgiven': 4925, 'yupz': 4926, 'slot': 4927, 'stamped': 4928, '113': 4929, 'bray': 4930, 'wicklow': 4931, 'eire': 4932, '100psms': 4933, 'hellohow': 4934, 'doingwhat': 4935, '2when': 4936, 'lamp': 4937, 'stated': 4938, '09066361921': 4939, 'havin': 4940, '09099725823': 4941, 'slob': 4942, 'spoil': 4943, 'everyones': 4944, 'babysitting': 4945, 'recdthirtyeight': 4946, 'indyarockscom': 4947, 'phonebook': 4948, 'ummmawill': 4949, 'inour': 4950, 'tip': 4951, 'wendy': 4952, 'multis': 4953, 'wamma': 4954, 'laidwant': 4955, 'doggin': 4956, '69696': 4957, 'nownyt': 4958, '3lp': 4959, '150msg': 4960, 'lit': 4961, 'promotion': 4962, '8714714': 4963, 'operate': 4964, 'financial': 4965, 'problemi': 4966, 'exposed': 4967, 'batt': 4968, 'wellyou': 4969, 'lifeyou': 4970, 'thati': 4971, 'conversation': 4972, 'usget': 4973, 'timeyour': 4974, 'sensesrespect': 4975, 'overemphasiseor': 4976, 'salam': 4977, 'wahleykkumsharing': 4978, 'newsby': 4979, 'grace': 4980, 'tayseertissco': 4981, 'joinedhope': 4982, 'fineinshah': 4983, 'allahmeet': 4984, 'sometimerakheshvisitor': 4985, 'collecting': 4986, 'configure': 4987, 'elephant': 4988, 'shove': 4989, 'um': 4990, 'skillgame1winaweek': 4991, 'age16150ppermesssubscription': 4992, 'steyn': 4993, 'wicket': 4994, '0anetworks': 4995, 'allow': 4996, 'responsible': 4997, 'supplier': 4998, 'guarantee': 4999, 'mumhas': 5000, 'beendropping': 5001, 'theplace': 5002, 'adress': 5003, 'method': 5004, 'attended': 5005, '08718726970': 5006, 'abeg': 5007, 'sponsor': 5008, 'ambrithmaduraimet': 5009, 'arun': 5010, 'dha': 5011, 'marrgeremembr': 5012, 'dorm': 5013, 'lolnice': 5014, 'surname': 5015, 'clue': 5016, 'jerk': 5017, 'rip': 5018, 'uterus': 5019, 'reverse': 5020, 'cheating': 5021, 'mathematics': 5022, 'nohe': 5023, 'textin': 5024, 'moneyas': 5025, 'youmoney': 5026, 'thinghow': 5027, 'caveboy': 5028, 'teaching': 5029, 'mornin': 5030, 'thanku': 5031, 'boltblue': 5032, 'poly3': 5033, 'jamz': 5034, 'toxic': 5035, 'pity': 5036, 'soany': 5037, '08717895698': 5038, 'mobstorequiz10ppm': 5039, 'leo': 5040, 'hall': 5041, 'hesitation': 5042, 'intha': 5043, 'ponnungale': 5044, 'ipaditan': 5045, 'beerage': 5046, 'flew': 5047, 'audiitions': 5048, 'relocate': 5049, 'urination': 5050, 'sao': 5051, 'oxygen': 5052, 'resort': 5053, 'roller': 5054, 'trend': 5055, 'con': 5056, 'description': 5057, 'nuclear': 5058, 'fusion': 5059, 'iter': 5060, 'jet': 5061, '08002888812': 5062, 'headstart': 5063, '230ish': 5064, 'earlierwe': 5065, 'rummer': 5066, 'knocking': 5067, 'wating': 5068, 'raping': 5069, 'poker': 5070, 'godi': 5071, 'youclean': 5072, 'bloodsend': 5073, 'itplspls': 5074, 'ryans': 5075, 'chapel': 5076, 'frontierville': 5077, 'stoner': 5078, 'stretch': 5079, 'liver': 5080, 'hsbc': 5081, 'ku': 5082, 'call09050000327': 5083, 'swell': 5084, 'satsgettin': 5085, '447per': 5086, 'perform': 5087, 'misscall': 5088, 'frndz': 5089, '6missed': 5090, 'asda': 5091, 'sane': 5092, 'helping': 5093, 'mary': 5094, 'performance': 5095, 'calculated': 5096, 'monthnot': 5097, 'ucall': 5098, 'wrki': 5099, 'dabooks': 5100, 'nite2': 5101, 'fatty': 5102, 'sink': 5103, 'pace': 5104, 'cage': 5105, 'surrounded': 5106, 'owns': 5107, 'cuck': 5108, 'casualty': 5109, 'stuff42moro': 5110, 'includes': 5111, 'complaining': 5112, 'subtoitles': 5113, 'hearing': 5114, 'computerless': 5115, 'noooooooo': 5116, 'bangbabes': 5117, 'bangb': 5118, 'internetservice': 5119, 'hectic': 5120, 'jontin': 5121, 'swollen': 5122, 'gland': 5123, 'farting': 5124, 'bluray': 5125, '2channel': 5126, 'leadership': 5127, 'skill': 5128, 'psychic': 5129, 'wquestion': 5130, 'arabian': 5131, 'steed': 5132, 'mmmmmm': 5133, 'lightly': 5134, 'custom': 5135, 'checkboxes': 5136, 'knickers': 5137, '01223585236': 5138, 'nikiyu4net': 5139, 'vtired': 5140, 'inspection': 5141, 'nursery': 5142, 'recharge': 5143, 'luckily': 5144, 'starring': 5145, 'gudnitetcpractice': 5146, '08712402972': 5147, 'fireplace': 5148, 'icon': 5149, '0796xxxxxx': 5150, 'day2': 5151, 'prizeawaiting': 5152, 'funeral': 5153, 'tonexs': 5154, 'renewed': 5155, 'billing': 5156, 'torture': 5157, 'garden': 5158, 'bulb': 5159, 'seed': 5160, '3350': 5161, 'scotsman': 5162, 'go2': 5163, 'notxtcouk': 5164, 'teresa': 5165, 'dec': 5166, 'yould': 5167, 'bam': 5168, 'usmle': 5169, 'kaila': 5170, 'pressies': 5171, 'hitechnical': 5172, 'supportproviding': 5173, 'assistance': 5174, 'ger': 5175, 'toking': 5176, 'syd': 5177, 'lehhaha': 5178, 'awkward': 5179, '6times': 5180, 'chop': 5181, 'misbehaved': 5182, 'skint': 5183, 'fancied': 5184, 'bevieswaz': 5185, 'othrs': 5186, 'watchng': 5187, 'planet': 5188, 'earthsofa': 5189, 'comfey': 5190, 'splash': 5191, 'playng': 5192, 'andre': 5193, 'virgil': 5194, 'meetins': 5195, 'cumin': 5196, '09099726395': 5197, 'carlosll': 5198, 'jaklin': 5199, 'restock': 5200, 'general': 5201, 'ifwhenhow': 5202, 'wlcome': 5203, 'innocent': 5204, 'champ': 5205, 'glasgow': 5206, 'conference': 5207, 'fwiw': 5208, 'afford': 5209, '09096102316': 5210, 'multimedia': 5211, 'cashbincouk': 5212, 'reassuring': 5213, 'huge': 5214, 'marking': 5215, 'esaplanade': 5216, 'complacent': 5217, 'gastroenteritis': 5218, 'replace': 5219, 'reduce': 5220, 'limiting': 5221, 'illness': 5222, '08714712394': 5223, '449050000301': 5224, '09050000301': 5225, '09064017305': 5226, 'pobox75ldns7': 5227, 'positive': 5228, 'negative': 5229, 'hmmmm': 5230, 'dubsack': 5231, 'sorryi': 5232, 'justbeen': 5233, 'overa': 5234, 'mush': 5235, 'sitter': 5236, 'kaitlyn': 5237, 'godnot': 5238, 'chitchat': 5239, 'logon': 5240, '8883': 5241, 'cm': 5242, '4217': 5243, 'w1a': 5244, '6zf': 5245, '118pmsg': 5246, 'decorating': 5247, 'secretly': 5248, '09065394514': 5249, 'datebox1282essexcm61xn': 5250, 'gail': 5251, 'wrongtake': 5252, 'worryc': 5253, 'hunlove': 5254, 'yaxxx': 5255, '02072069400': 5256, 'bx': 5257, '526': 5258, 'neither': 5259, 'sterm': 5260, 'resolved': 5261, 'fab': 5262, 'dump': 5263, 'heap': 5264, 'lowes': 5265, '09066364311': 5266, 'concentration': 5267, 'rebtel': 5268, 'firefox': 5269, '88800': 5270, '89034': 5271, '08718711108': 5272, 'olympics': 5273, 'coco': 5274, 'dorothykiefercom': 5275, 'sday': 5276, 'joinedso': 5277, 'peteis': 5278, 'leannewhat': 5279, 'quarter': 5280, '98321561': 5281, 'familiar': 5282, 'pump': 5283, 'exorcism': 5284, 'emily': 5285, 'snogs': 5286, 'stubborn': 5287, 'maili': 5288, 'mailed': 5289, 'varma': 5290, 'membershiptake': 5291, 'careinsha': 5292, 'elvis': 5293, 'presley': 5294, 'alertfrom': 5295, 'jeri': 5296, 'stewartsize': 5297, '2kbsubject': 5298, 'lowcost': 5299, 'prescripiton': 5300, 'drvgsto': 5301, '123': 5302, '09058094583': 5303, 'hrishi': 5304, 'ipad': 5305, 'broadband': 5306, 'installation': 5307, '20m12aq': 5308, 'spreadsheet': 5309, 'determine': 5310, 'entire': 5311, 'ofice': 5312, 'oficegot': 5313, 'duffer': 5314, '9pm': 5315, 'go2sri': 5316, 'lanka': 5317, 'ciao': 5318, 'interfued': 5319, 'plumber': 5320, 'wrench': 5321, 'coveragd': 5322, 'vasai': 5323, '4o': 5324, 'godtaken': 5325, 'teethis': 5326, 'paining': 5327, '09066364349': 5328, 'box434sk38wp150ppm18': 5329, 'stil': 5330, 'tobed': 5331, 'hunnywot': 5332, 'bedroomlove': 5333, 'internal': 5334, 'extract': 5335, 'payasam': 5336, 'rinu': 5337, 'thangamits': 5338, 'approve': 5339, 'panalambut': 5340, 'basket': 5341, '8077': 5342, 'aathilove': 5343, 'thinked': 5344, 'scrumptious': 5345, 'professional': 5346, 'tiger': 5347, 'wood': 5348, 'okies': 5349, 'drama': 5350, 'plsi': 5351, 'struggling': 5352, 'placeno': 5353, 'ego': 5354, 'necessity': 5355, 'gowait': 5356, 'reppurcussions': 5357, '07732584351': 5358, 'rodger': 5359, 'ingredient': 5360, 'ringtonefrom': 5361, 'wmlid1b6a5ecef91ff937819firsttrue180430jul05': 5362, 'deserve': 5363, 'jos': 5364, 'motherfucker': 5365, 'anybodys': 5366, 'tactful': 5367, 'ability': 5368, 'carton': 5369, 'soiree': 5370, '3rd': 5371, 'slaaaaave': 5372, 'summon': 5373, 'x2': 5374, 'url': 5375, 'sicomo': 5376, 'nolistened2the': 5377, 'plaid': 5378, 'albumquite': 5379, 'gdthe': 5380, 'air1': 5381, 'hilariousalso': 5382, 'braindance': 5383, 'compofstuff': 5384, 'aphex': 5385, 'abelu': 5386, 'hav2hear': 5387, 'itc': 5388, '83370': 5389, '08715705022': 5390, '7634': 5391, '7684': 5392, 'faggy': 5393, 'adding': 5394, 'zero': 5395, 'saving': 5396, 'acting': 5397, 'unspoken': 5398, 'phony': 5399, 'posh': 5400, 'chap': 5401, 'trial': 5402, 'prod': 5403, 'champneys': 5404, 'dob': 5405, 'gota': 5406, 'praps': 5407, 'fightng': 5408, 'dificult': 5409, 'emailed': 5410, 'yifeng': 5411, 'ploughing': 5412, 'pile': 5413, 'ironing': 5414, 'chinky': 5415, 'natalja': 5416, '25f': 5417, 'yes440': 5418, 'no440': 5419, 'fortune': 5420, 'corporation': 5421, 'guessed': 5422, 'gumbys': 5423, 'prop': 5424, 'evaluation': 5425, 'bbq': 5426, '6ish': 5427, 'west': 5428, 'shite': 5429, 'kip': 5430, 'hidden': 5431, 'jeremiah': 5432, 'firmware': 5433, 'heroi': 5434, 'apt': 5435, 'opportunitypls': 5436, 'ltemailgt': 5437, 'hugging': 5438, 'erutupalam': 5439, 'thandiyachu': 5440, 'western': 5441, 'wipro': 5442, 'lucyxx': 5443, 'kkany': 5444, 'infact': 5445, 'gek1510': 5446, 'alreadysabarish': 5447, 'zahers': 5448, 'sinco': 5449, 'payee': 5450, 'icicibankcom': 5451, 'fraud': 5452, 'disclose': 5453, 'dayu': 5454, 'dear1': 5455, 'best1': 5456, 'clos1': 5457, 'lvblefrnd': 5458, 'jstfrnd': 5459, 'cutefrnd': 5460, 'lifpartnr': 5461, 'swtheart': 5462, 'bstfrnd': 5463, 'classmate': 5464, 'hmmmhow': 5465, 'convince': 5466, 'witot': 5467, 'hurting': 5468, 'humanity': 5469, 'sem': 5470, 'naal': 5471, 'eruku': 5472, 'jerry': 5473, 'irritates': 5474, 'fails': 5475, 'kappa': 5476, 'resolution': 5477, 'replybe': 5478, 'frankgood': 5479, 'weirdo': 5480, '69855': 5481, 'stopbcm': 5482, 'sf': 5483, 'eastenders': 5484, 'dot': 5485, 'compare': 5486, 'violet': 5487, 'tulip': 5488, 'lily': 5489, 'wkent150p16': 5490, 'inperialmusic': 5491, 'listening2the': 5492, 'leafcutter': 5493, 'insect': 5494, 'molestedsomeone': 5495, 'plumbingremixed': 5496, 'evil': 5497, 'acid': 5498, 'uworld': 5499, 'qbank': 5500, 'assessment': 5501, 'hustle': 5502, 'forth': 5503, 'harlem': 5504, 'taxt': 5505, 'massagetiepos': 5506, 'lool': 5507, 'steve': 5508, 'ahold': 5509, 'baaaaabe': 5510, 'youuuuu': 5511, 'butt': 5512, '09050000460': 5513, 'j89': 5514, 'box245c2150pm': 5515, '08006344447': 5516, 'intrepid': 5517, 'duo': 5518, 'cook': 5519, 'apologize': 5520, 'admit': 5521, 'que': 5522, 'un': 5523, 'buen': 5524, 'tiempo': 5525, '85233': 5526, 'freeringtonereply': 5527, 'exwife': 5528, 'candont': 5529, 'spice': 5530, 'remembrs': 5531, 'remembered': 5532, 'everytime': 5533, 'brison': 5534, 'lanre': 5535, 'fakeyes': 5536, 'eckankar': 5537, 'potter': 5538, 'phoenix': 5539, 'reader': 5540, '09065171142stopsms08': 5541, 'split': 5542, 'ptbo': 5543, 'tag': 5544, 'bra': 5545, 'strewn': 5546, 'pillow': 5547, '69969': 5548, 'bcmsfwc1n3xx': 5549, 'genuine': 5550, 'fetching': 5551, 'lasagna': 5552, 'director': 5553, 'lac': 5554, 'deposited': 5555, 'taxless': 5556, 'suply': 5557, 'imf': 5558, 'blocked': 5559, 'corrupt': 5560, 'itna': 5561, 'karo': 5562, 'pura': 5563, 'padhegm': 5564, 'str8': 5565, 'classic': 5566, 'nokia150p': 5567, 'poly200p': 5568, 'womdarfull': 5569, 'slippery': 5570, 'vitamin': 5571, '10803': 5572, '08714719523': 5573, 'rejected': 5574, 'chikkuk': 5575, 'occurs': 5576, '83110': 5577, 'honeydid': 5578, 'gimmi': 5579, 'gossx': 5580, 'ammo': 5581, 'ak': 5582, 'purse': 5583, 'gailxx': 5584, 'fffff': 5585, 'rr': 5586, 'attracts': 5587, 'x29': 5588, '09065989180': 5589, 'lennon': 5590, 'rightio': 5591, '1148': 5592, 'ovulation': 5593, 'followin': 5594, 'beside': 5595, 'kanji': 5596, 'natwest': 5597, '08712400200': 5598, 'engagement': 5599, 'fixd': 5600, 'shocking': 5601, 'bthmm': 5602, 'njan': 5603, 'vilikkamt': 5604, 'sudn': 5605, 'perumbavoor': 5606, 'freinds': 5607, 'waaaat': 5608, 'lololo': 5609, 'button': 5610, 'alle': 5611, 'moneeppolum': 5612, 'allalo': 5613, 'haiyoh': 5614, 'allo': 5615, 'braved': 5616, 'triumphed': 5617, 'videosound': 5618, 'videosounds2': 5619, 'logosmusicnews': 5620, 'jamstercouk': 5621, '09701213186': 5622, 'ukp2000': 5623, '09061790125': 5624, 'gnarl': 5625, 'barkley': 5626, 'investigate': 5627, '2years': 5628, 'strain': 5629, 'tiime': 5630, 'spirit': 5631, 'hundred': 5632, 'handsomes': 5633, 'theoretically': 5634, 'cupboard': 5635, 'regret': 5636, 'nh': 5637, 'mistakeu': 5638, 'bornplease': 5639, '2b': 5640, 'terminatedwe': 5641, 'inconvenience': 5642, 'messagesome': 5643, 'sendername': 5644, 'sentdate': 5645, 'document': 5646, 'submitted': 5647, 'stapati': 5648, '09094100151': 5649, 'cast': 5650, 'gbp5month': 5651, 'box61m60': 5652, '1er': 5653, '0871277810810': 5654, 'panty': 5655, 'ashleys': 5656, 'didntgive': 5657, 'bellearlier': 5658, 'hunnyjust': 5659, 'bedbut': 5660, 'thepub': 5661, 'uwana': 5662, 'uploads': 5663, 'jenxxx': 5664, 'uploaded': 5665, 'jod': 5666, 'keris': 5667, 'smidgin': 5668, 'collegexx': 5669, 'lorwe': 5670, 'isaiahd': 5671, 'lunchyou': 5672, 'onlinewhy': 5673, 'sun0819': 5674, 'helloyou': 5675, 'redim': 5676, 'blueu': 5677, 'purpleu': 5678, 'pinku': 5679, 'orangei': 5680, 'lyk': 5681, 'greeni': 5682, 'yelowi': 5683, 'blackim': 5684, 'browni': 5685, 'color': 5686, 'bookshelf': 5687, 'torrent': 5688, 'particularly': 5689, 'slowing': 5690, 'trek': 5691, 'onum': 5692, 'converted': 5693, 'gpu': 5694, 'hui': 5695, 'xin': 5696, '79': 5697, '08704439680tscs': 5698, 'specify': 5699, 'domain': 5700, 'nusstu': 5701, 'janx': 5702, 'solihull': 5703, '08714712379': 5704, 'curious': 5705, 'relaxing': 5706, '7am': 5707, '5ish': 5708, 'breather': 5709, 'granted': 5710, 'fulfil': 5711, 'pickle': 5712, 'dining': 5713, 'whatsup': 5714, 'limited': 5715, 'barring': 5716, 'sudden': 5717, 'influx': 5718, '09061213237': 5719, '177': 5720, 'm227xy': 5721, 'shoot': 5722, 'oral': 5723, 'fave': 5724, 'position': 5725, 'spin': 5726, '6months': 5727, 'plural': 5728, 'tau': 5729, 'piah': 5730, 'fried': 5731, 'looovvve': 5732, 'minstand': 5733, 'retard': 5734, 'meim': 5735, 'sheffield': 5736, 'category': 5737, 'ethnicity': 5738, 'census': 5739, 'transcribing': 5740, 'nanny': 5741, 'supose': 5742, 'babysit': 5743, 'therexx': 5744, 'slower': 5745, 'maniac': 5746, 'sirsalam': 5747, 'alaikkumpride': 5748, 'shopwe': 5749, 'qatarrakhesh': 5750, 'indianpls': 5751, 'numberrespectful': 5752, 'wee': 5753, 'powerful': 5754, 'weapon': 5755, 'nightswt': 5756, 'dreamstake': 5757, 'remet': 5758, 'everyso': 5759, 'panicks': 5760, 'memorable': 5761, 'nver': 5762, 'cozsomtimes': 5763, 'mindi': 5764, 'toleratbcs': 5765, 'wishlist': 5766, 'section': 5767, 'nitro': 5768, 'kanoil': 5769, 'steal': 5770, 'theyll': 5771, 'slurp': 5772, 'r836': 5773, '09065069154': 5774, 'arr': 5775, 'oscar': 5776, 'hottest': 5777, 'flurry': 5778, 'eek': 5779, 'propsd': 5780, 'gv': 5781, 'lv': 5782, 'lttrs': 5783, 'threw': 5784, 'aproach': 5785, 'dt': 5786, 'truck': 5787, 'speeding': 5788, 'girld': 5789, 'shouted': 5790, 'thy': 5791, 'lived': 5792, 'happily': 5793, '2gthr': 5794, 'drinking': 5795, 'evrydy': 5796, 'msgsd': 5797, '22': 5798, '146tf150p': 5799, 'eggspert': 5800, 'potato': 5801, 'filthy': 5802, 'robs': 5803, 'avenge': 5804, 'ceri': 5805, 'rebel': 5806, 'dreamz': 5807, '1stchoicecouk': 5808, '08707808226': 5809, 'evey': 5810, 'mnth': 5811, 'chuckin': 5812, 'trainners': 5813, 'carryin': 5814, 'bac': 5815, 'homelove': 5816, 'heading': 5817, 'prediction': 5818, 'uncountable': 5819, 'offering': 5820, 'spotty': 5821, 'province': 5822, 'sterling': 5823, 'problemfree': 5824, 'inconvenient': 5825, '087104711148': 5826, 'fineabsolutly': 5827, 'fring': 5828, '09061701939': 5829, 's89': 5830, 'juicy': 5831, 'unconvinced': 5832, 'elaborate': 5833, 'willpower': 5834, 'loti': 5835, 'thirunelvali': 5836, 'evei': 5837, 'netno': 5838, 'availablei': 5839, 'tackle': 5840, 'rob': 5841, 'mack': 5842, 'theater': 5843, 'frequently': 5844, '2814032': 5845, '3x': 5846, '150pw': 5847, 'noncomittal': 5848, 'amongst': 5849, 'bros': 5850, '2yrs': 5851, 'olave': 5852, 'mandara': 5853, 'trishul': 5854, 'lifting': 5855, 'hittng': 5856, 'reflex': 5857, 'ban': 5858, '08719181259': 5859, 'xxxxx': 5860, '260305': 5861, '945': 5862, 'safely': 5863, 'zogtorius': 5864, 'staring': 5865, 'deciding': 5866, '3230': 5867, 'textbook': 5868, 'algorithm': 5869, 'edition': 5870, 'multiply': 5871, 'independently': 5872, 'showed': 5873, 'smoked': 5874, 'correctly': 5875, 'boooo': 5876, 'bec': 5877, 'symptom': 5878, 'resuming': 5879, 'reapply': 5880, '24m': 5881, 'stupidits': 5882, 'stitch': 5883, 'trouser': 5884, 'karnan': 5885, 'kgive': 5886, 'sonot': 5887, 'conveying': 5888, '5p': 5889, 'rtking': 5890, 'inforingtonekingcouk': 5891, '08701237397': 5892, 'redeemable': 5893, '08718738002': 5894, '48922': 5895, '211104': 5896, 'smsing': 5897, '09095350301': 5898, 'erotic': 5899, 'ecstacy': 5900, 'okok': 5901, 'okthenwhats': 5902, 'kaiez': 5903, 'hiphop': 5904, 'youkwhere': 5905, 'dahe': 5906, 'daalways': 5907, 'thisdon': 5908, 'messagepandy': 5909, 'noworriesloanscom': 5910, '08717111821': 5911, 'logging': 5912, 'desert': 5913, 'geoenvironmental': 5914, 'implication': 5915, 'hostbased': 5916, 'idp': 5917, 'linux': 5918, '08715203656': 5919, '42049': 5920, '261004': 5921, 'cc100pmin': 5922, 'holy': 5923, 'werent': 5924, 'kidding': 5925, 'chikkuil': 5926, 'florida': 5927, 'rudi': 5928, 'snoringthey': 5929, 'ink': 5930, 'aptitude': 5931, 'ujhhhhhhh': 5932, 'sandiago': 5933, 'parantella': 5934, 'dao': 5935, 'cruisin': 5936, 'alexs': 5937, 'tensed': 5938, 'payed': 5939, 'suganya': 5940, '08712402902': 5941, 'shijutta': 5942, 'assumed': 5943, 'vomitin': 5944, '09066660100': 5945, '2309': 5946, 'tshirt': 5947, '0784987': 5948, '08719180219': 5949, '060505': 5950, 'el': 5951, 'nino': 5952, 'stalk': 5953, 'profile': 5954, 'arngd': 5955, 'walkin': 5956, 'unfortuntly': 5957, 'frnt': 5958, 'sayin': 5959, 'guoyang': 5960, 'prix': 5961, 'lacking': 5962, 'particular': 5963, 'dramastorms': 5964, 'geelater': 5965, 'aust': 5966, 'bognor': 5967, 'splendid': 5968, 'unsubscribed': 5969, 'hunk': 5970, '75000': 5971, 'homeowner': 5972, 'previously': 5973, 'refused': 5974, '1956669': 5975, '3000': 5976, 'bimbo': 5977, 'ugos': 5978, 'z': 5979, 'buffy': 5980, 'qlynnbv': 5981, 'help08700621170150p': 5982, 'galcan': 5983, 'boyy': 5984, 'galno': 5985, 'heaven': 5986, 'princegn': 5987, 'detailsi': 5988, 'youmy': 5989, 'doll': 5990, 'patrick': 5991, 'swayze': 5992, 'breadstick': 5993, 'grave': 5994, 'justthought': 5995, 'sayhey': 5996, 'doinnearly': 5997, 'endof': 5998, 'offdam': 5999, 'nevamindwe': 6000, '2hook': 6001, 'uwant': 6002, 'spunout': 6003, 'wrld': 6004, 'nytho': 6005, 'tx': 6006, 'fonin': 6007, '2mwen': 6008, 'frmcloud': 6009, 'kanowhr': 6010, '2hrs': 6011, 'datoday': 6012, 'playi': 6013, 'clas': 6014, '6230': 6015, 'pobox11414tcrw1': 6016, 'watched': 6017, 'evr': 6018, 'checkmate': 6019, 'chess': 6020, 'persian': 6021, 'phrase': 6022, 'shah': 6023, 'maat': 6024, 'strongly': 6025, 'sacrifice': 6026, 'creativity': 6027, 'stifled': 6028, 'devouring': 6029, 'gudk': 6030, 'tke': 6031, 'accommodation': 6032, 'global': 6033, 'ph08700435505150p': 6034, 'mission': 6035, 'chikkusimple': 6036, 'habbahw': 6037, 'asthma': 6038, 'attack': 6039, 'ringing': 6040, 'houseful': 6041, 'brat': 6042, 'pulling': 6043, 'partnership': 6044, 'restuwud': 6045, 'reliant': 6046, 'spelled': 6047, 'cap': 6048, 'bullshit': 6049, 'minus': 6050, 'paragraph': 6051, '0789xxxxxxx': 6052, 'imin': 6053, 'towndontmatter': 6054, 'urgoin': 6055, 'outl8rjust': 6056, 'reallyneed': 6057, '2docdplease': 6058, 'dontplease': 6059, 'dontignore': 6060, 'mycallsu': 6061, 'thecd': 6062, 'isvimportant': 6063, 'tome': 6064, 'grab': 6065, 'keen': 6066, '69669': 6067, 'gprs': 6068, 'blastin': 6069, 'tsunami': 6070, 'occur': 6071, 'rajnikant': 6072, 'swimming': 6073, 'oceand': 6074, 'blessed': 6075, 'yowifes': 6076, '08712101358': 6077, 'wereare': 6078, 'nalla': 6079, 'adi': 6080, 'entey': 6081, 'nattil': 6082, 'kittum': 6083, 'samus': 6084, 'shoulder': 6085, 'shattered': 6086, 'jenne': 6087, 'escalator': 6088, 'panasonic': 6089, 'bluetoothhdset': 6090, 'doublemins': 6091, 'doubletxt': 6092, '09050000878': 6093, 'roomate': 6094, 'graduated': 6095, '10am': 6096, 'axis': 6097, 'studyn': 6098, 'miserable': 6099, 'property': 6100, 'childish': 6101, 'authorise': 6102, 'win150ppmx3age16': 6103, 'birth': 6104, '8lb': 6105, '7oz': 6106, 'brilliantly': 6107, 'meive': 6108, 'gotany': 6109, '9996': 6110, '14thmarch': 6111, 'availa': 6112, 'envy': 6113, 'tkts': 6114, '21st': 6115, 'questionstd': 6116, 'ratetcs': 6117, '08452810075over18s': 6118, '07808': 6119, 'xxxxxx': 6120, '08719899217': 6121, '41685': 6122, '071104': 6123, 'butting': 6124, 'several': 6125, 'wright': 6126, '09061743810': 6127, 'crucify': 6128, 'accomodations': 6129, 'cave': 6130, 'offered': 6131, 'embarassing': 6132, '830': 6133, 'related': 6134, 'arul': 6135, 'comprehensive': 6136, '07090201529': 6137, 'wisheds': 6138, 'whore': 6139, 'tobacco': 6140, 'rgent': 6141, '1250': 6142, '09071512433': 6143, '050703': 6144, 'tcsbcm4235wc1n3xx': 6145, 'callcost': 6146, 'mobilesvary': 6147, 'spelling': 6148, 'obey': 6149, 'scratching': 6150, 'sfirst': 6151, 'timedhoni': 6152, 'cried': 6153, 'pee': 6154, 'tp': 6155, 'hire': 6156, 'hitman': 6157, 'smsservices': 6158, 'yourinclusive': 6159, 'prsn': 6160, 'somtimes': 6161, 'hostile': 6162, 'pendingi': 6163, 'dayswill': 6164, 'thrurespect': 6165, 'homecheck': 6166, '100603': 6167, '09066368753': 6168, '97n7qp': 6169, 'listed': 6170, 'billy': 6171, 'welli': 6172, 'fuuuuck': 6173, 'sleepin': 6174, '021': 6175, '3680offer': 6176, '28thfebtcs': 6177, 'staff': 6178, 'appy': 6179, 'fizz': 6180, 'contains': 6181, 'noisy': 6182, 'wifedont': 6183, 'demand': 6184, 'iti': 6185, 'toolets': 6186, 'birla': 6187, 'soft': 6188, 'enjoying': 6189, 'barred': 6190, 'lifethis': 6191, 'twat': 6192, 'dungerees': 6193, 'decking': 6194, 'punch': 6195, 'evo': 6196, '2nights': 6197, 'wildest': 6198, 'objection': 6199, 'lara': 6200, 'packing': 6201, '09065174042': 6202, '07821230901': 6203, 'fassyole': 6204, 'blacko': 6205, 'londn': 6206, 'sbut': 6207, 'luck2': 6208, 'heartsnot': 6209, 'parade': 6210, 'drunkard': 6211, 'ups': 6212, '3days': 6213, 'usps': 6214, 'bribe': 6215, 'nipost': 6216, 'magic': 6217, 'jack': 6218, 'sayask': 6219, 'helpful': 6220, 'pretend': 6221, 'hypotheticalhuagauahahuagahyuhagga': 6222, 'waythis': 6223, 'uniquei': 6224, 'mylife': 6225, 'manky': 6226, 'scouse': 6227, 'stevelike': 6228, 'travelling': 6229, 'homewot': 6230, 'inmind': 6231, 'recreation': 6232, 'jp': 6233, 'mofo': 6234, 'xxxmobilemovieclub': 6235, 'xxxmobilemovieclubcomnqjkgighjjgcbl': 6236, 'advise': 6237, 'recent': 6238, '09066368470': 6239, '09058094454': 6240, 'formatting': 6241, 'stuffed': 6242, 'writhing': 6243, 'poking': 6244, 'wah': 6245, 'hogolo': 6246, 'kodstini': 6247, 'madstini': 6248, 'hogli': 6249, 'mutai': 6250, 'eerulli': 6251, 'kodthini': 6252, 'submitting': 6253, 'onluy': 6254, 'offcampus': 6255, 'stressful': 6256, 'anand': 6257, 'affidavit': 6258, 'twiggs': 6259, 'courtroom': 6260, 'disagreeable': 6261, 'iq': 6262, 'ia': 6263, 'continued': 6264, 'president': 6265, 'concerned': 6266, 'wmlid820554ad0a1705572711firsttrue': 6267, 'kall': 6268, 'bestcongrats': 6269, 'yeahand': 6270, 'newquaysend': 6271, 'goneu': 6272, '1im': 6273, 'talkin': 6274, 'boutxx': 6275, 'dobbys': 6276, 'mmmmm': 6277, 'crash': 6278, 'offerthe': 6279, 'nokia6650': 6280, '81151': 6281, '4tctxt': 6282, '150pmtmsg': 6283, 'noi': 6284, 'rumour': 6285, 'biola': 6286, 'messagethanks': 6287, '150pmsgrcvd': 6288, 'customercare': 6289, '1526': 6290, 'pubcafe': 6291, 'crowd': 6292, 'disastrous': 6293, 'fav': 6294, 'sfine': 6295, 'replys150': 6296, 'weighed': 6297, 'woohoo': 6298, 'jaya': 6299, 'hep': 6300, 'immunisation': 6301, '645': 6302, 'textcomp': 6303, 'follows': 6304, 'subsequent': 6305, 'charged150pmsg2': 6306, '84128custcare': 6307, 'yeovil': 6308, 'motor': 6309, 'ph': 6310, 'ohas': 6311, 'unni': 6312, 'rechargerakhesh': 6313, 'jd': 6314, 'executive': 6315, '88039skilgmetscs087147403231winawkage16': 6316, 'establish': 6317, 'brisk': 6318, 'consensus': 6319, 'ahsen': 6320, '09061702893': 6321, 'appear': 6322, '20000': 6323, 'csh11': 6324, '150pday': 6325, '6days': 6326, 'tsandcs': 6327, 'hont': 6328, 'hooked': 6329, 'evaporated': 6330, 'stealing': 6331, 'employer': 6332, 'woodland': 6333, 'avenue': 6334, 'parish': 6335, 'magazine': 6336, '330': 6337, '1120': 6338, '1205': 6339, 'ajith': 6340, 'err': 6341, 'witin': 6342, 'am': 6343, 'converter': 6344, 'ip': 6345, 'minecraft': 6346, 'server': 6347, 'flood': 6348, 'meatball': 6349, '140': 6350, 'ardé': 6351, '180': 6352, 'leastwhich': 6353, 'bedrm': 6354, 'ffffffffff': 6355, 'qet': 6356, 'abstract': 6357, 'retired': 6358, 'burger': 6359, 'killing': 6360, 'unintentionally': 6361, 'warning': 6362, 'rajipls': 6363, 'nimya': 6364, '7250': 6365, 'dirt': 6366, 'flowing': 6367, 'chore': 6368, 'exist': 6369, 'hail': 6370, 'mist': 6371, 'alian': 6372, 'faded': 6373, 'glory': 6374, 'ralphs': 6375, 'hii': 6376, 'dying': 6377, 'gloucesterroad': 6378, 'uup': 6379, '8hr': 6380, 'hungover': 6381, 'engalnd': 6382, 'mia': 6383, 'elliot': 6384, 'kissing': 6385, 'keng': 6386, 'rocking': 6387, 'ash': 6388, 'twin': 6389, 'hunting': 6390, '3cover': 6391, 'screen': 6392, '4press': 6393, '5gently': 6394, '532': 6395, '924': 6396, '863': 6397, '725': 6398, 'brilliant1thingi': 6399, 'answr': 6400, 'riley': 6401, '0808': 6402, '145': 6403, '4742': 6404, '9am11pm': 6405, 'balloon': 6406, 'toss': 6407, 'gudni8': 6408, 'restrict': 6409, 'melike': 6410, '4a': 6411, 'itlet': 6412, 'lifeis': 6413, 'daywith': 6414, 'somewheresomeone': 6415, 'tosend': 6416, 'bx526': 6417, 'arsenal': 6418, 'dartboard': 6419, 'treble': 6420, 'enjoyin': 6421, 'moyep': 6422, 'sall': 6423, 'hehe': 6424, 'shexy': 6425, 'oneta': 6426, 'pre': 6427, 'sacked': 6428, '07734396839': 6429, 'ibh': 6430, 'nokia6600': 6431, 'txtauctiontxt': 6432, 'wordstart': 6433, 'no81151': 6434, 'now4t': 6435, '28th': 6436, '06': 6437, '09061744553': 6438, 'polyh': 6439, 'mobsicom': 6440, '391784': 6441, 'loooooool': 6442, 'couch': 6443, 'watt': 6444, 'yavnt': 6445, 'played': 6446, 'dust': 6447, 'rule': 6448, 'tamilnaduthen': 6449, 'needa': 6450, 'mondaynxt': 6451, 'completing': 6452, '4get': 6453, 'itboth': 6454, 'upnot': 6455, 'muchxxlove': 6456, 'locaxx': 6457, '447801259231': 6458, '09058094597': 6459, 'upon': 6460, '930': 6461, 'mw': 6462, 'tuth': 6463, 'oooooh': 6464, 'ooh': 6465, '4got': 6466, 'moseley': 6467, '74355': 6468, 'xavier': 6469, 'waiti': 6470, 'nigh': 6471, 'fondly': 6472, 'chad': 6473, 'gymnastics': 6474, 'christian': 6475, 'voucherstext': 6476, 'nowsavamobmember': 6477, 'culture': 6478, 'joanna': 6479, 'freaking': 6480, 'myspace': 6481, 'logged': 6482, 'timeslil': 6483, 'busyi': 6484, 'free2day': 6485, 'george': 6486, 'jordantxt': 6487, '89080': 6488, 'saucy': 6489, 'celeb4': 6490, '0870241182716': 6491, '08701213186': 6492, 'ceiling': 6493, 'mention': 6494, 'served': 6495, 'fundamental': 6496, 'carewhoever': 6497, 'reboot': 6498, '7pm': 6499, 'swashbuckling': 6500, 'jersey': 6501, 'devil': 6502, 'wing': 6503, 'hockey': 6504, 'incorrect': 6505, 'mesages': 6506, 'pant': 6507, 'cashto': 6508, '08000407165': 6509, 'getstop': 6510, '88222': 6511, 'php': 6512, 'backa': 6513, 'token': 6514, 'youthats': 6515, 'likingbe': 6516, 'seeno': 6517, 'thatdont': 6518, '2morro': 6519, 'passion': 6520, '09099726481': 6521, 'dena': 6522, 'redred': 6523, 'bloodblood': 6524, 'heartheart': 6525, '4some1': 6526, 'luvs': 6527, 'praying': 6528, '542': 6529, '0578': 6530, 'bari': 6531, 'hudgi': 6532, 'yorge': 6533, 'pataistha': 6534, 'ertini': 6535, 'identification': 6536, 'tall': 6537, 'specialisation': 6538, 'labor': 6539, 'shakara': 6540, 'beggar': 6541, 'kavalan': 6542, 'convincingjust': 6543, 'neglect': 6544, 'itjust': 6545, '09058095201': 6546, 'fellow': 6547, 'huiming': 6548, '07090298926': 6549, 'ref9307622': 6550, 'treadmill': 6551, 'craigslist': 6552, 'freemessage': 6553, 'jamsterget': 6554, 'frog': 6555, 'mad1': 6556, 'mad2': 6557, 'gbpweek': 6558, 'chastity': 6559, 'device': 6560, 'beating': 6561, 'bead': 6562, 'arranging': 6563, '09061790126': 6564, 'desparate': 6565, 'recorded': 6566, 'transfered': 6567, 'jumper': 6568, 'hat': 6569, 'belt': 6570, 'cribbs': 6571, 'kickboxing': 6572, '83039': 6573, '62735': 6574, 'accommodationvouchers': 6575, 'mustprovide': 6576, '15541': 6577, 'cooped': 6578, 'refilled': 6579, 'inr': 6580, 'keralacircle': 6581, 'prepaid': 6582, 'kr': 6583, 'lateso': 6584, 'morningtake': 6585, 'dreamsu': 6586, 'meummifyingbye': 6587, 'gwr': 6588, 'zhong': 6589, 'se': 6590, 'qing': 6591, 'act': 6592, '96': 6593, 'greatness': 6594, 'apology': 6595, 'bsn': 6596, 'advising': 6597, 'fedex': 6598, '69101': 6599, 'okcome': 6600, 'pass': 6601, '08704439680': 6602, 'dip': 6603, 'bestrply': 6604, 'rat': 6605, 'theme': 6606, 'knowyetunde': 6607, 'involve': 6608, 'imposed': 6609, 'apologise': 6610, 'spjanuary': 6611, 'lord': 6612, 'ringsreturn': 6613, 'nowreply': 6614, 'soundtrack': 6615, 'stdtxtrate': 6616, 'weightloss': 6617, '730pm': 6618, '3mobile': 6619, 'chatlines': 6620, 'inclu': 6621, 'servs': 6622, 'l8er': 6623, 'bailiff': 6624, 'inever': 6625, 'uniform': 6626, 'iphone': 6627, 'rv': 6628, 'hol': 6629, 'roadsrvx': 6630, 'overtime': 6631, 'nigpun': 6632, 'spouse': 6633, 'pmt': 6634, 'sumthin': 6635, '4give': 6636, 'shldxxxx': 6637, 'snowboarding': 6638, 'goa': 6639, 'freemsgfav': 6640, 'tonesreply': 6641, 'adjustable': 6642, 'cooperative': 6643, 'allows': 6644, 'continent': 6645, 'appendix': 6646, 'sry': 6647, 'uhhhhrmm': 6648, 'improved': 6649, 'msgs150p': 6650, '46': 6651, 'aww': 6652, 'deadwell': 6653, 'jez': 6654, 'todo': 6655, 'workand': 6656, 'whilltake': 6657, 'officeunderstand': 6658, 'jap': 6659, 'jaykwon': 6660, 'thuglyfe': 6661, 'falconerf': 6662, '087123002209am7pm': 6663, 'mentor': 6664, 'percent': 6665, 'unmits': 6666, 'freeringtone': 6667, 'real1': 6668, 'pushbutton': 6669, 'dontcha': 6670, 'babygoodbye': 6671, 'golddigger': 6672, 'webeburnin': 6673, 'wondarfull': 6674, 'useless': 6675, 'drinkin': 6676, 'dearregret': 6677, 'cudnt': 6678, 'calldrove': 6679, 'ctla': 6680, 'cochin': 6681, 'homeleft': 6682, 'carente': 6683, 'ishtamayoohappy': 6684, 'bakrid': 6685, 'definite': 6686, 'outif': 6687, 'greece': 6688, '08702490080': 6689, 'scorable': 6690, 'gmw': 6691, 'connected': 6692, 'mirror': 6693, 'turning': 6694, 'disappointment': 6695, 'nottingham': 6696, '63miles': 6697, '40mph': 6698, 'topicsorry': 6699, 'compass': 6700, 'map': 6701, 'worldgnun': 6702, 'way2smscom': 6703, 'prin': 6704, 'pisces': 6705, 'aquarius': 6706, 'northampton': 6707, 'hu': 6708, 'smart': 6709, 'navigate': 6710, 'choosing': 6711, 'require': 6712, 'guidance': 6713, 'doubt': 6714, 'clash': 6715, 'synced': 6716, 'shangela': 6717, 'wallet': 6718, '2006': 6719, 'fifa': 6720, 'nervous': 6721, 'fired': 6722, 'radiator': 6723, 'broth': 6724, 'ramen': 6725, 'chic': 6726, 'declare': 6727, 'easiest': 6728, 'barcelona': 6729, 'guild': 6730, 'lmaonice': 6731, 'possibility': 6732, 'maangalyam': 6733, 'alaipayuthe': 6734, 'taka': 6735, 'ryan': 6736, 'audrie': 6737, 'autocorrect': 6738, '89938': 6739, 'string': 6740, 'rec': 6741, '150ea': 6742, 'otbox': 6743, '731': 6744, 'la1': 6745, '7ws': 6746, 'proze': 6747, 'norcorp': 6748, '150mtmsgrcvd18': 6749, 'elama': 6750, 'mudyadhu': 6751, 'opportunityall': 6752, 'fastpls': 6753, 'prayer': 6754, 'dearrakhesh': 6755, 'jade': 6756, 'paul': 6757, 'barmed': 6758, 'melody': 6759, 'lotta': 6760, 'corvette': 6761, 'firsg': 6762, 'process': 6763, 'eggpotato': 6764, 'ratio': 6765, 'chgs': 6766, '09061749602': 6767, '528': 6768, 'hp20': 6769, '1yf': 6770, 'pract': 6771, 'flung': 6772, 'blowing': 6773, 'perpetual': 6774, 'dd': 6775, 'cross': 6776, '08001950382': 6777, 'call2optout674': 6778, 'necesity': 6779, 'witout': 6780, 'hwd': 6781, 'colleg': 6782, 'watll': 6783, 'wth': 6784, 'espell': 6785, 'irritated': 6786, '4wrd': 6787, 'dearloving': 6788, 'wthout': 6789, 'takecare': 6790, '1mcflyall': 6791, 'ab': 6792, 'sara': 6793, 'jorgeshock': 6794, 'smithswitch': 6795, 'leading': 6796, '151': 6797, 'pause': 6798, 'tunji': 6799, 'apnt': 6800, '5pm': 6801, 'noice': 6802, 'poet': 6803, 'imaginationmy': 6804, 'aldrine': 6805, 'rakhesh': 6806, 'rtm': 6807, 'herepls': 6808, 'callurgent': 6809, 'somethings': 6810, 'twenty': 6811, 'durham': 6812, 'reserved': 6813, 'tarot': 6814, '85555': 6815, 'konw': 6816, 'waht': 6817, 'rael': 6818, 'gving': 6819, 'exmpel': 6820, 'jsut': 6821, 'evrey': 6822, 'splleing': 6823, 'wrnog': 6824, 'sitll': 6825, 'raed': 6826, 'wihtuot': 6827, 'ayn': 6828, 'mitsake': 6829, 'sleepsweet': 6830, 'puzzeles': 6831, 'numberpls': 6832, 'idconvey': 6833, 'achanammarakheshqatar': 6834, 'printed': 6835, 'dedicated': 6836, 'dedicate': 6837, 'syria': 6838, 'rencontre': 6839, 'mountain': 6840, 'cutie': 6841, 'killed': 6842, '08718726978': 6843, 'survey': 6844, 'kkare': 6845, 'wherres': 6846, 'browser': 6847, 'surf': 6848, 'mallika': 6849, 'sherawat': 6850, 'uncomfortable': 6851, 'remb': 6852, 'helloooo': 6853, 'n8': 6854, 'warwick': 6855, 'tmw': 6856, 'canceled': 6857, 'clarification': 6858, 'walsall': 6859, 'tue': 6860, 'terry': 6861, 'hvae': 6862, '09061701444': 6863, '24': 6864, '07815296484': 6865, '08718738001': 6866, '41782': 6867, '181104': 6868, '5226': 6869, 'hava': 6870, '1131': 6871, 'laready': 6872, 'sdryb8i': 6873, 'wetherspoons': 6874, 'asshole': 6875, 'brolly': 6876, 'franxx': 6877, 'stu': 6878, '2im': 6879, 'truble': 6880, 'evone': 6881, 'tbspersolvo': 6882, '38': 6883, 'kath': 6884, 'manchester': 6885, 'sumfing': 6886, 'deam': 6887, 'creative': 6888, 'lancaster': 6889, 'neway': 6890, '3pound': 6891, 'billion': 6892, 'brainless': 6893, 'dolld': 6894, 'vehicle': 6895, 'sariyag': 6896, 'madoke': 6897, 'barolla': 6898, 'manageable': 6899, 'rdy': 6900, 'soooo': 6901, 'provider': 6902, 'upping': 6903, 'gram': 6904, 'detailed': 6905, 'outhave': 6906, 'nelson': 6907, 'loosu': 6908, 'careless': 6909, 'incredible': 6910, 'o2fwd': 6911, '18ptxt': 6912, '730ish': 6913, 'theory': 6914, 'loses': 6915, 'sittin': 6916, 'shadow': 6917, 'spring': 6918, 'msgsometext': 6919, 'raglan': 6920, 'edward': 6921, 'cricket': 6922, 'closeby': 6923, 'reminds': 6924, '2godid': 6925, 'lapdancer': 6926, 'g2': 6927, '1da': 6928, '150ppmsg': 6929, 'doinghow': 6930, 'workout': 6931, 'dent': 6932, '0776xxxxxxx': 6933, 'tessypls': 6934, 'favor': 6935, 'nimyapls': 6936, 'shijas': 6937, 'sayy': 6938, 'jon': 6939, 'spain': 6940, 'dinero': 6941, '12000pes': 6942, '48': 6943, 'iron': 6944, 'cramp': 6945, 'worm': 6946, '0906346330': 6947, '47': 6948, 'po19': 6949, '2ez': 6950, 'dom': 6951, 'flyng': 6952, 'aries': 6953, 'opps': 6954, 'mth': 6955, '09061743811': 6956, 'resent': 6957, 'query': 6958, 'customersqueriesnetvisionukcom': 6959, '08002986030': 6960, 'ayo': 6961, 'travelled': 6962, 'sorta': 6963, 'blown': 6964, 'reality': 6965, 'gran': 6966, 'onlyfound': 6967, 'afew': 6968, 'agocusoon': 6969, 'honi': 6970, 'tomocant': 6971, 'mint': 6972, 'uxxxx': 6973, 'nowadayslot': 6974, 'showroomscity': 6975, 'shaping': 6976, '1230': 6977, 'okday': 6978, 'rajitha': 6979, 'ranju': 6980, 'piggy': 6981, 'youdearwith': 6982, 'loverakhesh': 6983, 'nri': 6984, 'pocy': 6985, 'human': 6986, 'tension': 6987, 'ahwhat': 6988, 'machiany': 6989, 'nicenicehow': 6990, 'pure': 6991, 'hearted': 6992, 'hisher': 6993, 'smiley': 6994, 'addie': 6995, 'certificate': 6996, 'publish': 6997, 'splwat': 6998, 'whr': 6999, 'stuck': 7000, 'wnevr': 7001, 'fal': 7002, 'fals': 7003, 'yen': 7004, 'madodu': 7005, 'nav': 7006, 'pretsorginta': 7007, 'nammanna': 7008, 'pretsovru': 7009, 'alwa': 7010, 'algarve': 7011, 'ansr': 7012, '82277': 7013, 'sptyrone': 7014, 'lodging': 7015, 'chez': 7016, 'jules': 7017, '2nitetell': 7018, 'every1': 7019, 'ava': 7020, 'goodtimeoli': 7021, 'melnite': 7022, 'ifink': 7023, 'sortedbut': 7024, 'everythin': 7025, 'monl8rsx': 7026, 'prabhaim': 7027, 'sorydarealyfrm': 7028, 'sory': 7029, 'chapter': 7030, 'sleepwellamptake': 7031, 'squeeeeeze': 7032, 'frndshp': 7033, 'luvd': 7034, 'boyf': 7035, 'interviw': 7036, 'worriedx': 7037, 'upgrdcentre': 7038, '9153': 7039, '26th': 7040, '545': 7041, 'vikkyim': 7042, 'disconnect': 7043, 'callcoz': 7044, 'terrorist': 7045, 'itz': 7046, 'confirmd': 7047, 'verified': 7048, 'cnn': 7049, 'ibn': 7050, 'quitting': 7051, 'least5times': 7052, 'wudnt': 7053, 'goodmorningmy': 7054, 'grandfather': 7055, 'expiredso': 7056, 'stillmaybe': 7057, 'sameso': 7058, 'itor': 7059, 'admiti': 7060, 'madthen': 7061, 'correctionor': 7062, 'lifeand': 7063, 'worldmay': 7064, 'runninglets': 7065, 'poem': 7066, 'fear': 7067, 'expert': 7068, 'srt': 7069, 'ps3': 7070, '087147123779am7pm': 7071, 'lark': 7072, 'forgive': 7073, 'topped': 7074, 'tgxxrz': 7075, 'westshore': 7076, 'deepest': 7077, 'darkest': 7078, '09094646631': 7079, 'recognises': 7080, 'drizzling': 7081, 'fink': 7082, '09099726553': 7083, 'promised': 7084, 'carlie': 7085, '1minmobsmore': 7086, 'lkpobox177hp51fl': 7087, 'somewhr': 7088, 'crush': 7089, 'shun': 7090, 'bian': 7091, 'glass': 7092, 'exhibition': 7093, 'betta': 7094, 'aging': 7095, 'product': 7096, 'propose': 7097, 'sarcasm': 7098, 'scarcasim': 7099, 'wrongly': 7100, 'hangin': 7101, 'parkin': 7102, 'kent': 7103, 'vale': 7104, 'onlydon': 7105, 'spatula': 7106, 'neft': 7107, 'beneficiary': 7108, 'monster': 7109, 'xafter': 7110, 'cst': 7111, 'chg': 7112, 'emigrated': 7113, 'hopeful': 7114, 'craving': 7115, 'armands': 7116, 'jide': 7117, 'visiting': 7118, 'smoothly': 7119, 'challenging': 7120, 'out': 7121, 'accidentally': 7122, 'archive': 7123, 'forgt': 7124, 'ay': 7125, 'satü': 7126, 'sumthinxx': 7127, 'lorgoin': 7128, 'shoppin': 7129, 'exact': 7130, 'nte': 7131, '09058091870': 7132, 'alot': 7133, 'gower': 7134, 'morrow': 7135, 'prashanthettans': 7136, 'useful': 7137, 'openin': 7138, 'formal': 7139, 'weighthaha': 7140, '09058094455': 7141, 'referin': 7142, 'liaoso': 7143, 'wrkin': 7144, 'ma': 7145, 'indicate': 7146, '3750': 7147, 'hmmmbut': 7148, 'jb': 7149, 'cedar': 7150, 'risk': 7151, 'nationwide': 7152, 'newport': 7153, 'kthen': 7154, 'wenever': 7155, 'dine': 7156, '0721072': 7157, 'yesmum': 7158, 'secure': 7159, 'wi': 7160, 'nz': 7161, 'edison': 7162, 'rightly': 7163, 'viva': 7164, 'gmgngegnt': 7165, 'buzzzz': 7166, 'chest': 7167, 'vibrator': 7168, 'shake': 7169, 'squatting': 7170, 'usualiam': 7171, 'gate': 7172, 'uh': 7173, 'comei': 7174, 'built': 7175, 'lonlines': 7176, 'lotz': 7177, 'ringtoneget': 7178, 'freesend': 7179, '816183': 7180, 'weekstop': 7181, 'sms08718727870': 7182, 'goldviking': 7183, '29m': 7184, 'yes762': 7185, 'no762': 7186, 'horniest': 7187, '69888': 7188, 'nytec2a3lpmsg150p': 7189, 'abbey': 7190, 'swan': 7191, 'rhode': 7192, 'bong': 7193, 'view': 7194, '9061100010': 7195, 'wire3net': 7196, '1st4terms': 7197, 'mobcudb': 7198, 'x49': 7199, '09065989182': 7200, 'colourredtextcolourtxtstar': 7201, 'finn': 7202, 'chatim': 7203, 'w8in': 7204, '4utxt': 7205, 'srsly': 7206, 'yi': 7207, 'coughing': 7208, 'itsnot': 7209, 'parentnot': 7210, 'unintentional': 7211, 'nonetheless': 7212, 'knowhe': 7213, 'unconscious': 7214, 'abnormally': 7215, 'tscs08714740323': 7216, '1winawk': 7217, '150perweeksub': 7218, 'hen': 7219, 'missionary': 7220, 'outreach': 7221, 'flippin': 7222, 'giggle': 7223, 'possibly': 7224, 'person2die': 7225, 'nvq': 7226, '0871277810910pmin': 7227, 'deartake': 7228, 'officewhats': 7229, 'mattermsg': 7230, '07742676969': 7231, '08719180248': 7232, 'themobhit': 7233, 'panther': 7234, 'sugababes': 7235, 'zebra': 7236, 'badass': 7237, 'hoody': 7238, 'wallpaperall': 7239, 'indeed': 7240, 'toldshe': 7241, 'thus': 7242, 'dusk': 7243, 'puzzle': 7244, 'atyour': 7245, 'rimac': 7246, 'gsoh': 7247, 'spam': 7248, 'ladiesu': 7249, 'gigolo': 7250, 'fastest': 7251, 'growing': 7252, 'oncall': 7253, 'mjzgroup': 7254, '087143423992stop': 7255, '150rcvd': 7256, 'okors': 7257, 'mojibiola': 7258, 'textand': 7259, '08002988890': 7260, 'tram': 7261, 'vic': 7262, 'route': 7263, 'goodno': 7264, 'problembut': 7265, 'unknown': 7266, 'thin': 7267, 'faultal': 7268, 'faultfed': 7269, 'himso': 7270, '2go': 7271, 'thanxxx': 7272, 'stripe': 7273, 'skirt': 7274, 'loosing': 7275, 'godyou': 7276, 'immed': 7277, 'intrude': 7278, 'todaysundaysunday': 7279, 'holidayso': 7280, 'angel': 7281, 'snowball': 7282, 'mys': 7283, '3miles': 7284, 'lavender': 7285, 'aaooooright': 7286, 'calm': 7287, 'downon': 7288, 'theacusations': 7289, 'itxt': 7290, 'iwana': 7291, 'wotu': 7292, 'thewend': 7293, 'haventcn': 7294, 'agesring': 7295, 'nething': 7296, 'satlove': 7297, 'webpage': 7298, 'young': 7299, '31': 7300, '09058094594': 7301, 'thatd': 7302, 'scenario': 7303, 'pshewmissing': 7304, 'syllabus': 7305, 'byatch': 7306, 'whassup': 7307, 'league': 7308, 'aeronautics': 7309, 'professor': 7310, 'calld': 7311, 'aeroplane': 7312, 'hurried': 7313, 'saidif': 7314, 'studentsthis': 7315, 'datz': 7316, 'himthen': 7317, 'rodds1': 7318, '21m': 7319, 'aberdeen': 7320, 'united': 7321, 'kingdom': 7322, 'acwicmb3cktz8r74': 7323, 'zac': 7324, 'attractioni': 7325, 'meshe': 7326, 'thoughtsi': 7327, 'hershe': 7328, 'dreamlove': 7329, 'breath': 7330, 'namemy': 7331, 'hermy': 7332, 'named': 7333, 'herwill': 7334, 'sorrowsi': 7335, 'proove': 7336, 'planeti': 7337, 'singing': 7338, 'praise': 7339, 'makiing': 7340, 'sambarlife': 7341, 'thenwill': 7342, 'anna': 7343, 'nagar': 7344, 'cali': 7345, 'complexity': 7346, 'freely': 7347, 'tax': 7348, 'outrageous': 7349, 'checkup': 7350, 'smear': 7351, '08718738034': 7352, 'kim': 7353, 'swimsuit': 7354, 'dayshe': 7355, 'drmstake': 7356, 'strict': 7357, '420': 7358, 'crap': 7359, 'boggy': 7360, 'biatch': 7361, 'kane': 7362, 'shud': 7363, 'afterwards': 7364, 'nosy': 7365, 'reacting': 7366, 'freaked': 7367, 'breaker': 7368, 'deluxe': 7369, 'feature': 7370, 'graphic': 7371, 'bbdeluxe': 7372, 'parentsi': 7373, 'hesitate': 7374, 'notebook': 7375, 'thout': 7376, '1month': 7377, 'smartcall': 7378, '68866': 7379, 'subscriptn3gbpwk': 7380, '08448714184': 7381, 'stoptxt': 7382, 'landlineonly': 7383, 'selflessness': 7384, 'southern': 7385, 'darlinim': 7386, 'soonxxx': 7387, 'returning': 7388, 'upd8': 7389, '2stoptx': 7390, 'hairdresser': 7391, 'four': 7392, 'beforehand': 7393, 'obedient': 7394, 'postponed': 7395, 'stocked': 7396, 'swhrt': 7397, 'deyhope': 7398, '2daylove': 7399, 'misstake': 7400, 'kilo': 7401, 'onwords': 7402, 'mtnl': 7403, 'mumbai': 7404, 'smsshsexnetun': 7405, 'fgkslpopw': 7406, 'fgkslpo': 7407, 'restriction': 7408, 'sometme': 7409, 'webadres': 7410, 'geting': 7411, 'battle': 7412, 'vivekanand': 7413, 'uawakefeellikw': 7414, 'shitjustfound': 7415, 'aletter': 7416, 'thatmum': 7417, 'gotmarried': 7418, '4thnovbehind': 7419, 'ourbacks': 7420, 'fuckinniceselfishdeviousbitchanywayi': 7421, 'drinkpa': 7422, 'sr': 7423, 'mentionned': 7424, 'agent': 7425, 'goody': 7426, 'mat': 7427, 'chillaxin': 7428, 'saeed': 7429, 'machan': 7430, '27603': 7431, '08714714011': 7432, 'kyou': 7433, 'reception': 7434, 'daal': 7435, 'seeking': 7436, 'shock': 7437, '09061701851': 7438, 'k61': 7439, '12hours': 7440, 'babyjontet': 7441, 'tightly': 7442, 'punish': 7443, 'linear': 7444, 'algebra': 7445, 'board': 7446, 'overheating': 7447, 'reslove': 7448, 'inst': 7449, '8o': 7450, 'ga': 7451, 'foley': 7452, 'mandan': 7453, 'rearrange': 7454, 'dormitory': 7455, 'astronomer': 7456, 'starer': 7457, 'election': 7458, 'recount': 7459, 'motherinlaw': 7460, 'hitler': 7461, 'eleven': 7462, '9ja': 7463, '4goten': 7464, 'scammer': 7465, 'smartthough': 7466, 'msgsubscription': 7467, 'describe': 7468, 'sonathaya': 7469, 'soladha': 7470, 'weirdy': 7471, 'brownie': 7472, 'cooky': 7473, 'lifebook': 7474, 'ringtoneking': 7475, '84484': 7476, 'messagestext': 7477, 'nowuse': 7478, 'web2mobile': 7479, 'txt250com': 7480, 'box139': 7481, 'la32wu': 7482, 'txtx': 7483, 'ditto': 7484, 'juliana': 7485, 'therell': 7486, 'shindig': 7487, 'fredericksburg': 7488, 'beach': 7489, 'expected': 7490, 'arnt': 7491, 'xxxxxxxxxxxxxx': 7492, 'washob': 7493, 'nobbing': 7494, 'nickey': 7495, 'platt': 7496, 'companion': 7497, 'chef': 7498, 'listener': 7499, 'organizer': 7500, 'sympathetic': 7501, 'athletic': 7502, 'courageous': 7503, 'determined': 7504, 'dependable': 7505, 'psychologist': 7506, 'pest': 7507, 'exterminator': 7508, 'psychiatrist': 7509, 'healer': 7510, 'stylist': 7511, 'aaniye': 7512, 'pudunga': 7513, 'venaam': 7514, 'prebook': 7515, 'trackmarque': 7516, 'infovipclub4u': 7517, 'saibaba': 7518, 'colany': 7519, 'zoom': 7520, 'somewhat': 7521, 'laden': 7522, 'wrecked': 7523, 'smith': 7524, 'gayle': 7525, '09064018838': 7526, 'cro1327': 7527, 'dearer': 7528, 'collapsed': 7529, 'brainy': 7530, 'mandy': 7531, 'sullivan': 7532, 'hotmix': 7533, 'fmyou': 7534, '500000': 7535, 'drawplease': 7536, '09041940223': 7537, '290305': 7538, 'transferred': 7539, 'ccna': 7540, 'invention': 7541, 'flyim': 7542, 'goggles': 7543, 'woul': 7544, 'curfew': 7545, 'gibe': 7546, 'getsleep': 7547, 'studdying': 7548, 'refund': 7549, 'oga': 7550, 'faglord': 7551, 'jada': 7552, 'kusruthi': 7553, 'spl': 7554, 'matured': 7555, 'data': 7556, 'analysis': 7557, 'thesis': 7558, '07973788240': 7559, '08715203649': 7560, '505060': 7561, '32000': 7562, 'legitimat': 7563, 'efreefone': 7564, 'sooooo': 7565, 'resubmit': 7566, 'expiry': 7567, 'starshine': 7568, 'formallypls': 7569, 'prayingwill': 7570, '7ish': 7571, 'startedindia': 7572, 'temales': 7573, 'plate': 7574, 'leftover': 7575, 'goodmate': 7576, 'sary': 7577, 'asusual1': 7578, 'cheered': 7579, 'franyxxxxx': 7580, '08712103738': 7581, 'simulate': 7582, 'readiness': 7583, '09050003091': 7584, 'c52': 7585, 'requirement': 7586, 'reache': 7587, 'owl': 7588, 'weekday': 7589, 'nail': 7590, 'hiding': 7591, 'stranger': 7592, 'girlie': 7593, 'literally': 7594, 'lyricalladie21f': 7595, 'yes910': 7596, 'no910': 7597, 'heat': 7598, 'applyed': 7599, 'oil': 7600, 'excited': 7601, 'themp': 7602, 'shiny': 7603, 'warming': 7604, 'constant': 7605, '5month': 7606, 'pocked': 7607, 'danalla': 7608, 'sooo': 7609, 'mag': 7610, 'avo': 7611, 'mostly': 7612, 'typelyk': 7613, 'footblcrckt': 7614, 'skillgame': 7615, '1winaweek': 7616, '150ppermesssubscription': 7617, 'impatient': 7618, 'simpson': 7619, 'band': 7620, 'agreen': 7621, 'bblue': 7622, 'cred': 7623, 'fishrman': 7624, 'sack': 7625, 'ful': 7626, 'strtd': 7627, 'throwin': 7628, '1stone': 7629, 'moraldont': 7630, 'msgwe': 7631, 'billed': 7632, 'shortcode': 7633, '83332please': 7634, '08081263000': 7635, 'refundedthis': 7636, 'satanic': 7637, 'imposter': 7638, 'meneed': 7639, 'priceso': 7640, 'itmay': 7641, 'destiny': 7642, 'leu': 7643, '30th': 7644, 'expose': 7645, 'wicked': 7646, 'doinat': 7647, 'ft': 7648, 'combination': 7649, 'gopalettan': 7650, 'participate': 7651, 'strt': 7652, 'ltdhelpdesk': 7653, '02085076972': 7654, 'whenwhere': 7655, '08719181513': 7656, 'youdoing': 7657, 'cosign': 7658, 'randomlly': 7659, 'virtual': 7660, '69888nyt': 7661, '31pmsg150p': 7662, '44': 7663, '7732584351': 7664, 'triple': 7665, 'echo': 7666, '09058094565': 7667}\n"
          ]
        }
      ]
    },
    {
      "cell_type": "code",
      "source": [
        "from imblearn.over_sampling import SMOTE"
      ],
      "metadata": {
        "id": "FfXG5hHcBZD2"
      },
      "execution_count": null,
      "outputs": []
    },
    {
      "cell_type": "code",
      "source": [
        "#performing Smote to balance the training data set\n",
        "sm = SMOTE(random_state=12)\n",
        "x_train_res, y_train_res = sm.fit_resample(padded_train, y_train_lenc)"
      ],
      "metadata": {
        "id": "69USEI-tBX5G"
      },
      "execution_count": null,
      "outputs": []
    },
    {
      "cell_type": "code",
      "source": [
        "plt.bar(Counter(y_train_res).keys(), Counter(y_train_res).values())\n",
        " \n",
        "plt.title('Ham Spam Email Classification')\n",
        "\n",
        "plt.xlabel('Label')\n",
        "plt.ylabel('Frequency')\n",
        "plt.show()"
      ],
      "metadata": {
        "colab": {
          "base_uri": "https://localhost:8080/",
          "height": 295
        },
        "id": "HotAtCSjsRiH",
        "outputId": "ac76e077-360d-41db-b3da-9e415bd72d42"
      },
      "execution_count": null,
      "outputs": [
        {
          "output_type": "display_data",
          "data": {
            "text/plain": [
              "<Figure size 432x288 with 1 Axes>"
            ],
            "image/png": "[encoded data removed]"
          },
          "metadata": {
            "needs_background": "light"
          }
        }
      ]
    },
    {
      "cell_type": "code",
      "source": [
        "#GloVe 6B word embeddings\n",
        "glove_dictionary = {}\n",
        "with open('glove.6B.200d.txt') as file:\n",
        "    for each_line in file:\n",
        "        words_in_line, coefficients = each_line.split(maxsplit=1)\n",
        "        coefficients = np.array(coefficients.split(),dtype = float)\n",
        "        glove_dictionary[words_in_line] = coefficients"
      ],
      "metadata": {
        "id": "6h3VtcAvHKTR"
      },
      "execution_count": null,
      "outputs": []
    },
    {
      "cell_type": "code",
      "source": [
        "vocab_len=len(vocabulary)\n",
        "embedding_matrix = np.zeros((vocab_len+1, 200))\n",
        "\n",
        "# Creating the embedding matrix using the glove_dictionary             #\n",
        "\n",
        "for word, i in vocabulary.items():\n",
        "    embedding_vector = glove_dictionary.get(word)\n",
        "    if embedding_vector is not None:\n",
        "        # words not found in embedding index will be all-zeros.\n",
        "        embedding_matrix[i] = embedding_vector"
      ],
      "metadata": {
        "id": "q7v4vQkmRwTF"
      },
      "execution_count": null,
      "outputs": []
    },
    {
      "cell_type": "code",
      "source": [
        "embedding_matrix.shape"
      ],
      "metadata": {
        "colab": {
          "base_uri": "https://localhost:8080/"
        },
        "id": "iJ0mQ3QX8cAY",
        "outputId": "34d4f069-0e7c-478a-a7b5-fb6458a9a1d1"
      },
      "execution_count": null,
      "outputs": [
        {
          "output_type": "execute_result",
          "data": {
            "text/plain": [
              "(7668, 200)"
            ]
          },
          "metadata": {},
          "execution_count": 31
        }
      ]
    },
    {
      "cell_type": "code",
      "source": [
        "from tensorflow.keras.layers import Embedding, LSTM, Dense, Bidirectional, Input, Flatten"
      ],
      "metadata": {
        "id": "SiUmkRuxcrcl"
      },
      "execution_count": null,
      "outputs": []
    },
    {
      "cell_type": "markdown",
      "source": [
        "BiLSTM Model With GloVE Embedding"
      ],
      "metadata": {
        "id": "VEI4DD6JuKsP"
      }
    },
    {
      "cell_type": "code",
      "source": [
        "#Bi-LSTM model using glove embedding\n",
        "import tensorflow as tf\n",
        "\n",
        "tf.random.set_seed(42)\n",
        "\n",
        "def build_model(embedding_matrix):\n",
        "\n",
        "  ''' \n",
        "  Arguments:\n",
        "    embedding_matrix : a matrix with the corresponding embeddings\n",
        "    of all words.\n",
        "\n",
        "  Returns:\n",
        "    The LSTM model that you created.\n",
        "  '''\n",
        "  \n",
        "  model = tf.keras.Sequential()\n",
        "\n",
        "  #layer 1 : add embedding layer\n",
        "  model.add(tf.keras.layers.Embedding(input_dim=vocab_len +1, output_dim=200, weights=[embedding_matrix], input_length=200, trainable=False))\n",
        "\n",
        "  #layer 2 : add Bidirectional LSTM Layer \n",
        "  model.add(tf.keras.layers.Bidirectional(LSTM(150, return_sequences=True)))\n",
        "\n",
        "  model.add(tf.keras.layers.Dropout(0.5))\n",
        "\n",
        "  #Adding more layers : adding more dense layers and dropout\n",
        "  model.add(tf.keras.layers.Bidirectional(LSTM(150, return_sequences=True)))\n",
        "\n",
        "  model.add(tf.keras.layers.Dropout(0.5))\n",
        "\n",
        "  model.add(tf.keras.layers.Dense(128, activation='relu'))\n",
        "\n",
        "  model.add(Flatten())\n",
        "\n",
        "  model.add(tf.keras.layers.Dropout(0.5))\n",
        "\n",
        "  #Final layer : add output layer and activation \n",
        "  model.add(tf.keras.layers.Dense(1, activation='sigmoid'))\n",
        "\n",
        "  #Using a loss function, optimizer as adam to compile \n",
        "  #evaluating model on auc,precision,recall,accuracy\n",
        "  adam = tf.keras.optimizers.Adam(learning_rate = 0.0001)\n",
        "  model.compile(loss = 'binary_crossentropy' , optimizer = adam, metrics = ['Accuracy','AUC','Precision','Recall'])\n",
        "  return model"
      ],
      "metadata": {
        "id": "jxllFm9hc1hm"
      },
      "execution_count": null,
      "outputs": []
    },
    {
      "cell_type": "code",
      "source": [
        "# Calling the build_model function and initialize the model        #\n",
        "model1 = build_model(embedding_matrix)\n",
        "model1.summary()\n",
        "\n",
        "# training and validating the model on the padded sequences of text which we have created initially        #\n",
        "\n",
        "history1 = model1.fit(x_train_res, y_train_res, validation_data=(padded_test,y_val_lenc), epochs=15,batch_size = 50)"
      ],
      "metadata": {
        "colab": {
          "base_uri": "https://localhost:8080/"
        },
        "id": "o0ojXkAxdG8K",
        "outputId": "e0bd2820-73c4-4137-ba2e-ed2f691c2db3"
      },
      "execution_count": null,
      "outputs": [
        {
          "output_type": "stream",
          "name": "stdout",
          "text": [
            "Model: \"sequential\"\n",
            "_________________________________________________________________\n",
            " Layer (type)                Output Shape              Param #   \n",
            "=================================================================\n",
            " embedding (Embedding)       (None, 200, 200)          832000    \n",
            "                                                                 \n",
            " bidirectional (Bidirectiona  (None, 200, 300)         421200    \n",
            " l)                                                              \n",
            "                                                                 \n",
            " dropout (Dropout)           (None, 200, 300)          0         \n",
            "                                                                 \n",
            " bidirectional_1 (Bidirectio  (None, 200, 300)         541200    \n",
            " nal)                                                            \n",
            "                                                                 \n",
            " dropout_1 (Dropout)         (None, 200, 300)          0         \n",
            "                                                                 \n",
            " dense (Dense)               (None, 200, 128)          38528     \n",
            "                                                                 \n",
            " flatten (Flatten)           (None, 25600)             0         \n",
            "                                                                 \n",
            " dropout_2 (Dropout)         (None, 25600)             0         \n",
            "                                                                 \n",
            " dense_1 (Dense)             (None, 1)                 25601     \n",
            "                                                                 \n",
            "=================================================================\n",
            "Total params: 1,858,529\n",
            "Trainable params: 1,026,529\n",
            "Non-trainable params: 832,000\n",
            "_________________________________________________________________\n",
            "Epoch 1/15\n",
            "25/25 [==============================] - 49s 2s/step - loss: 0.6686 - Accuracy: 0.6321 - auc: 0.7169 - precision: 0.5959 - recall: 0.8206 - val_loss: 0.6300 - val_Accuracy: 0.7358 - val_auc: 0.8572 - val_precision: 0.6712 - val_recall: 0.9545\n",
            "Epoch 2/15\n",
            "25/25 [==============================] - 42s 2s/step - loss: 0.5803 - Accuracy: 0.7799 - auc: 0.8980 - precision: 0.7057 - recall: 0.9601 - val_loss: 0.4592 - val_Accuracy: 0.8896 - val_auc: 0.9617 - val_precision: 0.8758 - val_recall: 0.9156\n",
            "Epoch 3/15\n",
            "25/25 [==============================] - 41s 2s/step - loss: 0.2957 - Accuracy: 0.9194 - auc: 0.9612 - precision: 0.9160 - recall: 0.9236 - val_loss: 0.1926 - val_Accuracy: 0.9231 - val_auc: 0.9724 - val_precision: 0.9226 - val_recall: 0.9286\n",
            "Epoch 4/15\n",
            "25/25 [==============================] - 42s 2s/step - loss: 0.1857 - Accuracy: 0.9444 - auc: 0.9712 - precision: 0.9451 - recall: 0.9435 - val_loss: 0.1617 - val_Accuracy: 0.9532 - val_auc: 0.9816 - val_precision: 0.9930 - val_recall: 0.9156\n",
            "Epoch 5/15\n",
            "25/25 [==============================] - 41s 2s/step - loss: 0.1562 - Accuracy: 0.9493 - auc: 0.9808 - precision: 0.9624 - recall: 0.9352 - val_loss: 0.1416 - val_Accuracy: 0.9365 - val_auc: 0.9861 - val_precision: 0.9470 - val_recall: 0.9286\n",
            "Epoch 6/15\n",
            "25/25 [==============================] - 42s 2s/step - loss: 0.1493 - Accuracy: 0.9518 - auc: 0.9830 - precision: 0.9533 - recall: 0.9502 - val_loss: 0.1439 - val_Accuracy: 0.9565 - val_auc: 0.9847 - val_precision: 1.0000 - val_recall: 0.9156\n",
            "Epoch 7/15\n",
            "25/25 [==============================] - 41s 2s/step - loss: 0.1278 - Accuracy: 0.9643 - auc: 0.9861 - precision: 0.9745 - recall: 0.9535 - val_loss: 0.1649 - val_Accuracy: 0.9498 - val_auc: 0.9859 - val_precision: 1.0000 - val_recall: 0.9026\n",
            "Epoch 8/15\n",
            "25/25 [==============================] - 41s 2s/step - loss: 0.1478 - Accuracy: 0.9576 - auc: 0.9822 - precision: 0.9662 - recall: 0.9485 - val_loss: 0.1491 - val_Accuracy: 0.9565 - val_auc: 0.9876 - val_precision: 1.0000 - val_recall: 0.9156\n",
            "Epoch 9/15\n",
            "25/25 [==============================] - 41s 2s/step - loss: 0.1209 - Accuracy: 0.9643 - auc: 0.9896 - precision: 0.9697 - recall: 0.9585 - val_loss: 0.1255 - val_Accuracy: 0.9498 - val_auc: 0.9878 - val_precision: 0.9603 - val_recall: 0.9416\n",
            "Epoch 10/15\n",
            "25/25 [==============================] - 41s 2s/step - loss: 0.1143 - Accuracy: 0.9626 - auc: 0.9910 - precision: 0.9681 - recall: 0.9568 - val_loss: 0.1326 - val_Accuracy: 0.9532 - val_auc: 0.9871 - val_precision: 0.9861 - val_recall: 0.9221\n",
            "Epoch 11/15\n",
            "25/25 [==============================] - 41s 2s/step - loss: 0.1001 - Accuracy: 0.9684 - auc: 0.9923 - precision: 0.9747 - recall: 0.9618 - val_loss: 0.1289 - val_Accuracy: 0.9532 - val_auc: 0.9874 - val_precision: 0.9667 - val_recall: 0.9416\n",
            "Epoch 12/15\n",
            "25/25 [==============================] - 41s 2s/step - loss: 0.0955 - Accuracy: 0.9684 - auc: 0.9932 - precision: 0.9700 - recall: 0.9668 - val_loss: 0.1323 - val_Accuracy: 0.9532 - val_auc: 0.9872 - val_precision: 0.9545 - val_recall: 0.9545\n",
            "Epoch 13/15\n",
            "25/25 [==============================] - 40s 2s/step - loss: 0.0973 - Accuracy: 0.9659 - auc: 0.9921 - precision: 0.9636 - recall: 0.9684 - val_loss: 0.1262 - val_Accuracy: 0.9532 - val_auc: 0.9870 - val_precision: 0.9667 - val_recall: 0.9416\n",
            "Epoch 14/15\n",
            "25/25 [==============================] - 41s 2s/step - loss: 0.0799 - Accuracy: 0.9726 - auc: 0.9959 - precision: 0.9782 - recall: 0.9668 - val_loss: 0.1262 - val_Accuracy: 0.9599 - val_auc: 0.9887 - val_precision: 0.9797 - val_recall: 0.9416\n",
            "Epoch 15/15\n",
            "25/25 [==============================] - 40s 2s/step - loss: 0.0777 - Accuracy: 0.9751 - auc: 0.9960 - precision: 0.9767 - recall: 0.9734 - val_loss: 0.1332 - val_Accuracy: 0.9599 - val_auc: 0.9875 - val_precision: 0.9797 - val_recall: 0.9416\n"
          ]
        }
      ]
    },
    {
      "cell_type": "code",
      "source": [
        "#Conveting the test data into padded sequence\n",
        "X_test_indices = t.texts_to_sequences(x_test1)\n",
        "\n",
        "X_test_indices = pad_sequences(X_test_indices, maxlen=200, padding='post')"
      ],
      "metadata": {
        "id": "6GAWePW5lc9Q"
      },
      "execution_count": null,
      "outputs": []
    },
    {
      "cell_type": "code",
      "source": [
        "#Metrics for BiLSTM with GloVe Embedding\n",
        "print(\"Evaluate on test data\")\n",
        "results = model1.evaluate(X_test_indices, y_val_lenc)\n",
        "print(\"test loss, test acc, test auc, test, precision, test recall:\", results)"
      ],
      "metadata": {
        "colab": {
          "base_uri": "https://localhost:8080/"
        },
        "id": "UgIHBvyVeDju",
        "outputId": "d3dc6ec1-e54e-49db-b019-628c37ad6771"
      },
      "execution_count": null,
      "outputs": [
        {
          "output_type": "stream",
          "name": "stdout",
          "text": [
            "Evaluate on test data\n",
            "33/33 [==============================] - 11s 341ms/step - loss: 0.1023 - Accuracy: 0.9610 - auc: 0.9888 - precision: 0.8000 - recall: 0.9231\n",
            "test loss, test acc, test auc, test, precision, test recall: [0.1022995337843895, 0.961013674736023, 0.9887791872024536, 0.800000011920929, 0.9230769276618958]\n"
          ]
        }
      ]
    },
    {
      "cell_type": "code",
      "source": [
        "#F1 Score calculation for BiLSTM with GloVe Embedding\n",
        "f1_scr1 = 2 * (results[3] * results[4]) / (results[3] + results[4])\n",
        "print(\"F1 Score:\",f1_scr1)"
      ],
      "metadata": {
        "colab": {
          "base_uri": "https://localhost:8080/"
        },
        "id": "DL0sVlVykSIt",
        "outputId": "ecee912e-f086-462f-bf2b-418f12b85a5f"
      },
      "execution_count": null,
      "outputs": [
        {
          "output_type": "stream",
          "name": "stdout",
          "text": [
            "F1 Score: 0.8571428659619117\n"
          ]
        }
      ]
    },
    {
      "cell_type": "code",
      "source": [
        "#predicting the output of the model using a random test sample\n",
        "preds = model1.predict(X_test_indices)\n",
        "\n",
        "n = np.random.randint(0,299)\n",
        "\n",
        "x_test1.iloc[n]\n",
        "print(x_test1.iloc[n])\n",
        "if preds[n] > 0.5:\n",
        "  print('predicted sentiment : Spam')\n",
        "else: \n",
        "  print('precicted sentiment : Ham')\n",
        "\n",
        "if (y_test1.iloc[n] == \"Ham\" or y_test1.iloc[n]==\"ham\"):\n",
        "  print('correct sentiment : Ham')\n",
        "else:\n",
        "  print('correct sentiment : Spam')"
      ],
      "metadata": {
        "colab": {
          "base_uri": "https://localhost:8080/"
        },
        "id": "TGzkH3wclO2Z",
        "outputId": "9d8d9109-5213-4bec-e36d-497d98c38fb6"
      },
      "execution_count": null,
      "outputs": [
        {
          "output_type": "stream",
          "name": "stdout",
          "text": [
            "got tallent wasting\n",
            "precicted sentiment : Ham\n",
            "correct sentiment : Ham\n"
          ]
        }
      ]
    },
    {
      "cell_type": "code",
      "source": [
        "#importing pretrained vector\n",
        "import gensim.downloader as api\n",
        "glove_gensim  = api.load('glove-wiki-gigaword-100')"
      ],
      "metadata": {
        "colab": {
          "base_uri": "https://localhost:8080/"
        },
        "id": "GeOzUAu2z24R",
        "outputId": "77da45a4-0270-47fe-b1bf-2d6bb2a27dcd"
      },
      "execution_count": null,
      "outputs": [
        {
          "output_type": "stream",
          "name": "stdout",
          "text": [
            "[==================================================] 100.0% 128.1/128.1MB downloaded\n"
          ]
        }
      ]
    },
    {
      "cell_type": "code",
      "source": [
        "#initalising word2vec embedded matrix\n",
        "vector_size = 100\n",
        "gensim_weight_matrix = np.zeros((10000 ,vector_size))\n",
        "gensim_weight_matrix.shape"
      ],
      "metadata": {
        "colab": {
          "base_uri": "https://localhost:8080/"
        },
        "id": "HICCCnml1dMa",
        "outputId": "6d6f8f97-325a-4083-f32a-770b629c57b7"
      },
      "execution_count": null,
      "outputs": [
        {
          "output_type": "execute_result",
          "data": {
            "text/plain": [
              "(10000, 100)"
            ]
          },
          "metadata": {},
          "execution_count": 30
        }
      ]
    },
    {
      "cell_type": "code",
      "source": [
        "vocab_len=len(vocabulary)\n",
        "embedding_matrix = np.zeros((vocab_len+1, 200))\n",
        "\n",
        "# Create the embedding matrix using the word2vec dictionary             #\n",
        "for word, i in vocabulary.items():\n",
        "    embedding_vector = glove_dictionary.get(word)\n",
        "    if embedding_vector is not None:\n",
        "        # words not found in embedding index will be all-zeros.\n",
        "        embedding_matrix[i] = embedding_vector"
      ],
      "metadata": {
        "id": "H4J_Bhi48chu"
      },
      "execution_count": null,
      "outputs": []
    },
    {
      "cell_type": "code",
      "source": [
        "for word, index in vocabulary.items():\n",
        "  if index < 10000: # since index starts with zero \n",
        "      if word in glove_gensim.wv.vocab:\n",
        "          gensim_weight_matrix[index] = glove_gensim[word]\n",
        "      else:\n",
        "          gensim_weight_matrix[index] = np.zeros(100)"
      ],
      "metadata": {
        "colab": {
          "base_uri": "https://localhost:8080/"
        },
        "id": "A2qPoUNg2AgB",
        "outputId": "46c65e7b-60cf-44d9-e9c3-6e8058675431"
      },
      "execution_count": null,
      "outputs": [
        {
          "output_type": "stream",
          "name": "stderr",
          "text": [
            "/usr/local/lib/python3.7/dist-packages/ipykernel_launcher.py:3: DeprecationWarning: Call to deprecated `wv` (Attribute will be removed in 4.0.0, use self instead).\n",
            "  This is separate from the ipykernel package so we can avoid doing imports until\n"
          ]
        }
      ]
    },
    {
      "cell_type": "markdown",
      "source": [
        "BiLSTM model with Word2Vec Embedding"
      ],
      "metadata": {
        "id": "DnB_y9_ZuUqm"
      }
    },
    {
      "cell_type": "code",
      "source": [
        "#Bi-LSTM model with word2Vec embedding\n",
        "def build_model_word2vec(gensim_weight_matrix):\n",
        "  model = Sequential()\n",
        "  #layer 1 : add embedding layer\n",
        "  model.add(Embedding(input_dim = 10000, output_dim = 100, input_length= 200, weights = [gensim_weight_matrix],trainable = False))\n",
        "  model.add(Dropout(0.2))\n",
        "  #layer 2 : add Bidirectional LSTM Layer \n",
        "  model.add(tf.keras.layers.Bidirectional(LSTM(100, return_sequences=True)))\n",
        "\n",
        "  model.add(tf.keras.layers.Dropout(0.5))\n",
        "\n",
        "  #Adding more dense layers and dropout\n",
        "\n",
        "  model.add(tf.keras.layers.Bidirectional(LSTM(200, return_sequences=True)))\n",
        "\n",
        "  model.add(tf.keras.layers.Dropout(0.2))\n",
        "\n",
        "  model.add(tf.keras.layers.Dense(64, activation='relu'))\n",
        "\n",
        "  model.add(Flatten())\n",
        "\n",
        "  model.add(tf.keras.layers.Dropout(0.2))\n",
        "\n",
        "  # Final layer : adding output layer and activation \n",
        "  model.add(tf.keras.layers.Dense(1, activation='sigmoid'))\n",
        "  adam = tf.keras.optimizers.Adam(learning_rate = 0.0001)\n",
        "  model.compile(loss = 'binary_crossentropy' , optimizer = adam, metrics = ['Accuracy','AUC','Precision','Recall'])\n",
        "  return model"
      ],
      "metadata": {
        "id": "6HFVMxRf2yTP"
      },
      "execution_count": null,
      "outputs": []
    },
    {
      "cell_type": "code",
      "source": [
        "# Calling the build_model function and initialize the model        #\n",
        "model2 = build_model_word2vec(gensim_weight_matrix)\n",
        "model2.summary()\n",
        "\n",
        "# training and validating the model on the padded sequences of text which we have created initially        #\n",
        "\n",
        "history2 = model2.fit(x_train_res, y_train_res, validation_data=(padded_test,y_val_lenc), epochs=15,batch_size = 50)"
      ],
      "metadata": {
        "colab": {
          "base_uri": "https://localhost:8080/"
        },
        "id": "2aK6I3nV5E2T",
        "outputId": "3d9a6975-0185-43b1-819f-0e08350464cf"
      },
      "execution_count": null,
      "outputs": [
        {
          "output_type": "stream",
          "name": "stdout",
          "text": [
            "Model: \"sequential_1\"\n",
            "_________________________________________________________________\n",
            " Layer (type)                Output Shape              Param #   \n",
            "=================================================================\n",
            " embedding_1 (Embedding)     (None, 200, 100)          1000000   \n",
            "                                                                 \n",
            " dropout_3 (Dropout)         (None, 200, 100)          0         \n",
            "                                                                 \n",
            " bidirectional_2 (Bidirectio  (None, 200, 200)         160800    \n",
            " nal)                                                            \n",
            "                                                                 \n",
            " dropout_4 (Dropout)         (None, 200, 200)          0         \n",
            "                                                                 \n",
            " bidirectional_3 (Bidirectio  (None, 200, 400)         641600    \n",
            " nal)                                                            \n",
            "                                                                 \n",
            " dropout_5 (Dropout)         (None, 200, 400)          0         \n",
            "                                                                 \n",
            " dense_2 (Dense)             (None, 200, 64)           25664     \n",
            "                                                                 \n",
            " flatten_1 (Flatten)         (None, 12800)             0         \n",
            "                                                                 \n",
            " dropout_6 (Dropout)         (None, 12800)             0         \n",
            "                                                                 \n",
            " dense_3 (Dense)             (None, 1)                 12801     \n",
            "                                                                 \n",
            "=================================================================\n",
            "Total params: 1,840,865\n",
            "Trainable params: 840,865\n",
            "Non-trainable params: 1,000,000\n",
            "_________________________________________________________________\n",
            "Epoch 1/15\n",
            "25/25 [==============================] - 44s 1s/step - loss: 0.6597 - Accuracy: 0.6628 - auc: 0.7704 - precision: 0.6116 - recall: 0.8920 - val_loss: 0.6019 - val_Accuracy: 0.7793 - val_auc: 0.8617 - val_precision: 0.7178 - val_recall: 0.9416\n",
            "Epoch 2/15\n",
            "25/25 [==============================] - 34s 1s/step - loss: 0.5386 - Accuracy: 0.8256 - auc: 0.8981 - precision: 0.7753 - recall: 0.9169 - val_loss: 0.3966 - val_Accuracy: 0.8696 - val_auc: 0.9416 - val_precision: 0.8912 - val_recall: 0.8506\n",
            "Epoch 3/15\n",
            "25/25 [==============================] - 35s 1s/step - loss: 0.2935 - Accuracy: 0.9020 - auc: 0.9491 - precision: 0.9116 - recall: 0.8904 - val_loss: 0.2089 - val_Accuracy: 0.9231 - val_auc: 0.9685 - val_precision: 0.9396 - val_recall: 0.9091\n",
            "Epoch 4/15\n",
            "25/25 [==============================] - 34s 1s/step - loss: 0.2274 - Accuracy: 0.9169 - auc: 0.9664 - precision: 0.9254 - recall: 0.9070 - val_loss: 0.1847 - val_Accuracy: 0.9365 - val_auc: 0.9763 - val_precision: 0.9720 - val_recall: 0.9026\n",
            "Epoch 5/15\n",
            "25/25 [==============================] - 34s 1s/step - loss: 0.2095 - Accuracy: 0.9219 - auc: 0.9713 - precision: 0.9394 - recall: 0.9020 - val_loss: 0.1697 - val_Accuracy: 0.9365 - val_auc: 0.9815 - val_precision: 0.9655 - val_recall: 0.9091\n",
            "Epoch 6/15\n",
            "25/25 [==============================] - 35s 1s/step - loss: 0.1888 - Accuracy: 0.9302 - auc: 0.9758 - precision: 0.9317 - recall: 0.9286 - val_loss: 0.1773 - val_Accuracy: 0.9498 - val_auc: 0.9820 - val_precision: 1.0000 - val_recall: 0.9026\n",
            "Epoch 7/15\n",
            "25/25 [==============================] - 34s 1s/step - loss: 0.1796 - Accuracy: 0.9352 - auc: 0.9781 - precision: 0.9426 - recall: 0.9269 - val_loss: 0.2717 - val_Accuracy: 0.8930 - val_auc: 0.9821 - val_precision: 1.0000 - val_recall: 0.7922\n",
            "Epoch 8/15\n",
            "25/25 [==============================] - 35s 1s/step - loss: 0.2172 - Accuracy: 0.9236 - auc: 0.9697 - precision: 0.9307 - recall: 0.9153 - val_loss: 0.1766 - val_Accuracy: 0.9398 - val_auc: 0.9826 - val_precision: 1.0000 - val_recall: 0.8831\n",
            "Epoch 9/15\n",
            "25/25 [==============================] - 34s 1s/step - loss: 0.1715 - Accuracy: 0.9352 - auc: 0.9789 - precision: 0.9396 - recall: 0.9302 - val_loss: 0.1460 - val_Accuracy: 0.9465 - val_auc: 0.9821 - val_precision: 0.9726 - val_recall: 0.9221\n",
            "Epoch 10/15\n",
            "25/25 [==============================] - 34s 1s/step - loss: 0.1587 - Accuracy: 0.9468 - auc: 0.9833 - precision: 0.9529 - recall: 0.9402 - val_loss: 0.1583 - val_Accuracy: 0.9431 - val_auc: 0.9828 - val_precision: 0.9858 - val_recall: 0.9026\n",
            "Epoch 11/15\n",
            "25/25 [==============================] - 35s 1s/step - loss: 0.1605 - Accuracy: 0.9468 - auc: 0.9815 - precision: 0.9483 - recall: 0.9452 - val_loss: 0.1405 - val_Accuracy: 0.9532 - val_auc: 0.9841 - val_precision: 0.9861 - val_recall: 0.9221\n",
            "Epoch 12/15\n",
            "25/25 [==============================] - 34s 1s/step - loss: 0.1473 - Accuracy: 0.9444 - auc: 0.9847 - precision: 0.9451 - recall: 0.9435 - val_loss: 0.1464 - val_Accuracy: 0.9298 - val_auc: 0.9839 - val_precision: 0.9346 - val_recall: 0.9286\n",
            "Epoch 13/15\n",
            "25/25 [==============================] - 35s 1s/step - loss: 0.1587 - Accuracy: 0.9394 - auc: 0.9827 - precision: 0.9343 - recall: 0.9452 - val_loss: 0.1386 - val_Accuracy: 0.9498 - val_auc: 0.9839 - val_precision: 0.9793 - val_recall: 0.9221\n",
            "Epoch 14/15\n",
            "25/25 [==============================] - 34s 1s/step - loss: 0.1456 - Accuracy: 0.9510 - auc: 0.9851 - precision: 0.9548 - recall: 0.9468 - val_loss: 0.1522 - val_Accuracy: 0.9532 - val_auc: 0.9838 - val_precision: 1.0000 - val_recall: 0.9091\n",
            "Epoch 15/15\n",
            "25/25 [==============================] - 35s 1s/step - loss: 0.1393 - Accuracy: 0.9502 - auc: 0.9870 - precision: 0.9472 - recall: 0.9535 - val_loss: 0.1376 - val_Accuracy: 0.9565 - val_auc: 0.9835 - val_precision: 0.9930 - val_recall: 0.9221\n"
          ]
        }
      ]
    },
    {
      "cell_type": "code",
      "source": [
        "#Metrics for BiLSTM with Word2Vec Embedding\n",
        "print(\"Evaluate on test data\")\n",
        "results1 = model2.evaluate(X_test_indices, y_val_lenc)\n",
        "print(\"test loss, test acc, test auc, test, precision, test recall:\", results1)"
      ],
      "metadata": {
        "colab": {
          "base_uri": "https://localhost:8080/"
        },
        "id": "UPa1onBUfseG",
        "outputId": "102558c1-82f8-4d99-ce7e-9a6d95e2190c"
      },
      "execution_count": null,
      "outputs": [
        {
          "output_type": "stream",
          "name": "stdout",
          "text": [
            "Evaluate on test data\n",
            "33/33 [==============================] - 13s 377ms/step - loss: 0.1227 - Accuracy: 0.9552 - auc: 0.9850 - precision: 0.7727 - recall: 0.9154\n",
            "test loss, test acc, test auc, test, precision, test recall: [0.12268398702144623, 0.955165684223175, 0.9850188493728638, 0.7727272510528564, 0.9153845906257629]\n"
          ]
        }
      ]
    },
    {
      "cell_type": "code",
      "source": [
        "#F1 Score Calculation for BiLSTM with GloVe Embedding\n",
        "f1_scr2 = 2 * (results1[3] * results1[4]) / (results1[3] + results1[4])\n",
        "print(\"F1 Score:\",f1_scr2)"
      ],
      "metadata": {
        "colab": {
          "base_uri": "https://localhost:8080/"
        },
        "id": "LpvqxEKnlgyT",
        "outputId": "9bcbeeec-4bde-4b35-c1c3-bd8fe0e00c91"
      },
      "execution_count": null,
      "outputs": [
        {
          "output_type": "stream",
          "name": "stdout",
          "text": [
            "F1 Score: 0.8380281458923066\n"
          ]
        }
      ]
    },
    {
      "cell_type": "code",
      "source": [
        "from sklearn.feature_extraction.text import TfidfVectorizer\n",
        "tfidf = TfidfVectorizer(max_features=200)"
      ],
      "metadata": {
        "id": "U0ia5ZoaEdik"
      },
      "execution_count": null,
      "outputs": []
    },
    {
      "cell_type": "code",
      "source": [
        "#Creating tf-idf vector\n",
        "tfidf.fit(x_train1)"
      ],
      "metadata": {
        "colab": {
          "base_uri": "https://localhost:8080/"
        },
        "id": "t-b52PWFMNIv",
        "outputId": "002b2d4a-f827-4106-92a7-86398cf9bfb2"
      },
      "execution_count": null,
      "outputs": [
        {
          "output_type": "execute_result",
          "data": {
            "text/plain": [
              "TfidfVectorizer(max_features=200)"
            ]
          },
          "metadata": {},
          "execution_count": 34
        }
      ]
    },
    {
      "cell_type": "code",
      "source": [
        "#Transforming the training and test data using tf-idf vectorizer\n",
        "X_train_transformed = tfidf.transform(x_train1)\n",
        "X_test_transformed  = tfidf.transform(x_test1)"
      ],
      "metadata": {
        "id": "RLYPTrI5JJ07"
      },
      "execution_count": null,
      "outputs": []
    },
    {
      "cell_type": "code",
      "source": [
        "#Performing Smote to balance the training data set\n",
        "sm = SMOTE(random_state=12)\n",
        "x_train_res1, y_train_res1 = sm.fit_resample(X_train_transformed, y_train1)"
      ],
      "metadata": {
        "id": "13uxCJGpMQST"
      },
      "execution_count": null,
      "outputs": []
    },
    {
      "cell_type": "markdown",
      "source": [
        "Multinomial NB using TF-IdF vectorizer"
      ],
      "metadata": {
        "id": "6fA31dREvU3b"
      }
    },
    {
      "cell_type": "code",
      "source": [
        "#Multinomial NB using TF-IdF vectorizer\n",
        "from sklearn.naive_bayes import MultinomialNB\n",
        "mnb = MultinomialNB()\n",
        "\n",
        "# Fit\n",
        "mnb.fit(x_train_res1,y_train_res1)\n",
        "\n",
        "# Predict class\n",
        "y_pred_class1 = mnb.predict(X_test_transformed)\n",
        "# Predict probabilities\n",
        "y_pred_proba1 = mnb.predict_proba(X_test_transformed)"
      ],
      "metadata": {
        "id": "lf-oy2DkRIsi"
      },
      "execution_count": null,
      "outputs": []
    },
    {
      "cell_type": "code",
      "source": [
        "# Metrics of Multinomial NB with TF-IdF\n",
        "from sklearn import metrics\n",
        "mnb_tfidf_acc = metrics.accuracy_score(y_test1, y_pred_class1)\n",
        "print(\"Accuracy:\",mnb_tfidf_acc)\n",
        "mnb_tfidf_pre = metrics.precision_score(y_test1, y_pred_class1,pos_label='spam')\n",
        "print(\"Precision:\",mnb_tfidf_pre)\n",
        "mnb_tfidf_rec = metrics.recall_score(y_test1, y_pred_class1,pos_label='spam')\n",
        "print(\"Recall:\",mnb_tfidf_rec)\n",
        "mnb_tfidf_f1 = metrics.f1_score(y_test1, y_pred_class1,pos_label='spam')\n",
        "print(\"F1 Score:\",mnb_tfidf_f1)"
      ],
      "metadata": {
        "colab": {
          "base_uri": "https://localhost:8080/"
        },
        "id": "_q4DDigG9LiQ",
        "outputId": "24e5b18d-0804-4f4b-ef3f-ddd213cdff45"
      },
      "execution_count": null,
      "outputs": [
        {
          "output_type": "stream",
          "name": "stdout",
          "text": [
            "Accuracy: 0.9294003868471954\n",
            "Precision: 0.6830601092896175\n",
            "Recall: 0.8928571428571429\n",
            "F1 Score: 0.7739938080495357\n"
          ]
        }
      ]
    },
    {
      "cell_type": "code",
      "source": [
        "#Confusion Matrix of Multinomial NB with TF-IdF\n",
        "confusion_matrix1 = metrics.confusion_matrix(y_test1, y_pred_class1)\n",
        "cm_display = metrics.ConfusionMatrixDisplay(confusion_matrix = confusion_matrix1, display_labels = [False, True])\n",
        "cm_display.plot()\n",
        "plt.title('Confusion Matrix of Multinomial NB with TF-IdF')\n",
        "plt.show()"
      ],
      "metadata": {
        "colab": {
          "base_uri": "https://localhost:8080/",
          "height": 295
        },
        "id": "XQMdAL7aAzlR",
        "outputId": "c7fb0516-2121-439b-b64a-a879e11311ad"
      },
      "execution_count": null,
      "outputs": [
        {
          "output_type": "display_data",
          "data": {
            "text/plain": [
              "<Figure size 432x288 with 2 Axes>"
            ],
            "image/png": "[encoded data removed]"
          },
          "metadata": {
            "needs_background": "light"
          }
        }
      ]
    },
    {
      "cell_type": "code",
      "source": [
        "%pip install zeugma"
      ],
      "metadata": {
        "colab": {
          "base_uri": "https://localhost:8080/"
        },
        "id": "_W4sJhBBY281",
        "outputId": "fe31e91d-6f5e-4bf3-f452-ce75edcfd88e"
      },
      "execution_count": null,
      "outputs": [
        {
          "output_type": "stream",
          "name": "stdout",
          "text": [
            "Looking in indexes: https://pypi.org/simple, https://us-python.pkg.dev/colab-wheels/public/simple/\n",
            "Collecting zeugma\n",
            "  Downloading zeugma-0.49.tar.gz (9.9 kB)\n",
            "Requirement already satisfied: numpy>=1.13.3 in /usr/local/lib/python3.7/dist-packages (from zeugma) (1.21.6)\n",
            "Requirement already satisfied: Cython>=0.27.3 in /usr/local/lib/python3.7/dist-packages (from zeugma) (0.29.32)\n",
            "Requirement already satisfied: pandas>=0.20.3 in /usr/local/lib/python3.7/dist-packages (from zeugma) (1.3.5)\n",
            "Requirement already satisfied: gensim>=3.5.0 in /usr/local/lib/python3.7/dist-packages (from zeugma) (3.6.0)\n",
            "Requirement already satisfied: scikit_learn>=0.19.1 in /usr/local/lib/python3.7/dist-packages (from zeugma) (1.0.2)\n",
            "Requirement already satisfied: tensorflow>=1.5.0 in /usr/local/lib/python3.7/dist-packages (from zeugma) (2.8.2+zzzcolab20220719082949)\n",
            "Requirement already satisfied: keras>=2.1.3 in /usr/local/lib/python3.7/dist-packages (from zeugma) (2.8.0)\n",
            "Requirement already satisfied: six>=1.5.0 in /usr/local/lib/python3.7/dist-packages (from gensim>=3.5.0->zeugma) (1.15.0)\n",
            "Requirement already satisfied: scipy>=0.18.1 in /usr/local/lib/python3.7/dist-packages (from gensim>=3.5.0->zeugma) (1.7.3)\n",
            "Requirement already satisfied: smart-open>=1.2.1 in /usr/local/lib/python3.7/dist-packages (from gensim>=3.5.0->zeugma) (5.2.1)\n",
            "Requirement already satisfied: python-dateutil>=2.7.3 in /usr/local/lib/python3.7/dist-packages (from pandas>=0.20.3->zeugma) (2.8.2)\n",
            "Requirement already satisfied: pytz>=2017.3 in /usr/local/lib/python3.7/dist-packages (from pandas>=0.20.3->zeugma) (2022.1)\n",
            "Requirement already satisfied: threadpoolctl>=2.0.0 in /usr/local/lib/python3.7/dist-packages (from scikit_learn>=0.19.1->zeugma) (3.1.0)\n",
            "Requirement already satisfied: joblib>=0.11 in /usr/local/lib/python3.7/dist-packages (from scikit_learn>=0.19.1->zeugma) (1.1.0)\n",
            "Requirement already satisfied: tensorflow-io-gcs-filesystem>=0.23.1 in /usr/local/lib/python3.7/dist-packages (from tensorflow>=1.5.0->zeugma) (0.26.0)\n",
            "Requirement already satisfied: setuptools in /usr/local/lib/python3.7/dist-packages (from tensorflow>=1.5.0->zeugma) (57.4.0)\n",
            "Requirement already satisfied: astunparse>=1.6.0 in /usr/local/lib/python3.7/dist-packages (from tensorflow>=1.5.0->zeugma) (1.6.3)\n",
            "Requirement already satisfied: grpcio<2.0,>=1.24.3 in /usr/local/lib/python3.7/dist-packages (from tensorflow>=1.5.0->zeugma) (1.47.0)\n",
            "Requirement already satisfied: absl-py>=0.4.0 in /usr/local/lib/python3.7/dist-packages (from tensorflow>=1.5.0->zeugma) (1.2.0)\n",
            "Requirement already satisfied: termcolor>=1.1.0 in /usr/local/lib/python3.7/dist-packages (from tensorflow>=1.5.0->zeugma) (1.1.0)\n",
            "Requirement already satisfied: gast>=0.2.1 in /usr/local/lib/python3.7/dist-packages (from tensorflow>=1.5.0->zeugma) (0.5.3)\n",
            "Requirement already satisfied: google-pasta>=0.1.1 in /usr/local/lib/python3.7/dist-packages (from tensorflow>=1.5.0->zeugma) (0.2.0)\n",
            "Requirement already satisfied: tensorflow-estimator<2.9,>=2.8 in /usr/local/lib/python3.7/dist-packages (from tensorflow>=1.5.0->zeugma) (2.8.0)\n",
            "Requirement already satisfied: opt-einsum>=2.3.2 in /usr/local/lib/python3.7/dist-packages (from tensorflow>=1.5.0->zeugma) (3.3.0)\n",
            "Requirement already satisfied: libclang>=9.0.1 in /usr/local/lib/python3.7/dist-packages (from tensorflow>=1.5.0->zeugma) (14.0.6)\n",
            "Requirement already satisfied: protobuf<3.20,>=3.9.2 in /usr/local/lib/python3.7/dist-packages (from tensorflow>=1.5.0->zeugma) (3.17.3)\n",
            "Requirement already satisfied: typing-extensions>=3.6.6 in /usr/local/lib/python3.7/dist-packages (from tensorflow>=1.5.0->zeugma) (4.1.1)\n",
            "Requirement already satisfied: tensorboard<2.9,>=2.8 in /usr/local/lib/python3.7/dist-packages (from tensorflow>=1.5.0->zeugma) (2.8.0)\n",
            "Requirement already satisfied: h5py>=2.9.0 in /usr/local/lib/python3.7/dist-packages (from tensorflow>=1.5.0->zeugma) (3.1.0)\n",
            "Requirement already satisfied: wrapt>=1.11.0 in /usr/local/lib/python3.7/dist-packages (from tensorflow>=1.5.0->zeugma) (1.14.1)\n",
            "Requirement already satisfied: flatbuffers>=1.12 in /usr/local/lib/python3.7/dist-packages (from tensorflow>=1.5.0->zeugma) (2.0)\n",
            "Requirement already satisfied: keras-preprocessing>=1.1.1 in /usr/local/lib/python3.7/dist-packages (from tensorflow>=1.5.0->zeugma) (1.1.2)\n",
            "Requirement already satisfied: wheel<1.0,>=0.23.0 in /usr/local/lib/python3.7/dist-packages (from astunparse>=1.6.0->tensorflow>=1.5.0->zeugma) (0.37.1)\n",
            "Requirement already satisfied: cached-property in /usr/local/lib/python3.7/dist-packages (from h5py>=2.9.0->tensorflow>=1.5.0->zeugma) (1.5.2)\n",
            "Requirement already satisfied: google-auth-oauthlib<0.5,>=0.4.1 in /usr/local/lib/python3.7/dist-packages (from tensorboard<2.9,>=2.8->tensorflow>=1.5.0->zeugma) (0.4.6)\n",
            "Requirement already satisfied: tensorboard-plugin-wit>=1.6.0 in /usr/local/lib/python3.7/dist-packages (from tensorboard<2.9,>=2.8->tensorflow>=1.5.0->zeugma) (1.8.1)\n",
            "Requirement already satisfied: google-auth<3,>=1.6.3 in /usr/local/lib/python3.7/dist-packages (from tensorboard<2.9,>=2.8->tensorflow>=1.5.0->zeugma) (1.35.0)\n",
            "Requirement already satisfied: requests<3,>=2.21.0 in /usr/local/lib/python3.7/dist-packages (from tensorboard<2.9,>=2.8->tensorflow>=1.5.0->zeugma) (2.23.0)\n",
            "Requirement already satisfied: tensorboard-data-server<0.7.0,>=0.6.0 in /usr/local/lib/python3.7/dist-packages (from tensorboard<2.9,>=2.8->tensorflow>=1.5.0->zeugma) (0.6.1)\n",
            "Requirement already satisfied: werkzeug>=0.11.15 in /usr/local/lib/python3.7/dist-packages (from tensorboard<2.9,>=2.8->tensorflow>=1.5.0->zeugma) (1.0.1)\n",
            "Requirement already satisfied: markdown>=2.6.8 in /usr/local/lib/python3.7/dist-packages (from tensorboard<2.9,>=2.8->tensorflow>=1.5.0->zeugma) (3.4.1)\n",
            "Requirement already satisfied: pyasn1-modules>=0.2.1 in /usr/local/lib/python3.7/dist-packages (from google-auth<3,>=1.6.3->tensorboard<2.9,>=2.8->tensorflow>=1.5.0->zeugma) (0.2.8)\n",
            "Requirement already satisfied: cachetools<5.0,>=2.0.0 in /usr/local/lib/python3.7/dist-packages (from google-auth<3,>=1.6.3->tensorboard<2.9,>=2.8->tensorflow>=1.5.0->zeugma) (4.2.4)\n",
            "Requirement already satisfied: rsa<5,>=3.1.4 in /usr/local/lib/python3.7/dist-packages (from google-auth<3,>=1.6.3->tensorboard<2.9,>=2.8->tensorflow>=1.5.0->zeugma) (4.9)\n",
            "Requirement already satisfied: requests-oauthlib>=0.7.0 in /usr/local/lib/python3.7/dist-packages (from google-auth-oauthlib<0.5,>=0.4.1->tensorboard<2.9,>=2.8->tensorflow>=1.5.0->zeugma) (1.3.1)\n",
            "Requirement already satisfied: importlib-metadata>=4.4 in /usr/local/lib/python3.7/dist-packages (from markdown>=2.6.8->tensorboard<2.9,>=2.8->tensorflow>=1.5.0->zeugma) (4.12.0)\n",
            "Requirement already satisfied: zipp>=0.5 in /usr/local/lib/python3.7/dist-packages (from importlib-metadata>=4.4->markdown>=2.6.8->tensorboard<2.9,>=2.8->tensorflow>=1.5.0->zeugma) (3.8.1)\n",
            "Requirement already satisfied: pyasn1<0.5.0,>=0.4.6 in /usr/local/lib/python3.7/dist-packages (from pyasn1-modules>=0.2.1->google-auth<3,>=1.6.3->tensorboard<2.9,>=2.8->tensorflow>=1.5.0->zeugma) (0.4.8)\n",
            "Requirement already satisfied: idna<3,>=2.5 in /usr/local/lib/python3.7/dist-packages (from requests<3,>=2.21.0->tensorboard<2.9,>=2.8->tensorflow>=1.5.0->zeugma) (2.10)\n",
            "Requirement already satisfied: chardet<4,>=3.0.2 in /usr/local/lib/python3.7/dist-packages (from requests<3,>=2.21.0->tensorboard<2.9,>=2.8->tensorflow>=1.5.0->zeugma) (3.0.4)\n",
            "Requirement already satisfied: certifi>=2017.4.17 in /usr/local/lib/python3.7/dist-packages (from requests<3,>=2.21.0->tensorboard<2.9,>=2.8->tensorflow>=1.5.0->zeugma) (2022.6.15)\n",
            "Requirement already satisfied: urllib3!=1.25.0,!=1.25.1,<1.26,>=1.21.1 in /usr/local/lib/python3.7/dist-packages (from requests<3,>=2.21.0->tensorboard<2.9,>=2.8->tensorflow>=1.5.0->zeugma) (1.24.3)\n",
            "Requirement already satisfied: oauthlib>=3.0.0 in /usr/local/lib/python3.7/dist-packages (from requests-oauthlib>=0.7.0->google-auth-oauthlib<0.5,>=0.4.1->tensorboard<2.9,>=2.8->tensorflow>=1.5.0->zeugma) (3.2.0)\n",
            "Building wheels for collected packages: zeugma\n",
            "  Building wheel for zeugma (setup.py) ... \u001b[?25l\u001b[?25hdone\n",
            "  Created wheel for zeugma: filename=zeugma-0.49-py3-none-any.whl size=8823 sha256=f1a6822f308c0cc68b0a2bd87874ac356cb5fdbddaf26488638e2286ea077a82\n",
            "  Stored in directory: /root/.cache/pip/wheels/1d/47/5b/2a59a79706cc9340c72fd6a7bfc20e7ebcab849c88c38fdfa0\n",
            "Successfully built zeugma\n",
            "Installing collected packages: zeugma\n",
            "Successfully installed zeugma-0.49\n"
          ]
        }
      ]
    },
    {
      "cell_type": "code",
      "source": [
        "from zeugma.embeddings import EmbeddingTransformer\n",
        "glove = EmbeddingTransformer('glove')"
      ],
      "metadata": {
        "colab": {
          "base_uri": "https://localhost:8080/"
        },
        "id": "1RMEc4SHXfc2",
        "outputId": "3b8fa048-1f31-4ca3-e128-f0a473fbede9"
      },
      "execution_count": null,
      "outputs": [
        {
          "output_type": "stream",
          "name": "stdout",
          "text": [
            "[==================================================] 100.0% 104.8/104.8MB downloaded\n"
          ]
        }
      ]
    },
    {
      "cell_type": "code",
      "source": [
        "#Transforming training and test data using glove \n",
        "xtrain_glove = glove.transform(x_train1)\n",
        "xval_glove = glove.transform(x_test1)"
      ],
      "metadata": {
        "id": "6s3Pe7OIZY5L"
      },
      "execution_count": null,
      "outputs": []
    },
    {
      "cell_type": "code",
      "source": [
        "#Performing Smote on training data\n",
        "sm = SMOTE(random_state=12)\n",
        "x_train_res2, y_train_res2 = sm.fit_resample(xtrain_glove, y_train1)"
      ],
      "metadata": {
        "id": "PwowVntvZ2JE"
      },
      "execution_count": null,
      "outputs": []
    },
    {
      "cell_type": "code",
      "source": [
        "import gensim\n",
        "from tqdm import tqdm\n",
        "from sklearn.preprocessing import StandardScaler\n",
        "w2v_model=gensim.models.Word2Vec(x_train1,min_count=4,size=200, workers=4)\n",
        "w2v_words=list(w2v_model.wv.vocab)"
      ],
      "metadata": {
        "colab": {
          "base_uri": "https://localhost:8080/"
        },
        "id": "ix-XXfeHhJb9",
        "outputId": "1623c33d-a077-42e0-ae32-94fce8feaca1"
      },
      "execution_count": null,
      "outputs": [
        {
          "output_type": "stream",
          "name": "stderr",
          "text": [
            "WARNING:gensim.models.word2vec:Each 'sentences' item should be a list of words (usually unicode strings). First item here is instead plain <class 'str'>.\n"
          ]
        }
      ]
    },
    {
      "cell_type": "code",
      "source": [
        "#Creating training data using word2Vec vocab\n",
        "list_of_msg_vec=[]\n",
        "#tqdm is for improving speed\n",
        "for msg in tqdm(x_train1): \n",
        "    msg_vec = np.zeros(200) \n",
        "    cnt_words =0; \n",
        "    for word in msg: \n",
        "        if word in w2v_words:\n",
        "            vec = w2v_model.wv[word]\n",
        "            msg_vec += vec\n",
        "            cnt_words += 1\n",
        "    if cnt_words != 0:\n",
        "        msg_vec /= cnt_words\n",
        "    list_of_msg_vec.append(msg_vec)"
      ],
      "metadata": {
        "colab": {
          "base_uri": "https://localhost:8080/"
        },
        "id": "MaIZqJ9yvc1w",
        "outputId": "1b5a1ecc-92dc-48bc-ddec-30a81c880a81"
      },
      "execution_count": null,
      "outputs": [
        {
          "output_type": "stream",
          "name": "stderr",
          "text": [
            "100%|██████████| 4135/4135 [00:00<00:00, 4349.57it/s]\n"
          ]
        }
      ]
    },
    {
      "cell_type": "code",
      "source": [
        "#Transforming training data using word2Vec \n",
        "Scaler = StandardScaler()\n",
        "train_vec = Scaler.fit_transform(list_of_msg_vec)\n",
        "train_vec = train_vec.tolist()"
      ],
      "metadata": {
        "id": "MjiUl2Qbvm2Y"
      },
      "execution_count": null,
      "outputs": []
    },
    {
      "cell_type": "code",
      "source": [
        "#Creating test data using word2Vec vocab\n",
        "list_of_msg_vec=[]\n",
        "\n",
        "for msg in tqdm(x_test1): \n",
        "    msg_vec = np.zeros(200) \n",
        "    cnt_words =0; \n",
        "    for word in msg: \n",
        "        if word in w2v_words:\n",
        "            vec = w2v_model.wv[word]\n",
        "            msg_vec += vec\n",
        "            cnt_words += 1\n",
        "    if cnt_words != 0:\n",
        "        msg_vec /= cnt_words\n",
        "    list_of_msg_vec.append(msg_vec)"
      ],
      "metadata": {
        "colab": {
          "base_uri": "https://localhost:8080/"
        },
        "id": "2Y7DmXeoxUGC",
        "outputId": "516ad7b5-e5c5-4b02-9521-e63911d3fb7c"
      },
      "execution_count": null,
      "outputs": [
        {
          "output_type": "stream",
          "name": "stderr",
          "text": [
            "100%|██████████| 1034/1034 [00:00<00:00, 4021.57it/s]\n"
          ]
        }
      ]
    },
    {
      "cell_type": "code",
      "source": [
        "#Transforming test data using word2Vec \n",
        "test_vec = Scaler.fit_transform(list_of_msg_vec)"
      ],
      "metadata": {
        "id": "3YBoR6giwalD"
      },
      "execution_count": null,
      "outputs": []
    },
    {
      "cell_type": "code",
      "source": [
        "#Performing Smote on training data\n",
        "sm = SMOTE(random_state=12)\n",
        "x_train_res3, y_train_res3 = sm.fit_resample(train_vec, y_train1)"
      ],
      "metadata": {
        "id": "JDVrqvcLwCTr"
      },
      "execution_count": null,
      "outputs": []
    },
    {
      "cell_type": "markdown",
      "source": [
        "Logistic Regression using Tf-Idf"
      ],
      "metadata": {
        "id": "v_HzoiDOvdUy"
      }
    },
    {
      "cell_type": "code",
      "source": [
        "#logisticRegression using Tf-Idf \n",
        "from sklearn.linear_model import LogisticRegression\n",
        "\n",
        "lg = LogisticRegression(max_iter = 1000)\n",
        "#fit\n",
        "lg.fit(x_train_res1,y_train_res1)"
      ],
      "metadata": {
        "colab": {
          "base_uri": "https://localhost:8080/"
        },
        "id": "MXXr6C_oVIZb",
        "outputId": "048238e1-b952-4e4d-c100-c3fd48dccfda"
      },
      "execution_count": null,
      "outputs": [
        {
          "output_type": "execute_result",
          "data": {
            "text/plain": [
              "LogisticRegression(max_iter=1000)"
            ]
          },
          "metadata": {},
          "execution_count": 54
        }
      ]
    },
    {
      "cell_type": "code",
      "source": [
        "y_pred_class2 = lg.predict(X_test_transformed)\n",
        "\n",
        "# predict probabilities\n",
        "y_pred_proba2 = lg.predict_proba(X_test_transformed)"
      ],
      "metadata": {
        "id": "rbkDkUxpVRhj"
      },
      "execution_count": null,
      "outputs": []
    },
    {
      "cell_type": "code",
      "source": [
        "# Metrics of Logistic Regression with TF-IdF\n",
        "from sklearn import metrics\n",
        "lr_tfidf_acc = metrics.accuracy_score(y_test1, y_pred_class2)\n",
        "print(\"Accuracy:\",lr_tfidf_acc)\n",
        "lr_tfidf_pre = metrics.precision_score(y_test1, y_pred_class2,pos_label='spam')\n",
        "print(\"Precision:\",lr_tfidf_pre)\n",
        "lr_tfidf_rec = metrics.recall_score(y_test1, y_pred_class2,pos_label='spam')\n",
        "print(\"Recall:\",lr_tfidf_rec)\n",
        "lr_tfidf_f1 = metrics.f1_score(y_test1, y_pred_class2,pos_label='spam')\n",
        "print(\"F1 Score:\",lr_tfidf_f1)"
      ],
      "metadata": {
        "colab": {
          "base_uri": "https://localhost:8080/"
        },
        "id": "pvxuov0_VSXc",
        "outputId": "e519858a-0cfe-483c-a3fa-af40cd441f0a"
      },
      "execution_count": null,
      "outputs": [
        {
          "output_type": "stream",
          "name": "stdout",
          "text": [
            "Accuracy: 0.9323017408123792\n",
            "Precision: 0.6988636363636364\n",
            "Recall: 0.8785714285714286\n",
            "F1 Score: 0.7784810126582279\n"
          ]
        }
      ]
    },
    {
      "cell_type": "code",
      "source": [
        "#Confusion Matrix of Logistic Regression with TF-IdF\n",
        "confusion_matrix2 = metrics.confusion_matrix(y_test1, y_pred_class2)\n",
        "cm_display = metrics.ConfusionMatrixDisplay(confusion_matrix = confusion_matrix2, display_labels = [False, True])\n",
        "cm_display.plot()\n",
        "plt.title('Confusion Matrix of Logistic Regression with TF-IdF')\n",
        "plt.show()"
      ],
      "metadata": {
        "colab": {
          "base_uri": "https://localhost:8080/",
          "height": 295
        },
        "id": "uI3E360jLYmM",
        "outputId": "f574220e-c10e-4250-b902-c3205112dbc8"
      },
      "execution_count": null,
      "outputs": [
        {
          "output_type": "display_data",
          "data": {
            "text/plain": [
              "<Figure size 432x288 with 2 Axes>"
            ],
            "image/png": "[encoded data removed]"
          },
          "metadata": {
            "needs_background": "light"
          }
        }
      ]
    },
    {
      "cell_type": "markdown",
      "source": [
        "Logistic regression with GloVe"
      ],
      "metadata": {
        "id": "R-uofYkZvlTe"
      }
    },
    {
      "cell_type": "code",
      "source": [
        "#fit logistic regression with glove\n",
        "lg.fit(x_train_res2,y_train_res2)"
      ],
      "metadata": {
        "colab": {
          "base_uri": "https://localhost:8080/"
        },
        "id": "T-HEKcHaacsi",
        "outputId": "67d373d9-2419-412c-cdcc-43cd4e51d29f"
      },
      "execution_count": null,
      "outputs": [
        {
          "output_type": "execute_result",
          "data": {
            "text/plain": [
              "LogisticRegression(max_iter=1000)"
            ]
          },
          "metadata": {},
          "execution_count": 58
        }
      ]
    },
    {
      "cell_type": "code",
      "source": [
        "y_pred_class3 = lg.predict(xval_glove)\n",
        "\n",
        "# predict probabilities\n",
        "y_pred_proba3 = lg.predict_proba(xval_glove)"
      ],
      "metadata": {
        "id": "y9dYvCcFakEa"
      },
      "execution_count": null,
      "outputs": []
    },
    {
      "cell_type": "code",
      "source": [
        "# Metrics of Logistic Regression with glove\n",
        "from sklearn import metrics\n",
        "lr_glv_acc = metrics.accuracy_score(y_test1, y_pred_class3)\n",
        "print(\"Accuracy:\",lr_glv_acc)\n",
        "lr_glv_pre = metrics.precision_score(y_test1, y_pred_class3,pos_label='spam')\n",
        "print(\"Precision:\",lr_glv_pre)\n",
        "lr_glv_rec = metrics.recall_score(y_test1, y_pred_class3,pos_label='spam')\n",
        "print(\"Recall:\",lr_glv_rec)\n",
        "lr_glv_f1 = metrics.f1_score(y_test1, y_pred_class3,pos_label='spam')\n",
        "print(\"F1 Score:\",lr_glv_f1)"
      ],
      "metadata": {
        "colab": {
          "base_uri": "https://localhost:8080/"
        },
        "id": "2ZzEo4ljasKp",
        "outputId": "724bc30f-6407-4c49-b249-889f2e9a9678"
      },
      "execution_count": null,
      "outputs": [
        {
          "output_type": "stream",
          "name": "stdout",
          "text": [
            "Accuracy: 0.8974854932301741\n",
            "Precision: 0.5758928571428571\n",
            "Recall: 0.9214285714285714\n",
            "F1 Score: 0.7087912087912087\n"
          ]
        }
      ]
    },
    {
      "cell_type": "code",
      "source": [
        "#Confusion Matrix of Logistic Regression with glove\n",
        "confusion_matrix3 = metrics.confusion_matrix(y_test1, y_pred_class3)\n",
        "cm_display = metrics.ConfusionMatrixDisplay(confusion_matrix = confusion_matrix3, display_labels = [False, True])\n",
        "cm_display.plot()\n",
        "plt.title('Confusion Matrix of Logistic Regression with glove')\n",
        "plt.show()"
      ],
      "metadata": {
        "colab": {
          "base_uri": "https://localhost:8080/",
          "height": 295
        },
        "id": "qRrwDoB3Ndws",
        "outputId": "18060a97-2bd2-4484-fb5c-ec079be0647d"
      },
      "execution_count": null,
      "outputs": [
        {
          "output_type": "display_data",
          "data": {
            "text/plain": [
              "<Figure size 432x288 with 2 Axes>"
            ],
            "image/png": "[encoded data removed]"
          },
          "metadata": {
            "needs_background": "light"
          }
        }
      ]
    },
    {
      "cell_type": "markdown",
      "source": [
        "Logistic Regression with Word2Vec"
      ],
      "metadata": {
        "id": "W_2IqDuyvpbA"
      }
    },
    {
      "cell_type": "code",
      "source": [
        "#fit logistic regression with word2vec\n",
        "lg.fit(x_train_res3,y_train_res3)"
      ],
      "metadata": {
        "colab": {
          "base_uri": "https://localhost:8080/"
        },
        "id": "HmhRHtbFv5b-",
        "outputId": "1ba835c2-8bce-42db-ecad-419706c061f7"
      },
      "execution_count": null,
      "outputs": [
        {
          "output_type": "execute_result",
          "data": {
            "text/plain": [
              "LogisticRegression(max_iter=1000)"
            ]
          },
          "metadata": {},
          "execution_count": 62
        }
      ]
    },
    {
      "cell_type": "code",
      "source": [
        "y_pred_class4 = lg.predict(test_vec)\n",
        "\n",
        "# predict probabilities\n",
        "y_pred_proba4 = lg.predict_proba(test_vec)"
      ],
      "metadata": {
        "id": "UE_6TZUYwN6G"
      },
      "execution_count": null,
      "outputs": []
    },
    {
      "cell_type": "code",
      "source": [
        "# Metrics of Logistic Regression with word2Vec\n",
        "from sklearn import metrics\n",
        "lr_w2v_acc = metrics.accuracy_score(y_test1, y_pred_class4)\n",
        "print(\"Accuracy:\",lr_w2v_acc)\n",
        "lr_w2v_pre = metrics.precision_score(y_test1, y_pred_class4,pos_label='spam')\n",
        "print(\"Precision:\",lr_w2v_pre)\n",
        "lr_w2v_rec = metrics.recall_score(y_test1, y_pred_class4,pos_label='spam')\n",
        "print(\"Recall:\",lr_w2v_rec)\n",
        "lr_w2v_f1 = metrics.f1_score(y_test1, y_pred_class4,pos_label='spam')\n",
        "print(\"F1 Score:\",lr_w2v_f1)"
      ],
      "metadata": {
        "colab": {
          "base_uri": "https://localhost:8080/"
        },
        "id": "fL7iWkjyyFY-",
        "outputId": "2c17c0c8-1656-4b65-e4f7-3f91d4d82612"
      },
      "execution_count": null,
      "outputs": [
        {
          "output_type": "stream",
          "name": "stdout",
          "text": [
            "Accuracy: 0.9487427466150871\n",
            "Precision: 0.7701863354037267\n",
            "Recall: 0.8857142857142857\n",
            "F1 Score: 0.8239202657807309\n"
          ]
        }
      ]
    },
    {
      "cell_type": "code",
      "source": [
        "#Confusion Matrix of Logistic Regression with word2Vec\n",
        "confusion_matrix4 = metrics.confusion_matrix(y_test1, y_pred_class4)\n",
        "cm_display = metrics.ConfusionMatrixDisplay(confusion_matrix = confusion_matrix4, display_labels = [False, True])\n",
        "cm_display.plot()\n",
        "plt.title('Confusion Matrix of Logistic Regression with word2Vec')\n",
        "plt.show()"
      ],
      "metadata": {
        "colab": {
          "base_uri": "https://localhost:8080/",
          "height": 295
        },
        "id": "6QNKrIpvOsfM",
        "outputId": "0cbcb47e-734f-46b6-a54f-7e2779e5231c"
      },
      "execution_count": null,
      "outputs": [
        {
          "output_type": "display_data",
          "data": {
            "text/plain": [
              "<Figure size 432x288 with 2 Axes>"
            ],
            "image/png": "[encoded data removed]"
          },
          "metadata": {
            "needs_background": "light"
          }
        }
      ]
    },
    {
      "cell_type": "markdown",
      "source": [
        "Random Forest Classifier using Tf-idf"
      ],
      "metadata": {
        "id": "s92H7JVQvv9P"
      }
    },
    {
      "cell_type": "code",
      "source": [
        "#Random Forest using Tf-Idf\n",
        "from sklearn.ensemble import RandomForestClassifier\n",
        "\n",
        "rf = RandomForestClassifier(n_estimators=500, criterion='entropy', max_depth=500)\n",
        "#fit\n",
        "rf.fit(x_train_res1,y_train_res1)"
      ],
      "metadata": {
        "colab": {
          "base_uri": "https://localhost:8080/"
        },
        "id": "-JJ1KVg5Vc9C",
        "outputId": "72b26995-6e9e-4c42-f427-86cdc822af6b"
      },
      "execution_count": null,
      "outputs": [
        {
          "output_type": "execute_result",
          "data": {
            "text/plain": [
              "RandomForestClassifier(criterion='entropy', max_depth=500, n_estimators=500)"
            ]
          },
          "metadata": {},
          "execution_count": 66
        }
      ]
    },
    {
      "cell_type": "code",
      "source": [
        "y_pred_class5 = rf.predict(X_test_transformed)\n",
        "\n",
        "# predict probabilities\n",
        "y_pred_proba5 = rf.predict_proba(X_test_transformed)"
      ],
      "metadata": {
        "id": "ufew82CAVuG9"
      },
      "execution_count": null,
      "outputs": []
    },
    {
      "cell_type": "code",
      "source": [
        "# Metrics of Random Forest with Tf-Idf\n",
        "from sklearn import metrics\n",
        "rf_tfidf_acc = metrics.accuracy_score(y_test1, y_pred_class5)\n",
        "print(\"Accuracy:\",rf_tfidf_acc)\n",
        "rf_tfidf_pre = metrics.precision_score(y_test1, y_pred_class5,pos_label='spam')\n",
        "print(\"Precision:\",rf_tfidf_pre)\n",
        "rf_tfidf_rec = metrics.recall_score(y_test1, y_pred_class5,pos_label='spam')\n",
        "print(\"Recall:\",rf_tfidf_rec)\n",
        "rf_tfidf_f1 = metrics.f1_score(y_test1, y_pred_class5,pos_label='spam')\n",
        "print(\"F1 Score:\",rf_tfidf_f1)"
      ],
      "metadata": {
        "colab": {
          "base_uri": "https://localhost:8080/"
        },
        "id": "8VRPh3tfVwos",
        "outputId": "351612aa-0bd3-4397-ce4c-c9b90510e827"
      },
      "execution_count": null,
      "outputs": [
        {
          "output_type": "stream",
          "name": "stdout",
          "text": [
            "Accuracy: 0.9564796905222437\n",
            "Precision: 0.8187919463087249\n",
            "Recall: 0.8714285714285714\n",
            "F1 Score: 0.8442906574394465\n"
          ]
        }
      ]
    },
    {
      "cell_type": "code",
      "source": [
        "#Confusion Matrix of Random Forest with TF-IdF\n",
        "confusion_matrix5 = metrics.confusion_matrix(y_test1, y_pred_class5)\n",
        "cm_display = metrics.ConfusionMatrixDisplay(confusion_matrix = confusion_matrix5, display_labels = [False, True])\n",
        "cm_display.plot()\n",
        "plt.title('Confusion Matrix of Random Forest with TF-IdF')\n",
        "plt.show()"
      ],
      "metadata": {
        "colab": {
          "base_uri": "https://localhost:8080/",
          "height": 295
        },
        "id": "Otu_BTNyMrkK",
        "outputId": "50ed8ccf-1f04-4da5-eff3-3c84995ce851"
      },
      "execution_count": null,
      "outputs": [
        {
          "output_type": "display_data",
          "data": {
            "text/plain": [
              "<Figure size 432x288 with 2 Axes>"
            ],
            "image/png": "[encoded data removed]"
          },
          "metadata": {
            "needs_background": "light"
          }
        }
      ]
    },
    {
      "cell_type": "markdown",
      "source": [
        "Random Forest Classifier with GloVe"
      ],
      "metadata": {
        "id": "ptOgeVdnv74y"
      }
    },
    {
      "cell_type": "code",
      "source": [
        "#fit Random Forest with glove\n",
        "rf.fit(x_train_res2,y_train_res2)"
      ],
      "metadata": {
        "colab": {
          "base_uri": "https://localhost:8080/"
        },
        "id": "0T23i2B3fycv",
        "outputId": "af829ac8-ecc9-476a-90a6-0e324caa5ef8"
      },
      "execution_count": null,
      "outputs": [
        {
          "output_type": "execute_result",
          "data": {
            "text/plain": [
              "RandomForestClassifier(criterion='entropy', max_depth=500, n_estimators=500)"
            ]
          },
          "metadata": {},
          "execution_count": 70
        }
      ]
    },
    {
      "cell_type": "code",
      "source": [
        "y_pred_class6 = rf.predict(xval_glove)\n",
        "\n",
        "# predict probabilities\n",
        "y_pred_proba6 = rf.predict_proba(xval_glove)"
      ],
      "metadata": {
        "id": "9z3KXguRf5oX"
      },
      "execution_count": null,
      "outputs": []
    },
    {
      "cell_type": "code",
      "source": [
        "# Metrics of Random Forest with glove\n",
        "from sklearn import metrics\n",
        "rf_glv_acc = metrics.accuracy_score(y_test1, y_pred_class6)\n",
        "print(\"Accuracy:\",rf_glv_acc)\n",
        "rf_glv_pre = metrics.precision_score(y_test1, y_pred_class6,pos_label='spam')\n",
        "print(\"Precision:\",rf_glv_pre)\n",
        "rf_glv_rec = metrics.recall_score(y_test1, y_pred_class6,pos_label='spam')\n",
        "print(\"Recall:\",rf_glv_rec)\n",
        "rf_glv_f1 = metrics.f1_score(y_test1, y_pred_class6,pos_label='spam')\n",
        "print(\"F1 Score:\",rf_glv_f1)"
      ],
      "metadata": {
        "colab": {
          "base_uri": "https://localhost:8080/"
        },
        "id": "PtAPuKX0gAzf",
        "outputId": "01260d11-75f6-4e1b-ec00-1d406594f9f4"
      },
      "execution_count": null,
      "outputs": [
        {
          "output_type": "stream",
          "name": "stdout",
          "text": [
            "Accuracy: 0.9584139264990329\n",
            "Precision: 0.8489208633093526\n",
            "Recall: 0.8428571428571429\n",
            "F1 Score: 0.8458781362007167\n"
          ]
        }
      ]
    },
    {
      "cell_type": "code",
      "source": [
        "#Confusion Matrix of Random Forest with glove\n",
        "confusion_matrix6 = metrics.confusion_matrix(y_test1, y_pred_class6)\n",
        "cm_display = metrics.ConfusionMatrixDisplay(confusion_matrix = confusion_matrix6, display_labels = [False, True])\n",
        "cm_display.plot()\n",
        "plt.title('Confusion Matrix of Random Forest with glove')\n",
        "plt.show()"
      ],
      "metadata": {
        "colab": {
          "base_uri": "https://localhost:8080/",
          "height": 295
        },
        "id": "Q5CTNC-ROFDP",
        "outputId": "ad8abc09-1dce-4d3c-ce4d-4dbdde0f5c8b"
      },
      "execution_count": null,
      "outputs": [
        {
          "output_type": "display_data",
          "data": {
            "text/plain": [
              "<Figure size 432x288 with 2 Axes>"
            ],
            "image/png": "[encoded data removed]"
          },
          "metadata": {
            "needs_background": "light"
          }
        }
      ]
    },
    {
      "cell_type": "markdown",
      "source": [
        "Random Forest Classifier with Word2Vec"
      ],
      "metadata": {
        "id": "IZyY4QgNwBqU"
      }
    },
    {
      "cell_type": "code",
      "source": [
        "#fit Random Forest with word2vec\n",
        "rf.fit(x_train_res3,y_train_res3)"
      ],
      "metadata": {
        "colab": {
          "base_uri": "https://localhost:8080/"
        },
        "id": "bWtoRRB5yLjQ",
        "outputId": "b4d3d1a5-8e8e-4e5b-b5c4-58e70087b255"
      },
      "execution_count": null,
      "outputs": [
        {
          "output_type": "execute_result",
          "data": {
            "text/plain": [
              "RandomForestClassifier(criterion='entropy', max_depth=500, n_estimators=500)"
            ]
          },
          "metadata": {},
          "execution_count": 72
        }
      ]
    },
    {
      "cell_type": "code",
      "source": [
        "y_pred_class7 = rf.predict(test_vec)\n",
        "\n",
        "# predict probabilities\n",
        "y_pred_proba7 = rf.predict_proba(test_vec)"
      ],
      "metadata": {
        "id": "-bKUh3btyTIr"
      },
      "execution_count": null,
      "outputs": []
    },
    {
      "cell_type": "code",
      "source": [
        "# Metrics of Random Forest with word2Vec\n",
        "from sklearn import metrics\n",
        "rf_glv_acc = metrics.accuracy_score(y_test1, y_pred_class7)\n",
        "print(\"Accuracy:\",rf_glv_acc)\n",
        "rf_glv_pre = metrics.precision_score(y_test1, y_pred_class7,pos_label='spam')\n",
        "print(\"Precision:\",rf_glv_pre)\n",
        "rf_glv_rec = metrics.recall_score(y_test1, y_pred_class7,pos_label='spam')\n",
        "print(\"Recall:\",rf_glv_rec)\n",
        "rf_glv_f1 = metrics.f1_score(y_test1, y_pred_class7,pos_label='spam')\n",
        "print(\"F1 Score:\",rf_glv_f1)"
      ],
      "metadata": {
        "colab": {
          "base_uri": "https://localhost:8080/"
        },
        "id": "U6sugPwLyhcD",
        "outputId": "13c88704-3867-4ef6-ad56-cc8740452054"
      },
      "execution_count": null,
      "outputs": [
        {
          "output_type": "stream",
          "name": "stdout",
          "text": [
            "Accuracy: 0.9729206963249516\n",
            "Precision: 0.9307692307692308\n",
            "Recall: 0.8642857142857143\n",
            "F1 Score: 0.8962962962962964\n"
          ]
        }
      ]
    },
    {
      "cell_type": "code",
      "source": [
        "#Confusion Matrix of Random Forest with word2Vec\n",
        "confusion_matrix7 = metrics.confusion_matrix(y_test1, y_pred_class7)\n",
        "cm_display = metrics.ConfusionMatrixDisplay(confusion_matrix = confusion_matrix7, display_labels = [False, True])\n",
        "cm_display.plot()\n",
        "plt.title('Confusion Matrix of Random Forest with word2Vec')\n",
        "plt.show()"
      ],
      "metadata": {
        "colab": {
          "base_uri": "https://localhost:8080/",
          "height": 295
        },
        "id": "iCP2b3JXPSNP",
        "outputId": "9da73af1-f499-4b23-b884-09211fdc5869"
      },
      "execution_count": null,
      "outputs": [
        {
          "output_type": "display_data",
          "data": {
            "text/plain": [
              "<Figure size 432x288 with 2 Axes>"
            ],
            "image/png": "[encoded data removed]"
          },
          "metadata": {
            "needs_background": "light"
          }
        }
      ]
    },
    {
      "cell_type": "markdown",
      "source": [
        "![image.png](data:image/png;base64,iVBORw0KGgoAAAANSUhEUgAAAToAAABjCAIAAACE1luAAAAAAXNSR0IArs4c6QAAAERlWElmTU0AKgAAAAgAAYdpAAQAAAABAAAAGgAAAAAAA6ABAAMAAAABAAEAAKACAAQAAAABAAABOqADAAQAAAABAAAAYwAAAAB5+rCvAAAlqElEQVR4Ae3ddaBtRfUHcLC7ExO7uxsMELtbRMX2p4iKggGK3Y2JjYiFip0oNmA3dnd3/D73refceTOz9znn3nPvee8y+49zZs9es9aatff0+s5sv12/NroFvvzlL2/0LB5f8re9jP73v/89vmT3+JfP7bfffoHv9ytf+crFL37xBVp94QrMMe/ycoI5suusugW6BdbUAr24rql5O/NugXlaoBfXeVqz8+oWWFMLbFFc3/CGN5xgy+uEJzzhv/71rzXVoDPvFugWmNICWxTX05/+9Be4wAXMTMSlrF7mMpcxVzElr07WLdAtsKYW2KK47rLLLgceeCB5JzrRieL3Yx/7mEK7phrkzFUT+W0Pdwt0C+QW2KK4evCe97zH7z777KNR/dvf/vb+978/Uf/kJz/Zfffdz3Oe81zjGtd46EMfaoJe59nTZvytbnUrBK5Xv/rVaoEIH3LIIej322+/uH3MYx7zzGc+82IXu9iRRx558MEHX+1qVzvVqU518pOf/AY3uMHXv/71kFszxySSx+9znvOcdHvssccmbXugW2DjWWCpFc2v9773vW7vfOc7H3HEEZ///Off8Y533OxmNxPzxz/+8VrXutZxxx0n/IMf/OCoo44S+M1vfjMUr6h/85vfNO799a9//de//vUb3/jGv//9b2Gp/v73v//4xz/+/e9/7/bnP/+5mC996UsHHHAAshvd6EYf/vCH1RF77LHHJz/5ySHmf/7zn7///e9LeNrTnvaf//znd77zHeLOetazEiGyX90CG9UCW7Suio3WTFa1jd/+9rcFFNrooL7lLW+Jsvq2t71NSbvlLW8ZFhmKl/CiF71o0Gg8z3e+80XY79Of/vSHPexhAsrq5S53ude97nV3vOMdf/GLX+h4Y7vnnnt69NWvftVvk7lm/3vf+56mGIGqRDt/7nOf+6QnPalF5Ctc4Qoi+9UtsFEtsEXrGk2r2aazne1spz71qT/96U//7Gc/++xnP3ulK10peqfnOMc5orF94xvfqEFTSB796EczTR0/jb0UPH3vM5/5zNrbK17xip/73OdSKi2t8JBQjx7ykId84hOfUJ5vf/vba8Zvd7vbnfGMZ0zJe6BbYENaYIvWNQauL37xiz/4wQ9+5CMfMYyU57e//e1+d9xxR7/a3uiFvvzlL3/yk5+sNzsUn4ylQ6s1juKXIiNw4QtfWFkVNnBVVo2Kv/jFL973vvdNZCPMb37zm3v6pz/96S53uQv6e97znilVD3QLbGQL6O7ql+penvjEJ5ZPDd3RRx+90047aTzdWt259a1vrZk905nO5NZsUKzuaBs1bkPxeGrx0J/sZCeLYi98iUtcQrNs8vkiF7mIWyNPbfWvfvUrPWe32nOd5CjAbj1SNTSFYu569rOfjcyl3P7nP/+JyP5bWIB9ipj1vIUuWE9xtayFK1CrtOKYzVAN6X/4wx9u+vI3/3zoQx9KZSzKAxoN4JWvfGWlNGKe97znheCheNNRhq/WhHbddVclM1g//vGPv/GNb7xZzKY/ovG5173uheYMZzjD1a9+9fTUlNIQc0n+8Ic/BFs8Q5P+W1uAMevIdYtZeGlZuAJzNLW8LJU9HFMJmRhQhJSTs5/97AXlULwhrga2IG7ehvtULPkWBEPMzVTpP2uEDZ6LJP02LKB6nen9ztduCwfELFyBOdpTXpanmqLZnCP3dWN1znOeM2Qt8Ltct8x2QcdnCyxPNc2x1V4HVpwluFu5LCwlccfnF9nz3i3QLdAt0C2wFVlg5rHrVqR7V2UKCyx27LpY6cyzcAWmeEXTksjLcmd42kSdrlugW2BBFujFdUGG72K7BWa3wPLM8Oxpe4pt0gJ8YAJZkWt/mtOcBtBKzHe/+91PfepTN7nJTfjDJAKgDh6pPLrN7UWk1XIe5sLgUNzRIrKZNjFJAQAPDqTW2K997WvDfvz0pz+93vWuZ0HuRz/6ERoL72mVPiUB5MjBYdxsEmZLOPdIT0mKQM6BKw5ASHgdWAIkLnzULSJCgxUJR25rI3Cn5Q7I8wdY5XSnO10uFJ8VqN2QnmZWe2DjWcD7LjJVuKnEB8HhDNkLXvACAyQxPmhlLyW8xS1uIVKBSTEvetGLIuFzn/vciGymRZOSCFg/32233SKhXw5zO+ywg8/ao7ve9a4R/5nPfCZPEuGifglUdtA/6UlPqulTDJoI//KXvwx6v2oHTj5xC14CxRnhU5ziFCnhNIHCCArnda5znWDFIxCabcVqN6UH5y0M2qTrkduuBbzjQnnFVXsY/uGeAiRrV6O4Xv7ylxfDhfuYY47JU33gAx94wAMewPc7Rf7ud7/jiIY4Fddm2kI6DKYYLZvy9u53v1tRcRvFVRvLZ85ts7gqCXBd4WnHiU37vPfeeyN+3OMeJ5y0qgNoIhKH8HUVo/vAeTZca7jNEX3BC16QD6z4msNITGEERsOc0/ub3vQmgZ133nnFajeF4rl0NZ/1yI1hgfr9Kq6cQ3XYNr387aCab3rTmyquoIjR19Vny/OuaAFpuaIgPfWpT9X26sdGvzGK61DaXLrmOiQedNBBwR8++T73uQ9MVdz6vhGElEMPPZSSyifHNZVFENz2trdFANTh9oY3vOFJTnISiGthSDJ+7Kc85Sk1m/xngzh+cwXERI3wqle9KtCgnr7yla9U4PUp7nCHO0SSWvT97ne/sMDrX/96HvXW/JtGgF2D0/b7lKc8BWde98FwJrXBSNVi5z3vedWGOvkANsHEL55LV7rvgY1ngfr9ahNAqfLiqtn03UNZ+eLR++ZyO9gzJPzGPvrRj0IaIzDGM8K0CZ9wFNehtAgSq1e84hVuXbqIIv1qYOMycBWTiqudCTDXNVUmyRKwAwGCww8/XHLDbMgwcBT1jkiuecqt4qRaAfw0EKWk+LjQ/y+49B/9Xh3ypz3taUuqbLcdh/boGL/5zW9G0BT9whe+8FznOhfiAL3YwES4NkIIUtrVeiyp4EXM9Gor6tKqO65ylavodJDy2te+Npj4dbt0pfse2HgWGHq/eXFNuVapo/fIvjyaEdc97nEPT02ciFdctSoC2lKR2mTh1BlOaRM3AQTpNrb+EQOeKfKtb32rcFz777+/mFRcH/nIR4oHzxJ5m9vcRjga5H/84x8mqNyaCfP7mte8BgFVhS95yUsa/V7oQhcSfslLXiI+Lrf/Cy79mxxSGBR1PQglSpFzmS0T/stf/oJgSHRIvOpVr6qmGzGCdh7z85///FEBhejp1Q7pehwS2skILDTvn8tLX8hhhH6VFjCcM/XqMiecPwPYcBuYjSmRGym5TQ6is21srBt8zWte8/nPf348jb1BEqXvW1ij6lfL6TdilIQovWZxSI+dEgBOEGhyjUXtguKLD5i0yPrSTdAvMKSUNcTXv/71AUu0z9rbGBgPiQ5WesXqiyEjQF/rx6oyNJL6Dk984hMj1fRqh3R1h4Sqvwc+8IHRe98iI1EH9N8NaQFvus6Xj3WvvfaKj0D7GcNF3temakX6zvIkds8yjBRvEiVmU5SNO93pTlFc7RPwta99bShtIT02/RGpb4lDYJs1qlo2U186tB496EEPijkhUGfFw3qSQm7RKFQy4YTGpbBFTGyfYKsD6GvDWv1n7VLSH2UKRyDNCeujGrgu8dpuOzDseKpz7rYQ7WmygOWfWPWpjRDdBwZ5xjOecd3rXteMWhI9pdqxWKU/zwj6CzRRMSUmS4q60n0PbDwLNN+vj2DTm9/8Y0FCxqNzK0o7k9vBp5OINRq23dHi2b8yIZONr4bSSpizsovAS1/6Uu2PLqjRqV6ofrW1SjQ22UxSNDLITDKJUYMoVIkJDrbmEp8KmEf2P6GMXq6yfe9731vjmegLBcTrOBCN0g4nhvGGo/KrYUxJatEmjZJuRuAom0awCVkiE6Bn4jm92gYXMWqV8Rh0JCZ4dp/h3MIbMOwj9r7nmzEFTInFeSLbIelKFCa5J0aTlVG0LbgKQYqZHqweY8x1pYRmy3zoRWRTAYUTWXS2LQXjEP3PxEqgKTonmN4IkWomtVWLuh51XnpxzV/BBgw3v9d1y+dipcvmwhWYo6nlpU81zdGenVW3QLdAt0C3QLfAJgv0zvAG/xAW2xtcrHSvduEKzPHz6p3hORqzs+oWWHML9LHrmpu4C+gWmJcFlvGu1sqTYxovKuvOZJh9tkqehHHCipX0FJMCI3jFGi2ZUq0+MM68qVXKqYV+a/RglshCE2vT4R1aKPaFL3zBMpqFh9j3uJhhL4jrWwv3lvsi3kKfxQlLjpxdasr1ibGSwS1BLrj1QKIkoezAO5cbbbhApPgIDKXylN8FM/KwL5L02/lbINZhw2MzuPMwjkjoqlwe54y0aFsECryi79su/kFToyWLtKu5HWdeaBWCEihR1jh5ck9PeQyHgUIfHvAca+52t7uFkzrHl4Jg4q1jEJKICECQBJpkYtpVEhBXcLBkf6lLXUq1e5aznIXrrDo6CLg6iOS+owCHn1OecCgVGkuXHJKA43L6CNfSa5o1jVm4AnPMXXw5m18n1ypunDA7UevzLCOJP0c0s0gVXQfeDInXeiS8IjChNkQDEsQ1WnKIyQrix5nnWiXmcspHLDIvd5qFcO+EtLA8ncjywMte9jIVkGPynPTBSTV/NE3YoVvhGcNDja9c7JaQe6JPw2RlNPX3CimiWMqFYsbByFGdONtaXWMrg8KMw8eoENdMFTQPfvCDSenFtbDY3G8ZeXnsqlrVSePoGPALnl+ASHay0Kqgc6mS9Qb1lGB5NQ6+YAFX4INgl5JrCEdnPh/xjT7hCU+AMND1ss0Hp6pIIkY50fxqYYI5nzJ+bRxNoJwhNkTe/e53D2JOrUo+X1DeobhRAzgz3Ohy5hxl7n//+6vmMbn0pS/9vve9D5NcqxDkV045herv8QWnlRMrA8lBAQ1Ok48KiJMqT3Q0nONCMW63EaAetiRe9rKXZSI9zHwE4RGyOCDPUwcgmOITyVy1LO84ePp97GMfm8I6ojV/RQ7Yjds673kZVxFgO/GyjUs0oQzlbcLZSAL1qkLhSUOl3/72t/WQp5lKwo9//OM6HZx7J8rtBPOxQKoG1P1Gp9y18bUrh8MgdQJhjkKMN4oyToj02SmBulIeBY7Jo+hO60dFdcsj7BGPeESOllTCw6tbd0vBkDbgfE2Q4bOe9aw4z4p/abiJolfGYhMA9QWJOXPVP/3/b9OFUjch8pW0itv4VVNQD8QRpbwEgjE2N2nySYL0hKP7TRPNo+8eBzXaOOqS0KI/DJvGk64pi+87ni6GjRNrbZLEt75GdQZok3SlhUlzbGTKLD4pHAH9JiaFhoFKk/ccjK7br65husCX5gmbqaIbjBVNeuuam2stwps+iux1RnHlYB1lyUsFLFLdBl0UV3roNXnNAnG4Y11c9awkSZ3hhJaURHXgkamXAEbYwkPkEMhQo4HY7A6VAt+kNY45mwR3yJn7Xn3Zjn6XSm8cZ9dIcfU0+qjhVJ32ImrySYIUs9hMzInVvnUlCp9x1CWCKK62Wdl3332jpY1eaFNWZFy7p/BoPEls8ldjyqnXpPBjq/AQVFwIihi3tjtQHZtU8zp0FoJAEdV30IOwu0Jz1FOn2meffdS/ekagMGquww47zNeSi2tKzwlGwgZfPgxXoGFHKEcerUaBEbb5o7nomTMcCsvLcmfYTVzGrlHB+0pST/h/Dzf/wysWMTPd+sJi7tEEhoQB89M3E87xjcFTPJWipy0cRSsS5kIVNgVVX0C/UfyUGhqL6kFAZiRWE/mgj76f7YvMiEadNSXqUjdeBz7wKzq3Q7IAPuhjIyIjc91dEpv8NWjqSkXF9Ljht75MysVIAOKZkY3YpTIcgKtEzFwqFEXX8AdcswCgImimQq/MO+nX+AU3u5wZBCGey2UwpafmUl/PheEaMVlvPaM0G4EYKal0fcGmVeTNAAYSV/UW+TSGjG01tGxi9AljDcAmN+LV9AmvqHpGoAW2H0eOlrSBQLRLGlUbaqDxwZHVBBnqqcaaCpCkEhgdYxgla0sSKr0UzpmTJX7PPfc05DM4dMFV5Vr5IiOnpoI1BZrfqLajvEkbrWtstFPwyQUBZ9pSIFp7dUe0aeOoS0jIGDgY3BqTx1TTwx/+8KYsSmqjov8vF7EjYZN/wDWN2O3lpctjGryumOWriPzWt76FmM1NuWnnNYkIWFuOnPGpbCh+ZhBEqkZVTN6acDNVcGYBNYUW3qA3YtJvLT09Wp/AwhWYYzblZekKjtFpdBuDGRVnbEKxiWTzj7EWYuhbRVGtHOXTM8shBV7RzJB4fa0cLZmP3wxNg2msndQgw1122WWz1E2ntsegV5scxdUj80M5c5NGCr+GyAS1rxyBUW6hVeQ0OsAItNVibGmZd4b1t2s+uaCYPY7z2sUHT78jqMs847JgcKiM6XA2ZQXDAE/qDI/wt0WYXETtqSJQ8SXiFECQwilgAkJdrM9ipK+fIv5Rj3oUynRpXUWqmMTEJixu61TBME1x1b1WyYNmUb8LV2COGZeXpc8aR78zXfo8WqfxJMpVNEHjZPnTiSDDnLgZnv442Ty571LPX4uttEf8RD4soLzpXxR2UAIVfs1Xzn883JSl9TNxYJ+u2EcvcWjyFxmbGCWyFFBzNd9v1HqzvqBZUw1JT+qtdWDhCswxg/KywuI6RyU6q9oC2jrTrVo/w4oYzNc0U8Ys9ntdrHQmWrgCU76macjkZdkJcZoEnWZ9LKBna4bJAHKVZXV9tO1SugW6BboFugVKC/TOcGmRDXa/2N7gYqV7lQtXYI6fk7zMMCMyR8GdVbdAt8AKLNCL6wqM1pN0CyzGAstTTXxZ0qF6FiRzlNlMqo0DUHNWU1I6CzT3OuIibyYm57P+4Sk1X3/FppQ4hFz1DXALs+IdPmQ1tyYgdmKqgo+VXj5SJr2tKseKN4IhlSItz9OESRbj+4QeE3CAVXKS5QiQ0GORapW/IyqN4Hvr3A0pv0L1YiU3YcpwyXc0nnWddxyAail/VhxsuLnneeN9FQ4bs+o2L/rxPM5Lylz4sFvBx/fUxLtyt1ZKeXpbjFUCi1Rum4DY8VS1dL5lpHN64Ydj3tvCMs5DKiUd+FpyXOUQ4rK+xSktHgljxcWd80nuspIS1gqkR+OBEZUC2MCXpubQzN2Q8nXy8ZjNRSCIQC7iABL1VnG85ziX4ukIAHVlOFgHLkRT78sIEBm9fTqF3PW8Hcnjeqoxjaz6e1XT1XhXSFflgYMunlpXpxUWzJuA2ImpaulxvI3uEv777bdfACSaKuUKOKnRPv1iuJRwTeXUKcznEf8AFfDfhgPLk0S4VqCmacaMqDSC723mrql8U+h4pLwsj135HupniuIfU/Q2azAqMuv4nOmczJWAqZB3OQC1RmMO4WBxA5uEK+Bx7tAEW8/kp0Jwiw8IC8W4PTqbBD2ol19XjQIV2dSN31/AR71skBeYuDptrXMdk+eRrNo4I7DeJY0XfTWRq9ywuCUrPPLLIxpOuFCzCYidmKpg4tZL5IoM/eOXH3K82aZKeVp+6b4QMfy99Z8dCSvMB473NZ9qSEaOJcmtNU+44vCQSuP43mbumsqvWLHlzhIPUlwc7BWlXO2l3W+CUY1wTCu7Apktlf1iDDITLhT4q0ZjDuFgdb14/+HWPNaSMqDhefa4/vFSFt9EmQ7pVpzS6dg/nTHlHzbA1+nFAyrUOtcxeR6bxhmC9Y7XnWv0lN0Kzk3katCo0bwF3UuzGEWquG0CYkdS1dLxiR15OG+yvxIrZkSlXA0dVHDCtEGP7w1/bQx0AVb5UTopVVOB9HQk0FQpusEj+F4M69yFlEL5EdFDj+Rl6UqP8+JKM48gYAORUxy2GcfaxmjBqbgoIbyDT8KF1mjMIRxsiBg61hLbKK5GC/Qhi49+yGqiQEd0y0/pbKatda5jiE55bBoHQRPWGzqv82/+fpPoGrkaj2DBtFF6N05GT8QpMASIHUlVS3/Xu96l1w0bqIuoMQcADv5DKiXpAooQhuroiOTADDbIX9qtT1GPKSeOcK1ATTMUU6s0Ed87lDsiCuWHhI7Ey8vyzLCb5tUEo5o0Q2yCzu+Qm7jSZZBt7k4emJVDvF7iiIiYjTS/51hLsxE1pV6xPo92FZwNwNLcmJ4bsnS2p7DutBZPYEQ3oDCdlmZaA6RCZ++siHFGWNKtaZz0tID1pvjFBhJyVUNqAGI0SB+Vl9IIK68HpKMBb1QAD0yiBCAWbtELhc4xVTsxVZ1TcDxb86Q9ScxBmNHQr9E8guDmKtVpaa5jFVBET+HCvcTYpwZPimnBZgJX1CJSTNNKpsegLAEM6ayjAd8b57unVM3cxciiUD4lmTkQBVpuYw7WAM8cQBzFqTVrglHVcMSA0ZkjNTsnHK1rjgs1ohCvp5TQmLERRI2Dfec734nSV6KOrI+11PmJCXrGMjwO6LZ9D+BymyjQId0MMmOvFgBXp3Q209YI0jomz2NslAOLqwqQL116E2O+5iasd6TiXLtHDFswbyJXVX8KDJtYXzGlp88plcoo4V2bgNhmqlxcLV2jahYXCB4O0VyG94i+qVIuHY2Px/YDvoG0daMxFJ1NQBi+qmdtpZCLjnCtQE3TjGmqFJQ6njm+N9ezmTupauWbQscj5WXpCqLmJrGKq6c1GFWkcqj1MCllwIlJHHqvvG1iufQT27uYeRdGFmjMJg7Wmxs51tLIJPGEGjcbGe1wzOY3UaZN3RLMFTd1kyzUaWsEaR2T55HmtXFi95nQOc1/pBFXWHvdfqlRy6qRq/CD4PJKqRqHoWKdLMe7NgGxzVS5uFq6j1vTrcHRkELVxhyEJLVKuXQEsdCKYQyaQorBiLGrYbDVQYDnXHSEawVqmqGYWqWgLPC9uZ5DuWsqPyR3KF5elq6hx0W86QedjRR53HHHGbToEkSTdfTRR6dHRcBMYx4je/ltHtbH0OnKY6YME5EnnF43/Iu0IbHQOchGlCmMM0K5zo+G3q+3UL8INowllpmUHEk1JN2HVG890VRpoiaqDF3iIbIhBYboi/iVqdTMXcF5BbfyskIXfwNRexEa7Whg2UuJjRPgcVz4tTXrtv7G0Yj5MtZfbkhcrHQ6LFyBOVpeXlZYXFWohm0mdVQ/VtVNJA5NOM1R3SlZbc26TZmFOZIt9ntdrHRmXLgC832Vc+TWWXULdAusrQVW2LqurVKd+/wssNjmZbHSWXHhCszvTS7lZdkJcY58O6tugW6BtbBAL65rYdXOs1tgTSyw7NU0d1gp310+A7TmVxxuA6vMgWVx6yUFE+u6tiArIvvtuAWaSM5psKM2Dbd6x5eTd1GImCZVoczKpFsd4RhUoGSD8wj6tBA9022t55TI1RoVXLOaSZMtiGMJKFya8gerhJVyDAhu4UGxgoWmIgk0c65ehLnvFmSrvM0RuatktTUkZ6VCDd99E+86ETsKC6GUqnz9gnAE2/FU85Jutr9GyYYC4XbfRJ8iqBUorDF027TSNMjVGhXcZDUkdyQ+PvjNr3PusFIL7mCTZMyruHKSjj2yeZxZQ3JhPt/iyk+Di4wvcsRq29aj+nttIjknYkdZhscfB0zZB5nkuSUwMdW8pDdxpPEiRtCnCGoFItXE36aVJiJXm6jgJquJCtQE8rI8dh2BlUIAc+uDNeM3n45OHUF1Ap0B+APicd0mI101NDRhZUcOcU3JEyKXd64wx0Ye1eEcV3Om8ArQrTkiN8ndYIEmknMidlRB5RID4XzEEUc4hSjQGhNT1aZbmfQmjhTzcfRpLX36mKaeE5GrTVRwk9X0mpSUqRwPwUpVD5yHN52cugSI9c4kGUJ1RhH1arWBAY+I1lVj6FaBDxCDAKcoLrUTD3FN6gnk/roAq/GoyXll6NYckZvL3XbD3lehfBPJORE76mAk/Q7OMBz0AcT56GM7MdW8pJNV40inQZ/WChTWGLptWimIdW5z2G3NoUAFj7Cq047EyMvSlSiGYKUImseQNlGdShGeal+p9OOFo7gOQUOnOcQ1aRjFVdMKxKTSivghzitAtxaI3CR32w3k7zflokZyTsSOeomGqYcffjgvdkdU2s8Bt4mp5iW9iSOdiD6lYVOBZIfxQG2loFf8sE2w24KJRqg+JneIVZF2/JbQ5c6wm7j0ijVN6lH9HwgpkUPHkAa9hlSNK6zW8Rv4yYiJ3yDzmgUChmoUJBwx8VS8ryGgNsKxQV4wDIL8Vy/Xq4pynvgMcW6iW5XwHXfcMRC5s56PmmuyLYYTktN+jowAYCwXBXbUF1kY3w5JwDowxl4TyA4E4jSp0BTXyqQnHKnuKJCtPrCxNDDd2p0u29Qz8uKRyTZtRpE1t6bE6mNyR1jVHCbHRJkegZWqG3ApjjwdQnWGrz/IOOhzFFcdaa+/iZud5hDXVOUcfPDBAaYzirYdQYpvcl4ZujVH5Cb+23TAiyv0byI5m9hR9WnCu1qKAARXS1rIUc1BRGPbTJWLm5f0IRwpWQX6NJcuXCtQEAzdNq2EuEau5lZqooKHWA2JHoqXl6UrHo/ASu2v4Q2pXPOjU0dQnRDk2k9dAsPXEKEvTUoNDZ3mENekfb6Qo3pL8U3OK0O3YpUQuTn/bTec3m+ehSaSs8aOwm9Ins53VUHHTmgAWEYNwbBOlQual3RFoomSJatAn+bShZsKFDRDt00r1cjV3EpNVDD+TVZDcofi5WUGn+FiNxCJRy7HnyqxvBxrGtOJ3nrzUU08U8w0nKc5H9WQbOsBGM1kgZp4yGlWHhEX2dSX8/GpCms+EeNL4qli2j8nGEk1d+lmcdJO4rkOQ+EhBYboi/imlQqaKW9Xz0peZiiuU6rVybYqC6zye11lXhYrnfILV2CVBsyTy0tjqimn6OFugW6BboFugW6BboGZLdA7wzObbNtKsNje4GKle1MLV2COX0vvDM/RmJ1Vt8CaW6CPXdfcxF1At8C8LLCMdz322GPDSQBr3qHWWgBTuLC4rY8zrbGsNc0qVZwjQ/hDO8TTxzqwzcdDsRw9yyMqP8/WKh8YJxdLNuFcDuFgP+EiO/xArFRZOop4B1XE3uXm63mDJWJMYpv5FNMDuQWGgKA1sDZP5XVwptc5tBTvN380x3BTt4n43iGCGgS7QlVjWZbzVJHe1qRxAEl9nGmNZa1phlZ7R+JzrOlcGIas8A6XuzgQMSKHzrMFCoutzK3vKZBcFOMQoMI4XDV33nnnFGlv9GDLmy9FChx55JEj+V2HR3RYBylDIsal83NsIm+bwNpcBD+22PDA8n4eX4fHFajpU8yQbhqw8RNlmwQ1CDYJmj4gL0tXJOBcFp5AfAZ5ikQr5OAMT+vjTGssa00zvR5BWWBNV88wKaDXwB9LTvPiyi+yeZ4tX3aUe++990EHHSQQxdXHEWdbiVEgHcSkuHK35OMCnxR9EAxJZMN0hjdKmx4nNRYSoPBC5IbQcelNIGgTWFtn4aijjsJ87YprU7eJ+N4mQRMEW+doYoz8Lo9d+c2Hixk0qYMMoo/B5744zrSJZc1ppgGaEsxLuzjQNcea5gwR13DWIbRtE5rriIcAD2CVLi7asulWdzc/z1b2RZKownL+SpwVpLecdtvQIEiChi8ei2mK40A6p+kAD0KWOazFUxfK4Ba3/bewQBMI2gTWFgnX4bap20R8b5OgCYJdeRZSsS76w7yI7dCfH2c6hGXNaaYBmho38kBWI+QHuuZY05xhE846hLZtQnNlMDqueesqMj8g062qkb+4ExwS1scuUI5L0pVwBkcaprI+V7gYJuiJGJ3GwVY77LAD11D5MrCPl4Ey2XZRAZosSjS549L1R8C5HJeqIxNbDkjSBNbWWVjr1rWp20R87whBAYKtczQxZnMJT3RRXPX09t1332hpDzjgAE/TcaZDWNacRngi0DQQqsWBrgXWNAkN4uKAWVKaaFvxTWjuxOKqoDKH4oeDSsoHFBZw7JIYV15cI8ZvFFdTU+FG6+PbbbfdtPBh2W29uOrMM75r//33T1meKTBeXLGqgaBNYG0tdK2La1M384jjJ8oOETRBsHWmxmMYc7kzHF+YX6MyfdFAlusNpniBISxrTpPCI0BT3zey6KDCWzrQNcaWKW0eCOIhOGuBth2H5uZsh8I+IBtcxHZQaExRFsjPOqGxq469eOU89YRrsm0uxnSG/oiLEdZC+SYQtAmsXQvp4zybuqm/8hNltcDFt9EkaIJgx6WPPY0yfcghhwTi1kDOFkox1eQQQWOJOGPOsajHHHMMRjWWNafRuCX6oWNUFSp8iLA7RDrQNZaRdIpMDOYMZzpDtQnNNUsEIksicWwX+R06z9ZGRCgZwVhaYNddd0Vva8y99trLrcu2Ur5gkTgY8OsDO2nWnLZH1mzUaJqjTYRLlIYPIW5RvzRZlGhyx6U3gaBNYK0qOyFvsdUVOuywwzB3SGR6oc1sjivQTBKRTd2a+N5ctyZBEwQ7InrokbwsXfE4H7iClZvwNGlkYjP2WwlK611NLGtOkzCukgwdo0qiPk8goXzisVOMyIQ1zRnOdIZqE5q7++67h/5+GTfyO3SerY4fsj322MMqjuklU2Lo7cSXOAhYxxIZHWy3qjm3NjeI7n1OaSwd4hb1S5lFiSZ3ovQmELQG1uaYUmwPPfTQZGTn/Y5kcKICI2mbuqmLixNlC91qgiEQ7Ijo5iN5WYnP8AiWNRmxDjSBpoqiVaz8gHq9/wKEmVgZPRpPTrMsPhM0N/EvAiOaFJRb8y1zefeL0nAa6exMveKl07kG1q4gF9MoMMK2qdsIvjdYTSQYkTjySF5WUlxHOPZHW5sFVvm9rjI7i5VO+YUrsEoD5snlpTHVlFP0cLdAt0C3QLdAt0C3wMwW+H9h3z+qiQqbvwAAAABJRU5ErkJggg==)"
      ],
      "metadata": {
        "id": "8B5OAH0c5tkn"
      }
    },
    {
      "cell_type": "markdown",
      "source": [
        "![image.png](data:image/png;base64,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)"
      ],
      "metadata": {
        "id": "FazRwCEs6MaA"
      }
    },
    {
      "cell_type": "markdown",
      "source": [
        "![image.png](data:image/png;base64,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)"
      ],
      "metadata": {
        "id": "l4-cD-KX522V"
      }
    },
    {
      "cell_type": "markdown",
      "source": [
        "![image.png](data:image/png;base64,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)"
      ],
      "metadata": {
        "id": "cQSS5vtS56YH"
      }
    }
  ],
  "metadata": {
    "colab": {
      "name": "NLP_Project (2).ipynb",
      "provenance": [],
      "collapsed_sections": []
    },
    "kernelspec": {
      "display_name": "Python 3",
      "name": "python3"
    },
    "language_info": {
      "codemirror_mode": {
        "name": "ipython",
        "version": 3
      },
      "file_extension": ".py",
      "mimetype": "text/x-python",
      "name": "python",
      "nbconvert_exporter": "python",
      "pygments_lexer": "ipython3",
      "version": "3.9.9"
    }
  },
  "nbformat": 4,
  "nbformat_minor": 0
}